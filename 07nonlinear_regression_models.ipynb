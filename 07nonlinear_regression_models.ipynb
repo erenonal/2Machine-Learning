{
 "cells": [
  {
   "cell_type": "markdown",
   "metadata": {},
   "source": [
    "# Doğrusal Olmayan Regreson Modelleri"
   ]
  },
  {
   "cell_type": "code",
   "execution_count": 5,
   "metadata": {},
   "outputs": [],
   "source": [
    "import numpy as np\n",
    "import pandas as pd \n",
    "from sklearn.model_selection import train_test_split, GridSearchCV,cross_val_score\n",
    "from sklearn.metrics import mean_squared_error, r2_score\n",
    "import matplotlib.pyplot as plt\n",
    "from sklearn.preprocessing import scale \n",
    "from sklearn import model_selection\n",
    "from sklearn.tree import DecisionTreeRegressor, DecisionTreeClassifier\n",
    "from sklearn.neighbors import KNeighborsRegressor\n",
    "from sklearn.ensemble import BaggingRegressor\n",
    "\n",
    "from warnings import filterwarnings\n",
    "filterwarnings('ignore')"
   ]
  },
  {
   "cell_type": "markdown",
   "metadata": {},
   "source": [
    "# KNN"
   ]
  },
  {
   "cell_type": "code",
   "execution_count": 2,
   "metadata": {},
   "outputs": [],
   "source": [
    "hit = pd.read_csv(\"Hitters.csv\")\n",
    "df = hit.copy()\n",
    "df = df.dropna()\n",
    "dms = pd.get_dummies(df[['League', 'Division', 'NewLeague']])\n",
    "y = df[\"Salary\"]\n",
    "X_ = df.drop(['Salary', 'League', 'Division', 'NewLeague'], axis=1).astype('float64')\n",
    "X = pd.concat([X_, dms[['League_N', 'Division_W', 'NewLeague_N']]], axis=1)\n",
    "X_train, X_test, y_train, y_test = train_test_split(X, y, \n",
    "                                                    test_size=0.25, \n",
    "                                                    random_state=42)"
   ]
  },
  {
   "cell_type": "code",
   "execution_count": 3,
   "metadata": {},
   "outputs": [],
   "source": [
    "knn_model = KNeighborsRegressor().fit(X_train, y_train)"
   ]
  },
  {
   "cell_type": "code",
   "execution_count": 4,
   "metadata": {},
   "outputs": [
    {
     "data": {
      "text/plain": [
       "KNeighborsRegressor()"
      ]
     },
     "execution_count": 4,
     "metadata": {},
     "output_type": "execute_result"
    }
   ],
   "source": [
    "knn_model"
   ]
  },
  {
   "cell_type": "code",
   "execution_count": 5,
   "metadata": {},
   "outputs": [
    {
     "data": {
      "text/plain": [
       "5"
      ]
     },
     "execution_count": 5,
     "metadata": {},
     "output_type": "execute_result"
    }
   ],
   "source": [
    "#var sayılan komşuluk sayısı\n",
    "knn_model.n_neighbors"
   ]
  },
  {
   "cell_type": "code",
   "execution_count": 6,
   "metadata": {},
   "outputs": [
    {
     "data": {
      "text/plain": [
       "'euclidean'"
      ]
     },
     "execution_count": 6,
     "metadata": {},
     "output_type": "execute_result"
    }
   ],
   "source": [
    "knn_model.effective_metric_"
   ]
  },
  {
   "cell_type": "markdown",
   "metadata": {},
   "source": [
    "## Tahmin"
   ]
  },
  {
   "cell_type": "code",
   "execution_count": 7,
   "metadata": {},
   "outputs": [],
   "source": [
    "y_pred = knn_model.predict(X_test)"
   ]
  },
  {
   "cell_type": "code",
   "execution_count": 8,
   "metadata": {},
   "outputs": [
    {
     "data": {
      "text/plain": [
       "426.6570764525201"
      ]
     },
     "execution_count": 8,
     "metadata": {},
     "output_type": "execute_result"
    }
   ],
   "source": [
    "np.sqrt(mean_squared_error(y_test, y_pred))"
   ]
  },
  {
   "cell_type": "code",
   "execution_count": 9,
   "metadata": {},
   "outputs": [
    {
     "name": "stdout",
     "output_type": "stream",
     "text": [
      "k = 1 için RMSE değeri:  0.0\n",
      "k = 2 için RMSE değeri:  179.52761335480352\n",
      "k = 3 için RMSE değeri:  205.20157172291863\n",
      "k = 4 için RMSE değeri:  220.5139794876305\n",
      "k = 5 için RMSE değeri:  239.6467132541376\n",
      "k = 6 için RMSE değeri:  243.5904190007242\n",
      "k = 7 için RMSE değeri:  258.1478781634636\n",
      "k = 8 için RMSE değeri:  266.05374203349805\n",
      "k = 9 için RMSE değeri:  269.73782093553376\n",
      "k = 10 için RMSE değeri:  271.2798300436963\n"
     ]
    }
   ],
   "source": [
    "#farklı k değerlerine göre model farklı değerler oluşturacak. Aşağıda tuning kısmında uygun k değerini bulacağız.\n",
    "RMSE = [] \n",
    "\n",
    "for k in range(10):\n",
    "    k = k+1\n",
    "    knn_model = KNeighborsRegressor(n_neighbors = k).fit(X_train, y_train)\n",
    "    y_pred = knn_model.predict(X_train) \n",
    "    rmse = np.sqrt(mean_squared_error(y_train,y_pred)) \n",
    "    RMSE.append(rmse) \n",
    "    print(\"k =\" , k , \"için RMSE değeri: \", rmse)\n"
   ]
  },
  {
   "cell_type": "markdown",
   "metadata": {},
   "source": [
    "## Model Tuning"
   ]
  },
  {
   "cell_type": "markdown",
   "metadata": {},
   "source": [
    "### Öncekilerde de gridsearch kullanılabilirdi ancak diğerleri özelleştirilmiş olduğu için gördük.Gridsearch ile hiper parametre arması yapacağız. ızgara mantığıyla olası parametre setinin verilip olası tüm kombinasyonların denenmesi anlamına gelir. İki paramtre verildiğinde bu parametrelerin birbirleriyle çarpıştırılarak olası tüm kombinasyonların denenmesi işleminin cross validation yöntemiyle hesaplanması işlemidir.\n",
    "#### Bir liste oluşturulacak ve bu liste içerisinde arama işlemi yapılacak"
   ]
  },
  {
   "cell_type": "code",
   "execution_count": 10,
   "metadata": {},
   "outputs": [],
   "source": [
    "from sklearn.model_selection import GridSearchCV\n"
   ]
  },
  {
   "cell_type": "code",
   "execution_count": 11,
   "metadata": {},
   "outputs": [],
   "source": [
    "knn_params = {'n_neighbors': np.arange(1,30,1)}\n",
    "#knn parametrelerini tanımlarken n_neighbors yazmamızın sebebi algoritmanın içindeki fonksiyonun kabul ettiği parametrenin adıyla aynı isim ile isimlendirmemiz gerekiyor.\n",
    "#1den 30a kadar k değerlerini oluşturduk ve aşağıda da bu k değerlerini deneyip en iyi hangisini olduğunu göreceğiz."
   ]
  },
  {
   "cell_type": "code",
   "execution_count": 12,
   "metadata": {},
   "outputs": [],
   "source": [
    "knn = KNeighborsRegressor()\n",
    "#Model nesnesini oluşturduk"
   ]
  },
  {
   "cell_type": "code",
   "execution_count": 13,
   "metadata": {},
   "outputs": [],
   "source": [
    "knn_cv_model = GridSearchCV(knn, knn_params, cv = 10)\n",
    "#cros validation yöntemini kullanıyorak knn cv nesnesini oluşturuyoruz aşağıda da fit ediyoruz. 1. argümana model nesnesini, 2. argümana denenecek parametreler, 3. argümana kaç katlı cross validation yapmak istediğimizi giriyoruz."
   ]
  },
  {
   "cell_type": "code",
   "execution_count": 14,
   "metadata": {},
   "outputs": [
    {
     "data": {
      "text/plain": [
       "GridSearchCV(cv=10, estimator=KNeighborsRegressor(),\n",
       "             param_grid={'n_neighbors': array([ 1,  2,  3,  4,  5,  6,  7,  8,  9, 10, 11, 12, 13, 14, 15, 16, 17,\n",
       "       18, 19, 20, 21, 22, 23, 24, 25, 26, 27, 28, 29])})"
      ]
     },
     "execution_count": 14,
     "metadata": {},
     "output_type": "execute_result"
    }
   ],
   "source": [
    "knn_cv_model.fit(X_train, y_train)\n",
    "#model fit etme işlemi ve kurma işlemi gerçekleşti."
   ]
  },
  {
   "cell_type": "code",
   "execution_count": 15,
   "metadata": {},
   "outputs": [
    {
     "data": {
      "text/plain": [
       "8"
      ]
     },
     "execution_count": 15,
     "metadata": {},
     "output_type": "execute_result"
    }
   ],
   "source": [
    "knn_cv_model.best_params_[\"n_neighbors\"]\n",
    "#en uygun parametreyi bulmak için"
   ]
  },
  {
   "cell_type": "code",
   "execution_count": 16,
   "metadata": {},
   "outputs": [
    {
     "name": "stdout",
     "output_type": "stream",
     "text": [
      "k = 1 için RMSE değeri:  0.0 RMSE_CV değeri:  325.3947514706382\n",
      "k = 2 için RMSE değeri:  179.52761335480352 RMSE_CV değeri:  293.24000183333817\n",
      "k = 3 için RMSE değeri:  205.20157172291863 RMSE_CV değeri:  283.7486667487823\n",
      "k = 4 için RMSE değeri:  220.5139794876305 RMSE_CV değeri:  286.3240222024089\n",
      "k = 5 için RMSE değeri:  239.6467132541376 RMSE_CV değeri:  290.0705466132226\n",
      "k = 6 için RMSE değeri:  243.5904190007242 RMSE_CV değeri:  298.1263115575851\n",
      "k = 7 için RMSE değeri:  258.1478781634636 RMSE_CV değeri:  294.77070479194987\n",
      "k = 8 için RMSE değeri:  266.05374203349805 RMSE_CV değeri:  291.98672028891235\n",
      "k = 9 için RMSE değeri:  269.73782093553376 RMSE_CV değeri:  295.7162739573105\n",
      "k = 10 için RMSE değeri:  271.2798300436963 RMSE_CV değeri:  301.31047022701154\n"
     ]
    }
   ],
   "source": [
    "#train seti üzerinden bir hata hesaplamıştık ancak bunu test train olarak ayırmıştık valide etmemiştik. valide edilmiş ve edilmemiş rmse değerlerini karşılaştırıcaz\n",
    "RMSE = [] #valide edilmemiş\n",
    "RMSE_CV = []  #valide edilmiş\n",
    "for k in range(10):\n",
    "    k = k+1\n",
    "    knn_model = KNeighborsRegressor(n_neighbors = k).fit(X_train, y_train)\n",
    "    y_pred = knn_model.predict(X_train) \n",
    "    rmse = np.sqrt(mean_squared_error(y_train,y_pred)) \n",
    "    rmse_cv = np.sqrt(-1*cross_val_score(knn_model, X_train, y_train, cv=10, \n",
    "                                         scoring = \"neg_mean_squared_error\").mean())\n",
    "    RMSE.append(rmse) \n",
    "    RMSE_CV.append(rmse_cv)\n",
    "    print(\"k =\" , k , \"için RMSE değeri: \", rmse, \"RMSE_CV değeri: \", rmse_cv )\n",
    "# aşağıda 1. kısımda test train üzerinden gelen direkt hatalar. 2. kısımda olanlar ise valide edilmiş hatalar.\n",
    "# görünüşte 2. ksımdaki hataların değeri daha yüksek ancek değişim miktarı daha az bu da onun daha yüksek olmasına rağmen daha güvenilir olduğu anlamına gelir.\n",
    "# valide edilmiş hataların değer aralığı 18 iken, valide edilmemiş değerlerin aralığı  89.\n",
    "# burdan da gördüğümüz üzere valide edilmiş değerler üzerinden işlem yapmak daha sağlıklıdır.\n",
    "# ayrıca yukardaki valide edilmemiş değerlere cross validation işlemi yapıldığında en düşük değer farklı çıkmasına rağmen valide edilmiş değeri biz k=8 almıştık daha güvenilir olduğu için."
   ]
  },
  {
   "cell_type": "code",
   "execution_count": 17,
   "metadata": {},
   "outputs": [],
   "source": [
    "# final modelini kuruyoruz optimum parametremiz k=8\n",
    "knn_tuned = KNeighborsRegressor(n_neighbors = knn_cv_model.best_params_[\"n_neighbors\"])\n",
    "#tune edilmiş modelin nesnesini oluşturduk aşağıda fit ettik"
   ]
  },
  {
   "cell_type": "code",
   "execution_count": 18,
   "metadata": {},
   "outputs": [
    {
     "data": {
      "text/plain": [
       "KNeighborsRegressor(n_neighbors=8)"
      ]
     },
     "execution_count": 18,
     "metadata": {},
     "output_type": "execute_result"
    }
   ],
   "source": [
    "knn_tuned.fit(X_train, y_train)"
   ]
  },
  {
   "cell_type": "code",
   "execution_count": 19,
   "metadata": {},
   "outputs": [
    {
     "data": {
      "text/plain": [
       "413.7094731463598"
      ]
     },
     "execution_count": 19,
     "metadata": {},
     "output_type": "execute_result"
    }
   ],
   "source": [
    "np.sqrt(mean_squared_error(y_test, knn_tuned.predict(X_test)))\n",
    "#tune edilmiş final modelinin üzerinden test hatasını elde ettik"
   ]
  },
  {
   "cell_type": "markdown",
   "metadata": {},
   "source": [
    "# SVR (Destek Vektör Regresyonu)"
   ]
  },
  {
   "cell_type": "code",
   "execution_count": 20,
   "metadata": {},
   "outputs": [],
   "source": [
    "hit = pd.read_csv(\"Hitters.csv\")\n",
    "df = hit.copy()\n",
    "df = df.dropna()\n",
    "dms = pd.get_dummies(df[['League', 'Division', 'NewLeague']])\n",
    "y = df[\"Salary\"]\n",
    "X_ = df.drop(['Salary', 'League', 'Division', 'NewLeague'], axis=1).astype('float64')\n",
    "X = pd.concat([X_, dms[['League_N', 'Division_W', 'NewLeague_N']]], axis=1)\n",
    "X_train, X_test, y_train, y_test = train_test_split(X, y, \n",
    "                                                    test_size=0.25, \n",
    "                                                    random_state=42)"
   ]
  },
  {
   "cell_type": "code",
   "execution_count": 21,
   "metadata": {},
   "outputs": [],
   "source": [
    "X_train = pd.DataFrame(X_train[\"Hits\"])\n",
    "X_test = pd.DataFrame(X_test[\"Hits\"])"
   ]
  },
  {
   "cell_type": "code",
   "execution_count": 22,
   "metadata": {},
   "outputs": [],
   "source": [
    "from sklearn.svm import SVR"
   ]
  },
  {
   "cell_type": "code",
   "execution_count": 23,
   "metadata": {},
   "outputs": [],
   "source": [
    "svr_model = SVR(\"linear\").fit(X_train, y_train)"
   ]
  },
  {
   "cell_type": "code",
   "execution_count": 24,
   "metadata": {},
   "outputs": [
    {
     "data": {
      "text/plain": [
       "array([403.52804878, 666.91219512, 706.66829268, 194.80853659,\n",
       "       423.40609756])"
      ]
     },
     "execution_count": 24,
     "metadata": {},
     "output_type": "execute_result"
    }
   ],
   "source": [
    "svr_model.predict(X_train)[0:5]"
   ]
  },
  {
   "cell_type": "code",
   "execution_count": 25,
   "metadata": {},
   "outputs": [
    {
     "name": "stdout",
     "output_type": "stream",
     "text": [
      "y = -48.69756097561513 + 4.969512195122093 x\n"
     ]
    }
   ],
   "source": [
    "print (\"y = {0} + {1} x\".format(svr_model.intercept_[0], \n",
    "                                svr_model.coef_[0][0])) "
   ]
  },
  {
   "cell_type": "code",
   "execution_count": 26,
   "metadata": {},
   "outputs": [
    {
     "data": {
      "text/plain": [
       "183    91.0\n",
       "Name: Hits, dtype: float64"
      ]
     },
     "execution_count": 26,
     "metadata": {},
     "output_type": "execute_result"
    }
   ],
   "source": [
    "X_train[\"Hits\"][0:1]\n",
    "#basit SVR ile tahmin yaptık"
   ]
  },
  {
   "cell_type": "code",
   "execution_count": 27,
   "metadata": {},
   "outputs": [
    {
     "data": {
      "text/plain": [
       "403.5280487804953"
      ]
     },
     "execution_count": 27,
     "metadata": {},
     "output_type": "execute_result"
    }
   ],
   "source": [
    "-48.69756097561513 + 4.969512195122093*91"
   ]
  },
  {
   "cell_type": "code",
   "execution_count": 28,
   "metadata": {},
   "outputs": [],
   "source": [
    "y_pred = svr_model.predict(X_train)"
   ]
  },
  {
   "cell_type": "code",
   "execution_count": 29,
   "metadata": {},
   "outputs": [
    {
     "data": {
      "text/plain": [
       "[<matplotlib.lines.Line2D at 0x7ffabcf67a90>]"
      ]
     },
     "execution_count": 29,
     "metadata": {},
     "output_type": "execute_result"
    },
    {
     "data": {
      "image/png": "[encoded data removed]",
      "text/plain": [
       "<Figure size 432x288 with 1 Axes>"
      ]
     },
     "metadata": {
      "needs_background": "light"
     },
     "output_type": "display_data"
    }
   ],
   "source": [
    "plt.scatter(X_train, y_train)\n",
    "plt.plot(X_train,y_pred, color = \"r\")"
   ]
  },
  {
   "cell_type": "code",
   "execution_count": 30,
   "metadata": {},
   "outputs": [
    {
     "name": "stdout",
     "output_type": "stream",
     "text": [
      "y = -8.814095480334572 + 5.1724561354706875 x\n"
     ]
    }
   ],
   "source": [
    "from sklearn.linear_model import LinearRegression\n",
    "lm_model = LinearRegression().fit(X_train, y_train)\n",
    "lm_pred  = lm_model.predict(X_train)\n",
    "print(\"y = {0} + {1} x\".format(lm_model.intercept_, lm_model.coef_[0])) # {0} formatın 1. değeri, {1} formatın 2. bileşenini yazar. printin farklı kullanımlarından biri. Format ile {} kullanımı.\n",
    "#linear regression ile tahminde bulunduk"
   ]
  },
  {
   "cell_type": "code",
   "execution_count": 31,
   "metadata": {},
   "outputs": [
    {
     "data": {
      "text/plain": [
       "461.879412847498"
      ]
     },
     "execution_count": 31,
     "metadata": {},
     "output_type": "execute_result"
    }
   ],
   "source": [
    "-8.814095480334572 + 5.1724561354706875*91"
   ]
  },
  {
   "cell_type": "code",
   "execution_count": 32,
   "metadata": {},
   "outputs": [
    {
     "data": {
      "text/plain": [
       "Text(0, 0.5, 'Maaş (Salary)')"
      ]
     },
     "execution_count": 32,
     "metadata": {},
     "output_type": "execute_result"
    },
    {
     "data": {
      "image/png": "[encoded data removed]",
      "text/plain": [
       "<Figure size 432x288 with 1 Axes>"
      ]
     },
     "metadata": {
      "needs_background": "light"
     },
     "output_type": "display_data"
    }
   ],
   "source": [
    "plt.scatter(X_train, y_train, alpha=0.5, s=23)\n",
    "plt.plot(X_train, lm_pred, 'g')\n",
    "plt.plot(X_train, y_pred, color='r')\n",
    "\n",
    "plt.xlabel(\"Atış Sayısı(Hits)\")\n",
    "plt.ylabel(\"Maaş (Salary)\")\n",
    "#linear regression ve SVR grafik karşılaştırması nı yaptık. yşil olan linear regression SVR kırmızı olan. Neden böyle çıktı?\n",
    "#SVR daha robust olduğu için değişmesi daha zordur o yüzden SVR daha aşağıda kaldıç"
   ]
  },
  {
   "cell_type": "markdown",
   "metadata": {},
   "source": [
    "## Tahmin"
   ]
  },
  {
   "cell_type": "code",
   "execution_count": 33,
   "metadata": {},
   "outputs": [
    {
     "name": "stdout",
     "output_type": "stream",
     "text": [
      "y = -48.69756097561513 + 4.969512195122093 x\n"
     ]
    }
   ],
   "source": [
    "print (\"y = {0} + {1} x\".format(svr_model.intercept_[0], svr_model.coef_[0][0])) \n",
    "#svr_model.intercept_ formüldeki y eksenini kesen yer, svr_model.coef_ ise x in önündeki katsayı değeri"
   ]
  },
  {
   "cell_type": "code",
   "execution_count": 34,
   "metadata": {},
   "outputs": [
    {
     "data": {
      "text/plain": [
       "array([403.52804878])"
      ]
     },
     "execution_count": 34,
     "metadata": {},
     "output_type": "execute_result"
    }
   ],
   "source": [
    "svr_model.predict([[91]])"
   ]
  },
  {
   "cell_type": "code",
   "execution_count": 35,
   "metadata": {},
   "outputs": [],
   "source": [
    "y_pred = svr_model.predict(X_test)\n",
    "#tüm test seti üzerinde uyguluyoruz"
   ]
  },
  {
   "cell_type": "code",
   "execution_count": 36,
   "metadata": {},
   "outputs": [
    {
     "data": {
      "text/plain": [
       "459.0187960365147"
      ]
     },
     "execution_count": 36,
     "metadata": {},
     "output_type": "execute_result"
    }
   ],
   "source": [
    "np.sqrt(mean_squared_error(y_test, y_pred))\n",
    "#test hatasını hesapladık(tune edilmemiş model)"
   ]
  },
  {
   "cell_type": "code",
   "execution_count": 37,
   "metadata": {},
   "outputs": [
    {
     "data": {
      "text/plain": [
       "SVR(kernel='linear')"
      ]
     },
     "execution_count": 37,
     "metadata": {},
     "output_type": "execute_result"
    }
   ],
   "source": [
    "svr_model"
   ]
  },
  {
   "cell_type": "markdown",
   "metadata": {},
   "source": [
    "## Model Tuning"
   ]
  },
  {
   "cell_type": "code",
   "execution_count": 38,
   "metadata": {},
   "outputs": [
    {
     "data": {
      "text/plain": [
       "SVR(kernel='linear')"
      ]
     },
     "execution_count": 38,
     "metadata": {},
     "output_type": "execute_result"
    }
   ],
   "source": [
    "svr_model\n",
    "#ayar parametresi"
   ]
  },
  {
   "cell_type": "code",
   "execution_count": 39,
   "metadata": {},
   "outputs": [],
   "source": [
    "svr_params = {\"C\": np.arange(0.1,2,0.1)} #parametre setini ifade eden dizi(0.1'den 2 ye kadar 0.1 artarak para metreleri alacağız) (daha az parametre verirsek daha kısa bir işlem sürer)\n",
    "svr_cv_model = GridSearchCV(svr_model, svr_params, cv = 10).fit(X_train,y_train) #svr_model üzerinde svr_params parametre değerleri ile 10 katlı cross validation yaptık"
   ]
  },
  {
   "cell_type": "code",
   "execution_count": 40,
   "metadata": {},
   "outputs": [
    {
     "data": {
      "text/plain": [
       "0.1"
      ]
     },
     "execution_count": 40,
     "metadata": {},
     "output_type": "execute_result"
    }
   ],
   "source": [
    "pd.Series(svr_cv_model.best_params_)[0]\n",
    "#en iyi parametre değeri (tek değişkenli değer için yapmıştık zaten 0.1) İlk başta 0.1 çıkmıştı aşağıda veri setini baştan çalıştırdık ve en uygun değeri baştan hesapladık gelen değer ise 0.4\n",
    "#tüm değişkenler dahil edildiğinde hesaplanan C değeri 0.4 yani. Ki bu da aşağıdaki tahmin değerini değiştirdi."
   ]
  },
  {
   "cell_type": "code",
   "execution_count": 41,
   "metadata": {},
   "outputs": [
    {
     "data": {
      "text/plain": [
       "0.1"
      ]
     },
     "execution_count": 41,
     "metadata": {},
     "output_type": "execute_result"
    }
   ],
   "source": [
    "pd.Series(svr_cv_model.best_params_)[0]\n"
   ]
  },
  {
   "cell_type": "code",
   "execution_count": 42,
   "metadata": {},
   "outputs": [],
   "source": [
    "svr_tuned = SVR(\"linear\", \n",
    "                C = pd.Series(svr_cv_model.best_params_)[0]).fit(X_train, y_train)\n",
    "#final modeli oluşturduk. c parametresini hemen yukardan hazır aldık.\n",
    "#SVR içinde linear kerneli eçtik baştaki \"linear\" satırı  ile\n"
   ]
  },
  {
   "cell_type": "code",
   "execution_count": 43,
   "metadata": {},
   "outputs": [],
   "source": [
    "y_pred = svr_tuned.predict(X_test)\n",
    "#tahmin değeri oluşturduk. aşağıda test hatamızı hesapladık."
   ]
  },
  {
   "cell_type": "code",
   "execution_count": 44,
   "metadata": {},
   "outputs": [
    {
     "data": {
      "text/plain": [
       "458.198966781116"
      ]
     },
     "execution_count": 44,
     "metadata": {},
     "output_type": "execute_result"
    }
   ],
   "source": [
    "np.sqrt(mean_squared_error(y_test, y_pred))\n",
    "#test hatasını oluşturduk. Bundan sonasında veri setini tekrar baştan çalıştırıp birden fazla değişken için değer hesaplama işlemini yapacağız."
   ]
  },
  {
   "cell_type": "code",
   "execution_count": 45,
   "metadata": {},
   "outputs": [
    {
     "data": {
      "text/plain": [
       "458.198966781116"
      ]
     },
     "execution_count": 45,
     "metadata": {},
     "output_type": "execute_result"
    }
   ],
   "source": [
    "np.sqrt(mean_squared_error(y_test, y_pred))\n",
    "#yukarda ehsapladığımızda sadece hits değişkeni vardı ancak diğer değişkenleri de dahil ettiğimizde diğer değişkenlerin de bağımlı değişkendeki değişkenliği açıklama gücüne sahipmiş (anlamlı bir etkisi varmış) ki 97 birim aşağı geldi değer.\n",
    "#basit SVRdan daha düşük bir değer elde ettik. Basit SVR'da sadece bir değişkeni dahil etmiştik."
   ]
  },
  {
   "cell_type": "markdown",
   "metadata": {},
   "source": [
    "# Doğrusal Olmayan SVR"
   ]
  },
  {
   "cell_type": "markdown",
   "metadata": {},
   "source": [
    "#### Linear regresyonu bir öncekinde Doğrusal SVR ile karşılaştırmıştık. Şimdi ise Linear Olmayan SVR ile karşılaştırıyoruz."
   ]
  },
  {
   "cell_type": "code",
   "execution_count": 46,
   "metadata": {},
   "outputs": [],
   "source": [
    "np.random.seed(3)\n",
    "#suni veri seti oluşturduk\n",
    "x_sim = np.random.uniform(2, 10, 145)\n",
    "y_sim = np.sin(x_sim) + np.random.normal(0, 0.4, 145)\n",
    "\n",
    "#aykırı gözlemler ekledik \n",
    "x_outliers = np.arange(2.5, 5, 0.5)\n",
    "y_outliers = -5*np.ones(5)\n",
    "\n",
    "x_sim_idx = np.argsort(np.concatenate([x_sim, x_outliers]))\n",
    "x_sim = np.concatenate([x_sim, x_outliers])[x_sim_idx]\n",
    "y_sim = np.concatenate([y_sim, y_outliers])[x_sim_idx]"
   ]
  },
  {
   "cell_type": "code",
   "execution_count": 47,
   "metadata": {},
   "outputs": [],
   "source": [
    "#linear regresyon\n",
    "from sklearn.linear_model import LinearRegression\n",
    "ols = LinearRegression()\n",
    "ols.fit(np.sin(x_sim[:, np.newaxis]), y_sim)\n",
    "ols_pred = ols.predict(np.sin(x_sim[:, np.newaxis]))\n",
    "\n",
    "#doğrusal olmayan SVR\n",
    "from sklearn.svm import SVR\n",
    "eps = 0.1\n",
    "svr = SVR('rbf', epsilon = eps)\n",
    "svr.fit(x_sim[:, np.newaxis], y_sim)\n",
    "svr_pred = svr.predict(x_sim[:, np.newaxis])"
   ]
  },
  {
   "cell_type": "code",
   "execution_count": 48,
   "metadata": {},
   "outputs": [
    {
     "data": {
      "image/png": "[encoded data removed]",
      "text/plain": [
       "<Figure size 432x288 with 1 Axes>"
      ]
     },
     "metadata": {
      "needs_background": "light"
     },
     "output_type": "display_data"
    }
   ],
   "source": [
    "plt.scatter(x_sim, y_sim, alpha=0.5, s=26)\n",
    "plt_ols, = plt.plot(x_sim, ols_pred, 'g')\n",
    "plt_svr, = plt.plot(x_sim, svr_pred, color='r')\n",
    "plt.xlabel(\"Bağımsız Değişken\")\n",
    "plt.ylabel(\"Bağımlı Değişken\")\n",
    "plt.ylim(-5.2, 2.2)\n",
    "plt.legend([plt_ols, plt_svr], ['EKK', 'SVR'], loc = 4);\n",
    "\n",
    "#eklediğimiz aykırı değerler EKK'yı aşağı doğru çekti SVR daha zor değiştiği güçlü olduğu için çok değişmedi."
   ]
  },
  {
   "cell_type": "code",
   "execution_count": 49,
   "metadata": {},
   "outputs": [],
   "source": [
    "hit = pd.read_csv(\"Hitters.csv\")\n",
    "df = hit.copy()\n",
    "df = df.dropna()\n",
    "dms = pd.get_dummies(df[['League', 'Division', 'NewLeague']])\n",
    "y = df[\"Salary\"]\n",
    "X_ = df.drop(['Salary', 'League', 'Division', 'NewLeague'], axis=1).astype('float64')\n",
    "X = pd.concat([X_, dms[['League_N', 'Division_W', 'NewLeague_N']]], axis=1)\n",
    "X_train, X_test, y_train, y_test = train_test_split(X, y, \n",
    "                                                    test_size=0.25, \n",
    "                                                    random_state=42)"
   ]
  },
  {
   "cell_type": "code",
   "execution_count": 50,
   "metadata": {},
   "outputs": [],
   "source": [
    "svr_rbf = SVR(\"rbf\").fit(X_train, y_train)\n",
    "#radial basis function \"rbf\"\n",
    "#model kurma işlemini gerçekleştirdik.\n",
    "#Tüm değişkenleri kullanarak doğrusal olmayan bir model kurduk"
   ]
  },
  {
   "cell_type": "markdown",
   "metadata": {},
   "source": [
    "## Tahmin"
   ]
  },
  {
   "cell_type": "code",
   "execution_count": 51,
   "metadata": {},
   "outputs": [],
   "source": [
    "y_pred = svr_rbf.predict(X_test)\n",
    "#tahmin işlemi. İlkel test hatamızı hesapladık. "
   ]
  },
  {
   "cell_type": "code",
   "execution_count": 52,
   "metadata": {},
   "outputs": [
    {
     "data": {
      "text/plain": [
       "460.0032657244849"
      ]
     },
     "execution_count": 52,
     "metadata": {},
     "output_type": "execute_result"
    }
   ],
   "source": [
    "np.sqrt(mean_squared_error(y_test, y_pred))"
   ]
  },
  {
   "cell_type": "markdown",
   "metadata": {},
   "source": [
    "## Model Tuning"
   ]
  },
  {
   "cell_type": "code",
   "execution_count": 53,
   "metadata": {},
   "outputs": [
    {
     "data": {
      "text/plain": [
       "SVR()"
      ]
     },
     "execution_count": 53,
     "metadata": {},
     "output_type": "execute_result"
    }
   ],
   "source": [
    "svr_rbf"
   ]
  },
  {
   "cell_type": "code",
   "execution_count": 54,
   "metadata": {},
   "outputs": [
    {
     "data": {
      "text/plain": [
       "GridSearchCV(cv=10, estimator=SVR(),\n",
       "             param_grid={'C': [0.01, 0.1, 0.4, 5, 10, 20, 30, 40, 50]})"
      ]
     },
     "execution_count": 54,
     "metadata": {},
     "output_type": "execute_result"
    }
   ],
   "source": [
    "svr_params = {\"C\": [0.01, 0.1,0.4,5,10,20,30,40,50]} # optimize etmemiz gereken bir ceza parametremiz var. içinde deneyeceği değerleri kendimiz parametre seti olarak girdik ki işlem kısa sürsün.\n",
    "svr_cv_model = GridSearchCV(svr_rbf,svr_params, cv = 10) #svr_rbf modelini kullanarak svr_params içindeki parametrelerin içerisinden 10 karlı cross validation ile bana uygun değeri bulsun\n",
    "svr_cv_model.fit(X_train, y_train) #fit ettik"
   ]
  },
  {
   "cell_type": "code",
   "execution_count": 55,
   "metadata": {},
   "outputs": [
    {
     "data": {
      "text/plain": [
       "{'C': 50}"
      ]
     },
     "execution_count": 55,
     "metadata": {},
     "output_type": "execute_result"
    }
   ],
   "source": [
    "svr_cv_model.best_params_"
   ]
  },
  {
   "cell_type": "code",
   "execution_count": 56,
   "metadata": {},
   "outputs": [
    {
     "data": {
      "text/plain": [
       "50"
      ]
     },
     "execution_count": 56,
     "metadata": {},
     "output_type": "execute_result"
    }
   ],
   "source": [
    "pd.Series(svr_cv_model.best_params_)[0]\n",
    "#yuakrda çıkan C değerini almak için pandas serisine çevirim 0. indexi aldığımzda değerini almış ve sonraki işlemde tune edilmiş final modelini oluşturmak için kullanıyoruz."
   ]
  },
  {
   "cell_type": "code",
   "execution_count": 57,
   "metadata": {},
   "outputs": [],
   "source": [
    "svr_tuned = SVR(\"rbf\", C = pd.Series(svr_cv_model.best_params_)[0]).fit(X_train, \n",
    "                                                                        y_train)\n",
    "#train set üzerinden tahmin final modelimizi kurduk"
   ]
  },
  {
   "cell_type": "code",
   "execution_count": 58,
   "metadata": {
    "jupyter": {
     "source_hidden": true
    }
   },
   "outputs": [
    {
     "data": {
      "text/plain": [
       "428.00406888095694"
      ]
     },
     "execution_count": 58,
     "metadata": {},
     "output_type": "execute_result"
    }
   ],
   "source": [
    "y_pred = svr_tuned.predict(X_test)\n",
    "#x test setinin bağımsız değişkenini bularak y bağımlı değişkeninin değerlerini hesapla.\n",
    "\n",
    "np.sqrt(mean_squared_error(y_test, y_pred))\n",
    "#normalde bu kadar yükske çıkmasını beklemezdik ancak veri setinden kaynaklı böyle çıkmış olabilir. KNN'den dkötü çıkmasını beklemezdik."
   ]
  },
  {
   "cell_type": "markdown",
   "metadata": {},
   "source": [
    "# Çok Katmanlı Algılayıcı"
   ]
  },
  {
   "cell_type": "code",
   "execution_count": 59,
   "metadata": {},
   "outputs": [],
   "source": [
    "hit = pd.read_csv(\"Hitters.csv\")\n",
    "df = hit.copy()\n",
    "df = df.dropna()\n",
    "dms = pd.get_dummies(df[['League', 'Division', 'NewLeague']])\n",
    "y = df[\"Salary\"]\n",
    "X_ = df.drop(['Salary', 'League', 'Division', 'NewLeague'], axis=1).astype('float64')\n",
    "X = pd.concat([X_, dms[['League_N', 'Division_W', 'NewLeague_N']]], axis=1)\n",
    "X_train, X_test, y_train, y_test = train_test_split(X, y, \n",
    "                                                    test_size=0.25, \n",
    "                                                    random_state=42)"
   ]
  },
  {
   "cell_type": "code",
   "execution_count": 60,
   "metadata": {},
   "outputs": [],
   "source": [
    "from sklearn.preprocessing import StandardScaler\n",
    "#dönüştürme işlemi yapıyoruz. Değişken standardizasyonu."
   ]
  },
  {
   "cell_type": "code",
   "execution_count": 61,
   "metadata": {},
   "outputs": [
    {
     "data": {
      "text/plain": [
       "StandardScaler()"
      ]
     },
     "execution_count": 61,
     "metadata": {},
     "output_type": "execute_result"
    }
   ],
   "source": [
    "scaler = StandardScaler()\n",
    "#scaler fonksiyonunu örnekledik\n",
    "scaler.fit(X_train)\n",
    "#dönüştürme işlemini gerçekleştirdik.Aşağıda train ve test seti için de yaptık"
   ]
  },
  {
   "cell_type": "code",
   "execution_count": 62,
   "metadata": {},
   "outputs": [],
   "source": [
    "X_train_scaled = scaler.transform(X_train)"
   ]
  },
  {
   "cell_type": "code",
   "execution_count": 63,
   "metadata": {},
   "outputs": [],
   "source": [
    "X_test_scaled = scaler.transform(X_test)"
   ]
  },
  {
   "cell_type": "code",
   "execution_count": 64,
   "metadata": {},
   "outputs": [],
   "source": [
    "from sklearn.neural_network import MLPRegressor"
   ]
  },
  {
   "cell_type": "code",
   "execution_count": 65,
   "metadata": {},
   "outputs": [],
   "source": [
    "mlp_model = MLPRegressor(hidden_layer_sizes = (100,20)).fit(X_train_scaled, y_train)\n",
    "#model kurma işlemini yapıyoruz. Multilayer perceptron ile ve sonunda fit ettik"
   ]
  },
  {
   "cell_type": "code",
   "execution_count": 66,
   "metadata": {},
   "outputs": [
    {
     "data": {
      "text/plain": [
       "MLPRegressor(hidden_layer_sizes=(100, 20))"
      ]
     },
     "execution_count": 66,
     "metadata": {},
     "output_type": "execute_result"
    }
   ],
   "source": [
    "mlp_model"
   ]
  },
  {
   "cell_type": "code",
   "execution_count": 67,
   "metadata": {},
   "outputs": [
    {
     "data": {
      "text/plain": [
       "4"
      ]
     },
     "execution_count": 67,
     "metadata": {},
     "output_type": "execute_result"
    }
   ],
   "source": [
    "mlp_model.n_layers_\n",
    "#katman sayısına eriştik"
   ]
  },
  {
   "cell_type": "code",
   "execution_count": 68,
   "metadata": {},
   "outputs": [
    {
     "data": {
      "text/plain": [
       "(100, 20)"
      ]
     },
     "execution_count": 68,
     "metadata": {},
     "output_type": "execute_result"
    }
   ],
   "source": [
    "mlp_model.hidden_layer_sizes\n",
    "#gizli katman sayısına eriştik.katman sayısının içindeki nöronları ifade eder."
   ]
  },
  {
   "cell_type": "markdown",
   "metadata": {},
   "source": [
    "## Tahmin"
   ]
  },
  {
   "cell_type": "code",
   "execution_count": 69,
   "metadata": {},
   "outputs": [
    {
     "data": {
      "text/plain": [
       "array([ 56.46772652, 261.56912856, 162.47432175,  51.47698931,\n",
       "        31.07854772])"
      ]
     },
     "execution_count": 69,
     "metadata": {},
     "output_type": "execute_result"
    }
   ],
   "source": [
    "mlp_model.predict(X_train_scaled)[0:5]\n",
    "#kurulan modelde tahmin işlemi"
   ]
  },
  {
   "cell_type": "code",
   "execution_count": 70,
   "metadata": {},
   "outputs": [],
   "source": [
    "y_pred = mlp_model.predict(X_test_scaled)\n",
    "#ilkel test hatamızı hesaplamak için modelimizi oluşturduk ve aşağıda da bunu hesapladık."
   ]
  },
  {
   "cell_type": "code",
   "execution_count": 71,
   "metadata": {},
   "outputs": [
    {
     "data": {
      "text/plain": [
       "527.4270090447499"
      ]
     },
     "execution_count": 71,
     "metadata": {},
     "output_type": "execute_result"
    }
   ],
   "source": [
    "np.sqrt(mean_squared_error(y_test, y_pred))"
   ]
  },
  {
   "cell_type": "markdown",
   "metadata": {},
   "source": [
    "## Model Tuning"
   ]
  },
  {
   "cell_type": "code",
   "execution_count": 72,
   "metadata": {},
   "outputs": [
    {
     "data": {
      "text/plain": [
       "MLPRegressor(hidden_layer_sizes=(100, 20))"
      ]
     },
     "execution_count": 72,
     "metadata": {},
     "output_type": "execute_result"
    }
   ],
   "source": [
    "mlp_model"
   ]
  },
  {
   "cell_type": "code",
   "execution_count": 73,
   "metadata": {},
   "outputs": [],
   "source": [
    "mlp_params = {'alpha': [0.1, 0.01,0.02,0.005],\n",
    "             'hidden_layer_sizes': [(20,20),(100,50,150),(300,200,150)], #1. 2 katmanlı,2.3 katmanlı 3. 3 katmanlı sinir ağını ifade eder\n",
    "             'activation': ['relu','logistic']} #aktivasyon fonksiyonunu da parametre seçebiliyoruz. Ön tanımlı oalrak relu tanımlanmış ama 2. olarak logistic yöntemini de seçiyoruz"
   ]
  },
  {
   "cell_type": "code",
   "execution_count": 74,
   "metadata": {},
   "outputs": [],
   "source": [
    "mlp_cv_model = GridSearchCV(mlp_model, mlp_params, cv = 10)\n",
    "#modelimizi cross validation işlemine tabi tutuyoruz"
   ]
  },
  {
   "cell_type": "code",
   "execution_count": 75,
   "metadata": {},
   "outputs": [
    {
     "data": {
      "text/plain": [
       "GridSearchCV(cv=10, estimator=MLPRegressor(hidden_layer_sizes=(100, 20)),\n",
       "             param_grid={'activation': ['relu', 'logistic'],\n",
       "                         'alpha': [0.1, 0.01, 0.02, 0.005],\n",
       "                         'hidden_layer_sizes': [(20, 20), (100, 50, 150),\n",
       "                                                (300, 200, 150)]})"
      ]
     },
     "execution_count": 75,
     "metadata": {},
     "output_type": "execute_result"
    }
   ],
   "source": [
    "mlp_cv_model.fit(X_train_scaled, y_train)\n",
    "#fit etme işlemini gerçekleştirdik"
   ]
  },
  {
   "cell_type": "code",
   "execution_count": 76,
   "metadata": {},
   "outputs": [
    {
     "data": {
      "text/plain": [
       "{'activation': 'relu', 'alpha': 0.01, 'hidden_layer_sizes': (100, 50, 150)}"
      ]
     },
     "execution_count": 76,
     "metadata": {},
     "output_type": "execute_result"
    }
   ],
   "source": [
    "mlp_cv_model.best_params_\n",
    "#aralarındaki en iyi parametre değerlerini görmek için"
   ]
  },
  {
   "cell_type": "code",
   "execution_count": 77,
   "metadata": {},
   "outputs": [],
   "source": [
    "mlp_tuned = MLPRegressor(alpha = 0.02, hidden_layer_sizes = (100,50,150))\n",
    "#final modelimizi tune edilmiş şekilde oluşturuyoruz"
   ]
  },
  {
   "cell_type": "code",
   "execution_count": 78,
   "metadata": {},
   "outputs": [
    {
     "data": {
      "text/plain": [
       "MLPRegressor(alpha=0.02, hidden_layer_sizes=(100, 50, 150))"
      ]
     },
     "execution_count": 78,
     "metadata": {},
     "output_type": "execute_result"
    }
   ],
   "source": [
    "mlp_tuned.fit(X_train_scaled, y_train)\n",
    "#tune edilmiş modeli fitliyoruz. Optimum hiperparametreler ile"
   ]
  },
  {
   "cell_type": "code",
   "execution_count": 79,
   "metadata": {},
   "outputs": [],
   "source": [
    "y_pred = mlp_tuned.predict(X_test_scaled)\n",
    "#test seti modelimizi oluşturduk"
   ]
  },
  {
   "cell_type": "code",
   "execution_count": 80,
   "metadata": {},
   "outputs": [
    {
     "data": {
      "text/plain": [
       "361.7773902246188"
      ]
     },
     "execution_count": 80,
     "metadata": {},
     "output_type": "execute_result"
    }
   ],
   "source": [
    "np.sqrt(mean_squared_error(y_test, y_pred))\n",
    "#test hatlarımızı hesapladık. Diğerlerinden en düşük test hatamızı elde ettik"
   ]
  },
  {
   "cell_type": "markdown",
   "metadata": {},
   "source": [
    "# CART\n",
    "# !!!!!!!!!!!!!!!!!!!!!!!!!!!!!!!!!!!!!!!!!!\n",
    "### **Genellenebilirlik kaygısının olmadığı alanlarda kullanılması uygundur. Aksi taktirde overfitting olabilir. Diğer yöntemleri kullanmak daha mantıklı olacaktır. Bir şirketin tek bir departmanı gibi yerlerde.** \n",
    "# !!!!!!!!!!!!!!!!!!!!!!!!!!!!!!!!!!!!!!!!!!"
   ]
  },
  {
   "cell_type": "code",
   "execution_count": 81,
   "metadata": {},
   "outputs": [],
   "source": [
    "hit = pd.read_csv(\"Hitters.csv\")\n",
    "df = hit.copy()\n",
    "df = df.dropna()\n",
    "dms = pd.get_dummies(df[['League', 'Division', 'NewLeague']])\n",
    "y = df[\"Salary\"]\n",
    "X_ = df.drop(['Salary', 'League', 'Division', 'NewLeague'], axis=1).astype('float64')\n",
    "X = pd.concat([X_, dms[['League_N', 'Division_W', 'NewLeague_N']]], axis=1)\n",
    "X_train, X_test, y_train, y_test = train_test_split(X, y, \n",
    "                                                    test_size=0.25, \n",
    "                                                    random_state=42)\n"
   ]
  },
  {
   "cell_type": "code",
   "execution_count": 82,
   "metadata": {},
   "outputs": [],
   "source": [
    "X_train = pd.DataFrame(X_train[\"Hits\"])\n",
    "X_test = pd.DataFrame(X_test[\"Hits\"])"
   ]
  },
  {
   "cell_type": "code",
   "execution_count": 83,
   "metadata": {},
   "outputs": [],
   "source": [
    "cart_model = DecisionTreeRegressor()\n"
   ]
  },
  {
   "cell_type": "code",
   "execution_count": 84,
   "metadata": {
    "collapsed": true,
    "jupyter": {
     "outputs_hidden": true
    }
   },
   "outputs": [
    {
     "data": {
      "text/plain": [
       "\u001b[0;31mType:\u001b[0m        DecisionTreeRegressor\n",
       "\u001b[0;31mString form:\u001b[0m DecisionTreeRegressor()\n",
       "\u001b[0;31mFile:\u001b[0m        ~/anaconda3/lib/python3.7/site-packages/sklearn/tree/_classes.py\n",
       "\u001b[0;31mDocstring:\u001b[0m  \n",
       "A decision tree regressor.\n",
       "\n",
       "Read more in the :ref:`User Guide <tree>`.\n",
       "\n",
       "Parameters\n",
       "----------\n",
       "criterion : {\"mse\", \"friedman_mse\", \"mae\"}, default=\"mse\"\n",
       "    The function to measure the quality of a split. Supported criteria\n",
       "    are \"mse\" for the mean squared error, which is equal to variance\n",
       "    reduction as feature selection criterion and minimizes the L2 loss\n",
       "    using the mean of each terminal node, \"friedman_mse\", which uses mean\n",
       "    squared error with Friedman's improvement score for potential splits,\n",
       "    and \"mae\" for the mean absolute error, which minimizes the L1 loss\n",
       "    using the median of each terminal node.\n",
       "\n",
       "    .. versionadded:: 0.18\n",
       "       Mean Absolute Error (MAE) criterion.\n",
       "\n",
       "splitter : {\"best\", \"random\"}, default=\"best\"\n",
       "    The strategy used to choose the split at each node. Supported\n",
       "    strategies are \"best\" to choose the best split and \"random\" to choose\n",
       "    the best random split.\n",
       "\n",
       "max_depth : int, default=None\n",
       "    The maximum depth of the tree. If None, then nodes are expanded until\n",
       "    all leaves are pure or until all leaves contain less than\n",
       "    min_samples_split samples.\n",
       "\n",
       "min_samples_split : int or float, default=2\n",
       "    The minimum number of samples required to split an internal node:\n",
       "\n",
       "    - If int, then consider `min_samples_split` as the minimum number.\n",
       "    - If float, then `min_samples_split` is a fraction and\n",
       "      `ceil(min_samples_split * n_samples)` are the minimum\n",
       "      number of samples for each split.\n",
       "\n",
       "    .. versionchanged:: 0.18\n",
       "       Added float values for fractions.\n",
       "\n",
       "min_samples_leaf : int or float, default=1\n",
       "    The minimum number of samples required to be at a leaf node.\n",
       "    A split point at any depth will only be considered if it leaves at\n",
       "    least ``min_samples_leaf`` training samples in each of the left and\n",
       "    right branches.  This may have the effect of smoothing the model,\n",
       "    especially in regression.\n",
       "\n",
       "    - If int, then consider `min_samples_leaf` as the minimum number.\n",
       "    - If float, then `min_samples_leaf` is a fraction and\n",
       "      `ceil(min_samples_leaf * n_samples)` are the minimum\n",
       "      number of samples for each node.\n",
       "\n",
       "    .. versionchanged:: 0.18\n",
       "       Added float values for fractions.\n",
       "\n",
       "min_weight_fraction_leaf : float, default=0.0\n",
       "    The minimum weighted fraction of the sum total of weights (of all\n",
       "    the input samples) required to be at a leaf node. Samples have\n",
       "    equal weight when sample_weight is not provided.\n",
       "\n",
       "max_features : int, float or {\"auto\", \"sqrt\", \"log2\"}, default=None\n",
       "    The number of features to consider when looking for the best split:\n",
       "\n",
       "    - If int, then consider `max_features` features at each split.\n",
       "    - If float, then `max_features` is a fraction and\n",
       "      `int(max_features * n_features)` features are considered at each\n",
       "      split.\n",
       "    - If \"auto\", then `max_features=n_features`.\n",
       "    - If \"sqrt\", then `max_features=sqrt(n_features)`.\n",
       "    - If \"log2\", then `max_features=log2(n_features)`.\n",
       "    - If None, then `max_features=n_features`.\n",
       "\n",
       "    Note: the search for a split does not stop until at least one\n",
       "    valid partition of the node samples is found, even if it requires to\n",
       "    effectively inspect more than ``max_features`` features.\n",
       "\n",
       "random_state : int, RandomState instance, default=None\n",
       "    Controls the randomness of the estimator. The features are always\n",
       "    randomly permuted at each split, even if ``splitter`` is set to\n",
       "    ``\"best\"``. When ``max_features < n_features``, the algorithm will\n",
       "    select ``max_features`` at random at each split before finding the best\n",
       "    split among them. But the best found split may vary across different\n",
       "    runs, even if ``max_features=n_features``. That is the case, if the\n",
       "    improvement of the criterion is identical for several splits and one\n",
       "    split has to be selected at random. To obtain a deterministic behaviour\n",
       "    during fitting, ``random_state`` has to be fixed to an integer.\n",
       "    See :term:`Glossary <random_state>` for details.\n",
       "\n",
       "max_leaf_nodes : int, default=None\n",
       "    Grow a tree with ``max_leaf_nodes`` in best-first fashion.\n",
       "    Best nodes are defined as relative reduction in impurity.\n",
       "    If None then unlimited number of leaf nodes.\n",
       "\n",
       "min_impurity_decrease : float, default=0.0\n",
       "    A node will be split if this split induces a decrease of the impurity\n",
       "    greater than or equal to this value.\n",
       "\n",
       "    The weighted impurity decrease equation is the following::\n",
       "\n",
       "        N_t / N * (impurity - N_t_R / N_t * right_impurity\n",
       "                            - N_t_L / N_t * left_impurity)\n",
       "\n",
       "    where ``N`` is the total number of samples, ``N_t`` is the number of\n",
       "    samples at the current node, ``N_t_L`` is the number of samples in the\n",
       "    left child, and ``N_t_R`` is the number of samples in the right child.\n",
       "\n",
       "    ``N``, ``N_t``, ``N_t_R`` and ``N_t_L`` all refer to the weighted sum,\n",
       "    if ``sample_weight`` is passed.\n",
       "\n",
       "    .. versionadded:: 0.19\n",
       "\n",
       "min_impurity_split : float, (default=0)\n",
       "    Threshold for early stopping in tree growth. A node will split\n",
       "    if its impurity is above the threshold, otherwise it is a leaf.\n",
       "\n",
       "    .. deprecated:: 0.19\n",
       "       ``min_impurity_split`` has been deprecated in favor of\n",
       "       ``min_impurity_decrease`` in 0.19. The default value of\n",
       "       ``min_impurity_split`` has changed from 1e-7 to 0 in 0.23 and it\n",
       "       will be removed in 0.25. Use ``min_impurity_decrease`` instead.\n",
       "\n",
       "presort : deprecated, default='deprecated'\n",
       "    This parameter is deprecated and will be removed in v0.24.\n",
       "\n",
       "    .. deprecated:: 0.22\n",
       "\n",
       "ccp_alpha : non-negative float, default=0.0\n",
       "    Complexity parameter used for Minimal Cost-Complexity Pruning. The\n",
       "    subtree with the largest cost complexity that is smaller than\n",
       "    ``ccp_alpha`` will be chosen. By default, no pruning is performed. See\n",
       "    :ref:`minimal_cost_complexity_pruning` for details.\n",
       "\n",
       "    .. versionadded:: 0.22\n",
       "\n",
       "Attributes\n",
       "----------\n",
       "feature_importances_ : ndarray of shape (n_features,)\n",
       "    The feature importances.\n",
       "    The higher, the more important the feature.\n",
       "    The importance of a feature is computed as the\n",
       "    (normalized) total reduction of the criterion brought\n",
       "    by that feature. It is also known as the Gini importance [4]_.\n",
       "\n",
       "    Warning: impurity-based feature importances can be misleading for\n",
       "    high cardinality features (many unique values). See\n",
       "    :func:`sklearn.inspection.permutation_importance` as an alternative.\n",
       "\n",
       "max_features_ : int\n",
       "    The inferred value of max_features.\n",
       "\n",
       "n_features_ : int\n",
       "    The number of features when ``fit`` is performed.\n",
       "\n",
       "n_outputs_ : int\n",
       "    The number of outputs when ``fit`` is performed.\n",
       "\n",
       "tree_ : Tree\n",
       "    The underlying Tree object. Please refer to\n",
       "    ``help(sklearn.tree._tree.Tree)`` for attributes of Tree object and\n",
       "    :ref:`sphx_glr_auto_examples_tree_plot_unveil_tree_structure.py`\n",
       "    for basic usage of these attributes.\n",
       "\n",
       "See Also\n",
       "--------\n",
       "DecisionTreeClassifier : A decision tree classifier.\n",
       "\n",
       "Notes\n",
       "-----\n",
       "The default values for the parameters controlling the size of the trees\n",
       "(e.g. ``max_depth``, ``min_samples_leaf``, etc.) lead to fully grown and\n",
       "unpruned trees which can potentially be very large on some data sets. To\n",
       "reduce memory consumption, the complexity and size of the trees should be\n",
       "controlled by setting those parameter values.\n",
       "\n",
       "References\n",
       "----------\n",
       "\n",
       ".. [1] https://en.wikipedia.org/wiki/Decision_tree_learning\n",
       "\n",
       ".. [2] L. Breiman, J. Friedman, R. Olshen, and C. Stone, \"Classification\n",
       "       and Regression Trees\", Wadsworth, Belmont, CA, 1984.\n",
       "\n",
       ".. [3] T. Hastie, R. Tibshirani and J. Friedman. \"Elements of Statistical\n",
       "       Learning\", Springer, 2009.\n",
       "\n",
       ".. [4] L. Breiman, and A. Cutler, \"Random Forests\",\n",
       "       https://www.stat.berkeley.edu/~breiman/RandomForests/cc_home.htm\n",
       "\n",
       "Examples\n",
       "--------\n",
       ">>> from sklearn.datasets import load_diabetes\n",
       ">>> from sklearn.model_selection import cross_val_score\n",
       ">>> from sklearn.tree import DecisionTreeRegressor\n",
       ">>> X, y = load_diabetes(return_X_y=True)\n",
       ">>> regressor = DecisionTreeRegressor(random_state=0)\n",
       ">>> cross_val_score(regressor, X, y, cv=10)\n",
       "...                    # doctest: +SKIP\n",
       "...\n",
       "array([-0.39..., -0.46...,  0.02...,  0.06..., -0.50...,\n",
       "       0.16...,  0.11..., -0.73..., -0.30..., -0.00...])\n"
      ]
     },
     "metadata": {},
     "output_type": "display_data"
    }
   ],
   "source": [
    "?cart_model"
   ]
  },
  {
   "cell_type": "code",
   "execution_count": 85,
   "metadata": {},
   "outputs": [],
   "source": [
    "cart_model = DecisionTreeRegressor(min_samples_split = 2)"
   ]
  },
  {
   "cell_type": "code",
   "execution_count": 86,
   "metadata": {
    "collapsed": true,
    "jupyter": {
     "outputs_hidden": true
    }
   },
   "outputs": [
    {
     "data": {
      "text/plain": [
       "\u001b[0;31mType:\u001b[0m        DecisionTreeRegressor\n",
       "\u001b[0;31mString form:\u001b[0m DecisionTreeRegressor()\n",
       "\u001b[0;31mFile:\u001b[0m        ~/anaconda3/lib/python3.7/site-packages/sklearn/tree/_classes.py\n",
       "\u001b[0;31mDocstring:\u001b[0m  \n",
       "A decision tree regressor.\n",
       "\n",
       "Read more in the :ref:`User Guide <tree>`.\n",
       "\n",
       "Parameters\n",
       "----------\n",
       "criterion : {\"mse\", \"friedman_mse\", \"mae\"}, default=\"mse\"\n",
       "    The function to measure the quality of a split. Supported criteria\n",
       "    are \"mse\" for the mean squared error, which is equal to variance\n",
       "    reduction as feature selection criterion and minimizes the L2 loss\n",
       "    using the mean of each terminal node, \"friedman_mse\", which uses mean\n",
       "    squared error with Friedman's improvement score for potential splits,\n",
       "    and \"mae\" for the mean absolute error, which minimizes the L1 loss\n",
       "    using the median of each terminal node.\n",
       "\n",
       "    .. versionadded:: 0.18\n",
       "       Mean Absolute Error (MAE) criterion.\n",
       "\n",
       "splitter : {\"best\", \"random\"}, default=\"best\"\n",
       "    The strategy used to choose the split at each node. Supported\n",
       "    strategies are \"best\" to choose the best split and \"random\" to choose\n",
       "    the best random split.\n",
       "\n",
       "max_depth : int, default=None\n",
       "    The maximum depth of the tree. If None, then nodes are expanded until\n",
       "    all leaves are pure or until all leaves contain less than\n",
       "    min_samples_split samples.\n",
       "\n",
       "min_samples_split : int or float, default=2\n",
       "    The minimum number of samples required to split an internal node:\n",
       "\n",
       "    - If int, then consider `min_samples_split` as the minimum number.\n",
       "    - If float, then `min_samples_split` is a fraction and\n",
       "      `ceil(min_samples_split * n_samples)` are the minimum\n",
       "      number of samples for each split.\n",
       "\n",
       "    .. versionchanged:: 0.18\n",
       "       Added float values for fractions.\n",
       "\n",
       "min_samples_leaf : int or float, default=1\n",
       "    The minimum number of samples required to be at a leaf node.\n",
       "    A split point at any depth will only be considered if it leaves at\n",
       "    least ``min_samples_leaf`` training samples in each of the left and\n",
       "    right branches.  This may have the effect of smoothing the model,\n",
       "    especially in regression.\n",
       "\n",
       "    - If int, then consider `min_samples_leaf` as the minimum number.\n",
       "    - If float, then `min_samples_leaf` is a fraction and\n",
       "      `ceil(min_samples_leaf * n_samples)` are the minimum\n",
       "      number of samples for each node.\n",
       "\n",
       "    .. versionchanged:: 0.18\n",
       "       Added float values for fractions.\n",
       "\n",
       "min_weight_fraction_leaf : float, default=0.0\n",
       "    The minimum weighted fraction of the sum total of weights (of all\n",
       "    the input samples) required to be at a leaf node. Samples have\n",
       "    equal weight when sample_weight is not provided.\n",
       "\n",
       "max_features : int, float or {\"auto\", \"sqrt\", \"log2\"}, default=None\n",
       "    The number of features to consider when looking for the best split:\n",
       "\n",
       "    - If int, then consider `max_features` features at each split.\n",
       "    - If float, then `max_features` is a fraction and\n",
       "      `int(max_features * n_features)` features are considered at each\n",
       "      split.\n",
       "    - If \"auto\", then `max_features=n_features`.\n",
       "    - If \"sqrt\", then `max_features=sqrt(n_features)`.\n",
       "    - If \"log2\", then `max_features=log2(n_features)`.\n",
       "    - If None, then `max_features=n_features`.\n",
       "\n",
       "    Note: the search for a split does not stop until at least one\n",
       "    valid partition of the node samples is found, even if it requires to\n",
       "    effectively inspect more than ``max_features`` features.\n",
       "\n",
       "random_state : int, RandomState instance, default=None\n",
       "    Controls the randomness of the estimator. The features are always\n",
       "    randomly permuted at each split, even if ``splitter`` is set to\n",
       "    ``\"best\"``. When ``max_features < n_features``, the algorithm will\n",
       "    select ``max_features`` at random at each split before finding the best\n",
       "    split among them. But the best found split may vary across different\n",
       "    runs, even if ``max_features=n_features``. That is the case, if the\n",
       "    improvement of the criterion is identical for several splits and one\n",
       "    split has to be selected at random. To obtain a deterministic behaviour\n",
       "    during fitting, ``random_state`` has to be fixed to an integer.\n",
       "    See :term:`Glossary <random_state>` for details.\n",
       "\n",
       "max_leaf_nodes : int, default=None\n",
       "    Grow a tree with ``max_leaf_nodes`` in best-first fashion.\n",
       "    Best nodes are defined as relative reduction in impurity.\n",
       "    If None then unlimited number of leaf nodes.\n",
       "\n",
       "min_impurity_decrease : float, default=0.0\n",
       "    A node will be split if this split induces a decrease of the impurity\n",
       "    greater than or equal to this value.\n",
       "\n",
       "    The weighted impurity decrease equation is the following::\n",
       "\n",
       "        N_t / N * (impurity - N_t_R / N_t * right_impurity\n",
       "                            - N_t_L / N_t * left_impurity)\n",
       "\n",
       "    where ``N`` is the total number of samples, ``N_t`` is the number of\n",
       "    samples at the current node, ``N_t_L`` is the number of samples in the\n",
       "    left child, and ``N_t_R`` is the number of samples in the right child.\n",
       "\n",
       "    ``N``, ``N_t``, ``N_t_R`` and ``N_t_L`` all refer to the weighted sum,\n",
       "    if ``sample_weight`` is passed.\n",
       "\n",
       "    .. versionadded:: 0.19\n",
       "\n",
       "min_impurity_split : float, (default=0)\n",
       "    Threshold for early stopping in tree growth. A node will split\n",
       "    if its impurity is above the threshold, otherwise it is a leaf.\n",
       "\n",
       "    .. deprecated:: 0.19\n",
       "       ``min_impurity_split`` has been deprecated in favor of\n",
       "       ``min_impurity_decrease`` in 0.19. The default value of\n",
       "       ``min_impurity_split`` has changed from 1e-7 to 0 in 0.23 and it\n",
       "       will be removed in 0.25. Use ``min_impurity_decrease`` instead.\n",
       "\n",
       "presort : deprecated, default='deprecated'\n",
       "    This parameter is deprecated and will be removed in v0.24.\n",
       "\n",
       "    .. deprecated:: 0.22\n",
       "\n",
       "ccp_alpha : non-negative float, default=0.0\n",
       "    Complexity parameter used for Minimal Cost-Complexity Pruning. The\n",
       "    subtree with the largest cost complexity that is smaller than\n",
       "    ``ccp_alpha`` will be chosen. By default, no pruning is performed. See\n",
       "    :ref:`minimal_cost_complexity_pruning` for details.\n",
       "\n",
       "    .. versionadded:: 0.22\n",
       "\n",
       "Attributes\n",
       "----------\n",
       "feature_importances_ : ndarray of shape (n_features,)\n",
       "    The feature importances.\n",
       "    The higher, the more important the feature.\n",
       "    The importance of a feature is computed as the\n",
       "    (normalized) total reduction of the criterion brought\n",
       "    by that feature. It is also known as the Gini importance [4]_.\n",
       "\n",
       "    Warning: impurity-based feature importances can be misleading for\n",
       "    high cardinality features (many unique values). See\n",
       "    :func:`sklearn.inspection.permutation_importance` as an alternative.\n",
       "\n",
       "max_features_ : int\n",
       "    The inferred value of max_features.\n",
       "\n",
       "n_features_ : int\n",
       "    The number of features when ``fit`` is performed.\n",
       "\n",
       "n_outputs_ : int\n",
       "    The number of outputs when ``fit`` is performed.\n",
       "\n",
       "tree_ : Tree\n",
       "    The underlying Tree object. Please refer to\n",
       "    ``help(sklearn.tree._tree.Tree)`` for attributes of Tree object and\n",
       "    :ref:`sphx_glr_auto_examples_tree_plot_unveil_tree_structure.py`\n",
       "    for basic usage of these attributes.\n",
       "\n",
       "See Also\n",
       "--------\n",
       "DecisionTreeClassifier : A decision tree classifier.\n",
       "\n",
       "Notes\n",
       "-----\n",
       "The default values for the parameters controlling the size of the trees\n",
       "(e.g. ``max_depth``, ``min_samples_leaf``, etc.) lead to fully grown and\n",
       "unpruned trees which can potentially be very large on some data sets. To\n",
       "reduce memory consumption, the complexity and size of the trees should be\n",
       "controlled by setting those parameter values.\n",
       "\n",
       "References\n",
       "----------\n",
       "\n",
       ".. [1] https://en.wikipedia.org/wiki/Decision_tree_learning\n",
       "\n",
       ".. [2] L. Breiman, J. Friedman, R. Olshen, and C. Stone, \"Classification\n",
       "       and Regression Trees\", Wadsworth, Belmont, CA, 1984.\n",
       "\n",
       ".. [3] T. Hastie, R. Tibshirani and J. Friedman. \"Elements of Statistical\n",
       "       Learning\", Springer, 2009.\n",
       "\n",
       ".. [4] L. Breiman, and A. Cutler, \"Random Forests\",\n",
       "       https://www.stat.berkeley.edu/~breiman/RandomForests/cc_home.htm\n",
       "\n",
       "Examples\n",
       "--------\n",
       ">>> from sklearn.datasets import load_diabetes\n",
       ">>> from sklearn.model_selection import cross_val_score\n",
       ">>> from sklearn.tree import DecisionTreeRegressor\n",
       ">>> X, y = load_diabetes(return_X_y=True)\n",
       ">>> regressor = DecisionTreeRegressor(random_state=0)\n",
       ">>> cross_val_score(regressor, X, y, cv=10)\n",
       "...                    # doctest: +SKIP\n",
       "...\n",
       "array([-0.39..., -0.46...,  0.02...,  0.06..., -0.50...,\n",
       "       0.16...,  0.11..., -0.73..., -0.30..., -0.00...])\n"
      ]
     },
     "metadata": {},
     "output_type": "display_data"
    }
   ],
   "source": [
    "?cart_model"
   ]
  },
  {
   "cell_type": "code",
   "execution_count": 87,
   "metadata": {},
   "outputs": [
    {
     "data": {
      "text/plain": [
       "DecisionTreeRegressor()"
      ]
     },
     "execution_count": 87,
     "metadata": {},
     "output_type": "execute_result"
    }
   ],
   "source": [
    "cart_model.fit(X_train, y_train)"
   ]
  },
  {
   "cell_type": "code",
   "execution_count": 88,
   "metadata": {},
   "outputs": [
    {
     "data": {
      "image/png": "[encoded data removed]",
      "text/plain": [
       "<Figure size 432x288 with 1 Axes>"
      ]
     },
     "metadata": {
      "needs_background": "light"
     },
     "output_type": "display_data"
    }
   ],
   "source": [
    "X_grid = np.arange(min(np.array(X_train)),max(np.array(X_train)), 0.01) \n",
    "X_grid = X_grid.reshape((len(X_grid), 1)) #görsel anlamda görebilmek adına bir grid oluşturuyoruz(ızgara).\n",
    "plt.scatter(X_train, y_train, color = 'red') #salary ve hits değişkenleri için scatter plot oluşturduk.\n",
    "plt.plot(X_grid, cart_model.predict(X_grid), color = 'blue')  #grid yardımıyla tahmin edilen değerleri grafiğe işleme yapıyoruz.\n",
    "plt.title('CART REGRESON AĞACI')  \n",
    "plt.xlabel('Atış Sayısı(Hits)') \n",
    "plt.ylabel('Maaş (Salary)') ; #isimlendirmeleri yaptık."
   ]
  },
  {
   "cell_type": "code",
   "execution_count": 89,
   "metadata": {},
   "outputs": [],
   "source": [
    "cart_model = DecisionTreeRegressor(max_leaf_nodes=3)"
   ]
  },
  {
   "cell_type": "code",
   "execution_count": 90,
   "metadata": {},
   "outputs": [
    {
     "data": {
      "text/plain": [
       "DecisionTreeRegressor(max_leaf_nodes=3)"
      ]
     },
     "execution_count": 90,
     "metadata": {},
     "output_type": "execute_result"
    }
   ],
   "source": [
    "cart_model.fit(X_train, y_train)"
   ]
  },
  {
   "cell_type": "code",
   "execution_count": 91,
   "metadata": {},
   "outputs": [
    {
     "data": {
      "image/png": "[encoded data removed]",
      "text/plain": [
       "<Figure size 432x288 with 1 Axes>"
      ]
     },
     "metadata": {
      "needs_background": "light"
     },
     "output_type": "display_data"
    }
   ],
   "source": [
    "X_grid = np.arange(min(np.array(X_train)),max(np.array(X_train)), 0.01) \n",
    "X_grid = X_grid.reshape((len(X_grid), 1)) #görsel anlamda görebilmek adına bir grid oluşturuyoruz(ızgara).\n",
    "plt.scatter(X_train, y_train, color = 'red') #salary ve hits değişkenleri için scatter plot oluşturduk.\n",
    "plt.plot(X_grid, cart_model.predict(X_grid), color = 'blue')  #grid yardımıyla tahmin edilen değerleri grafiğe işleme yapıyoruz.\n",
    "plt.title('CART REGRESON AĞACI')  \n",
    "plt.xlabel('Atış Sayısı(Hits)') \n",
    "plt.ylabel('Maaş (Salary)') ; #isimlendirmeleri yaptık.\n",
    "\n",
    "# Yukardakinden farklı olarak max_leaf_nodes =3 dedik yani ağaçta max bölünme sayısını belirlemiş olduk. Bu da grafikte 3 kırılma olarak görülüyor."
   ]
  },
  {
   "cell_type": "code",
   "execution_count": 92,
   "metadata": {},
   "outputs": [],
   "source": [
    "cart_model = DecisionTreeRegressor(max_leaf_nodes=10)"
   ]
  },
  {
   "cell_type": "code",
   "execution_count": 93,
   "metadata": {},
   "outputs": [
    {
     "data": {
      "text/plain": [
       "DecisionTreeRegressor(max_leaf_nodes=10)"
      ]
     },
     "execution_count": 93,
     "metadata": {},
     "output_type": "execute_result"
    }
   ],
   "source": [
    "cart_model.fit(X_train,y_train)"
   ]
  },
  {
   "cell_type": "code",
   "execution_count": 94,
   "metadata": {},
   "outputs": [
    {
     "data": {
      "image/png": "[encoded data removed]",
      "text/plain": [
       "<Figure size 432x288 with 1 Axes>"
      ]
     },
     "metadata": {
      "needs_background": "light"
     },
     "output_type": "display_data"
    }
   ],
   "source": [
    "X_grid = np.arange(min(np.array(X_train)),max(np.array(X_train)), 0.01) \n",
    "X_grid = X_grid.reshape((len(X_grid), 1)) #görsel anlamda görebilmek adına bir grid oluşturuyoruz(ızgara).\n",
    "plt.scatter(X_train, y_train, color = 'red') #salary ve hits değişkenleri için scatter plot oluşturduk.\n",
    "plt.plot(X_grid, cart_model.predict(X_grid), color = 'blue')  #grid yardımıyla tahmin edilen değerleri grafiğe işleme yapıyoruz.\n",
    "plt.title('CART REGRESON AĞACI')  \n",
    "plt.xlabel('Atış Sayısı(Hits)') \n",
    "plt.ylabel('Maaş (Salary)') ; #isimlendirmeleri yaptık.\n",
    "\n",
    "# Yukardakinden farklı olarak max_leaf_nodes =10 dedik yani ağaçta max bölünme sayısını belirlemiş olduk. Bu da grafikte 10 kırılma olarak görülüyor."
   ]
  },
  {
   "cell_type": "code",
   "execution_count": 95,
   "metadata": {},
   "outputs": [],
   "source": [
    "#!pip install skompiler"
   ]
  },
  {
   "cell_type": "code",
   "execution_count": 96,
   "metadata": {},
   "outputs": [
    {
     "name": "stdout",
     "output_type": "stream",
     "text": [
      "Requirement already satisfied: astor in /home/eren/anaconda3/lib/python3.7/site-packages (0.8.1)\n"
     ]
    }
   ],
   "source": [
    "!pip install astor"
   ]
  },
  {
   "cell_type": "code",
   "execution_count": 97,
   "metadata": {},
   "outputs": [],
   "source": [
    "from skompiler import skompile"
   ]
  },
  {
   "cell_type": "code",
   "execution_count": 98,
   "metadata": {},
   "outputs": [
    {
     "name": "stdout",
     "output_type": "stream",
     "text": [
      "(345.2011551724138 if x[0] <= 117.5 else ((((1300.0 if x[0] <= 118.5 else \n",
      "    641.0) if x[0] <= 122.5 else 1468.5236666666667) if x[0] <= 125.5 else \n",
      "    621.9679230769232) if x[0] <= 143.0 else (958.6111111111111 if x[0] <= \n",
      "    150.5 else 2460.0) if x[0] <= 151.5 else 499.1666666666667 if x[0] <= \n",
      "    157.5 else 892.5402413793104) if x[0] <= 225.5 else 1975.0)\n",
      "\n"
     ]
    }
   ],
   "source": [
    "print(skompile(cart_model.predict).to('python/code'))\n",
    "#karar ağacının karar modelini elde etmek isterserk de astor uzantısını indirip bu şekilde çevirebiliriz. (Bu karar mekanizmasını başka yerde kullanmak istersek.)\n",
    "#eğer max_leaf_nodes'i kısa seçersek doğal olarak karar mekanizma formülü de kısa olacak"
   ]
  },
  {
   "cell_type": "markdown",
   "metadata": {},
   "source": [
    "## Tahmin"
   ]
  },
  {
   "cell_type": "code",
   "execution_count": 99,
   "metadata": {},
   "outputs": [],
   "source": [
    "x = [91]\n",
    "#yukarda belirtilen DecisionTree modelinin python geliştirme kodunu aşağıdaki gibi yazıp farklı alanlarda kullanabilir implement edebiliriz."
   ]
  },
  {
   "cell_type": "code",
   "execution_count": 100,
   "metadata": {},
   "outputs": [
    {
     "data": {
      "text/plain": [
       "345.2011551724138"
      ]
     },
     "execution_count": 100,
     "metadata": {},
     "output_type": "execute_result"
    }
   ],
   "source": [
    "(345.2011551724138 if x[0] <= 117.5 else ((((1300.0 if x[0] <= 118.5 else \n",
    "    641.0) if x[0] <= 122.5 else 1468.5236666666667) if x[0] <= 125.5 else \n",
    "    621.9679230769232) if x[0] <= 143.0 else (958.6111111111111 if x[0] <= \n",
    "    150.5 else 2460.0) if x[0] <= 151.5 else 499.1666666666667 if x[0] <= \n",
    "    157.5 else 892.5402413793104) if x[0] <= 225.5 else 1975.0)"
   ]
  },
  {
   "cell_type": "code",
   "execution_count": 101,
   "metadata": {},
   "outputs": [
    {
     "data": {
      "text/plain": [
       "array([621.96792308, 958.61111111, 621.96792308, 345.20115517,\n",
       "       345.20115517])"
      ]
     },
     "execution_count": 101,
     "metadata": {},
     "output_type": "execute_result"
    }
   ],
   "source": [
    "cart_model.predict(X_test)[0:5] #klasik anlamda tahmin modeli oluşturduk"
   ]
  },
  {
   "cell_type": "code",
   "execution_count": 102,
   "metadata": {},
   "outputs": [
    {
     "data": {
      "text/plain": [
       "array([345.20115517])"
      ]
     },
     "execution_count": 102,
     "metadata": {},
     "output_type": "execute_result"
    }
   ],
   "source": [
    "cart_model.predict([[91]]) #demin kendi oluşturdupumuz modele göre hesaplama"
   ]
  },
  {
   "cell_type": "code",
   "execution_count": 103,
   "metadata": {},
   "outputs": [],
   "source": [
    "y_pred =cart_model.predict(X_test) #ilkel test hatası için tahmin modeli ve aşağıda test hatası hesaplanması"
   ]
  },
  {
   "cell_type": "code",
   "execution_count": 104,
   "metadata": {},
   "outputs": [
    {
     "data": {
      "text/plain": [
       "486.34593105235456"
      ]
     },
     "execution_count": 104,
     "metadata": {},
     "output_type": "execute_result"
    }
   ],
   "source": [
    "np.sqrt(mean_squared_error(y_test, y_pred))"
   ]
  },
  {
   "cell_type": "markdown",
   "metadata": {},
   "source": [
    "## Model Tuning"
   ]
  },
  {
   "cell_type": "code",
   "execution_count": 105,
   "metadata": {},
   "outputs": [],
   "source": [
    "cart_model = DecisionTreeRegressor()\n",
    "cart_model.fit(X_train, y_train)\n",
    "y_pred = cart_model.predict(X_test)"
   ]
  },
  {
   "cell_type": "code",
   "execution_count": 106,
   "metadata": {},
   "outputs": [
    {
     "data": {
      "text/plain": [
       "468.49579052913884"
      ]
     },
     "execution_count": 106,
     "metadata": {},
     "output_type": "execute_result"
    }
   ],
   "source": [
    "np.sqrt(mean_squared_error(y_test, y_pred))"
   ]
  },
  {
   "cell_type": "code",
   "execution_count": 107,
   "metadata": {},
   "outputs": [],
   "source": [
    "cart_params = {\"min_samples_split\": range(2,100),\n",
    "               \"max_leaf_nodes\": range(2,10)}"
   ]
  },
  {
   "cell_type": "code",
   "execution_count": 108,
   "metadata": {},
   "outputs": [],
   "source": [
    "cart_cv_model = GridSearchCV(cart_model, cart_params, cv = 10)"
   ]
  },
  {
   "cell_type": "code",
   "execution_count": 109,
   "metadata": {},
   "outputs": [
    {
     "data": {
      "text/plain": [
       "GridSearchCV(cv=10, estimator=DecisionTreeRegressor(),\n",
       "             param_grid={'max_leaf_nodes': range(2, 10),\n",
       "                         'min_samples_split': range(2, 100)})"
      ]
     },
     "execution_count": 109,
     "metadata": {},
     "output_type": "execute_result"
    }
   ],
   "source": [
    "cart_cv_model.fit(X_train, y_train)"
   ]
  },
  {
   "cell_type": "code",
   "execution_count": 110,
   "metadata": {},
   "outputs": [
    {
     "data": {
      "text/plain": [
       "{'max_leaf_nodes': 9, 'min_samples_split': 76}"
      ]
     },
     "execution_count": 110,
     "metadata": {},
     "output_type": "execute_result"
    }
   ],
   "source": [
    "cart_cv_model.best_params_"
   ]
  },
  {
   "cell_type": "code",
   "execution_count": 111,
   "metadata": {},
   "outputs": [],
   "source": [
    "cart_tuned = DecisionTreeRegressor(max_leaf_nodes = 9, min_samples_split = 37)"
   ]
  },
  {
   "cell_type": "code",
   "execution_count": 112,
   "metadata": {},
   "outputs": [
    {
     "data": {
      "text/plain": [
       "DecisionTreeRegressor(max_leaf_nodes=9, min_samples_split=37)"
      ]
     },
     "execution_count": 112,
     "metadata": {},
     "output_type": "execute_result"
    }
   ],
   "source": [
    "cart_tuned.fit(X_train, y_train)"
   ]
  },
  {
   "cell_type": "code",
   "execution_count": 113,
   "metadata": {},
   "outputs": [],
   "source": [
    "y_pred = cart_tuned.predict(X_test)"
   ]
  },
  {
   "cell_type": "code",
   "execution_count": 114,
   "metadata": {},
   "outputs": [
    {
     "data": {
      "text/plain": [
       "434.2326688144208"
      ]
     },
     "execution_count": 114,
     "metadata": {},
     "output_type": "execute_result"
    }
   ],
   "source": [
    "np.sqrt(mean_squared_error(y_test, y_pred))"
   ]
  },
  {
   "cell_type": "markdown",
   "metadata": {},
   "source": [
    "# Bagged Trees Regresyon"
   ]
  },
  {
   "cell_type": "markdown",
   "metadata": {},
   "source": [
    "### Birden fazla ağacın bir arada çalıştırılması ve kullanılmasıyla oluşturuşan modeldir."
   ]
  },
  {
   "cell_type": "code",
   "execution_count": 115,
   "metadata": {},
   "outputs": [],
   "source": [
    "hit = pd.read_csv(\"Hitters.csv\")\n",
    "df = hit.copy()\n",
    "df = df.dropna()\n",
    "dms = pd.get_dummies(df[['League', 'Division', 'NewLeague']])\n",
    "y = df[\"Salary\"]\n",
    "X_ = df.drop(['Salary', 'League', 'Division', 'NewLeague'], axis=1).astype('float64')\n",
    "X = pd.concat([X_, dms[['League_N', 'Division_W', 'NewLeague_N']]], axis=1)\n",
    "X_train, X_test, y_train, y_test = train_test_split(X, y, \n",
    "                                                    test_size=0.25, \n",
    "                                                    random_state=42)\n"
   ]
  },
  {
   "cell_type": "code",
   "execution_count": 116,
   "metadata": {},
   "outputs": [
    {
     "data": {
      "text/plain": [
       "BaggingRegressor(bootstrap_features=True)"
      ]
     },
     "execution_count": 116,
     "metadata": {},
     "output_type": "execute_result"
    }
   ],
   "source": [
    "bag_model = BaggingRegressor(bootstrap_features = True)\n",
    "bag_model.fit(X_train, y_train)"
   ]
  },
  {
   "cell_type": "code",
   "execution_count": 117,
   "metadata": {},
   "outputs": [
    {
     "data": {
      "text/plain": [
       "10"
      ]
     },
     "execution_count": 117,
     "metadata": {},
     "output_type": "execute_result"
    }
   ],
   "source": [
    "bag_model.n_estimators"
   ]
  },
  {
   "cell_type": "code",
   "execution_count": 118,
   "metadata": {},
   "outputs": [
    {
     "data": {
      "text/plain": [
       "[DecisionTreeRegressor(random_state=2106270115),\n",
       " DecisionTreeRegressor(random_state=604160287),\n",
       " DecisionTreeRegressor(random_state=1818112300),\n",
       " DecisionTreeRegressor(random_state=1144551074),\n",
       " DecisionTreeRegressor(random_state=1634764234),\n",
       " DecisionTreeRegressor(random_state=820974251),\n",
       " DecisionTreeRegressor(random_state=1387516839),\n",
       " DecisionTreeRegressor(random_state=2009973545),\n",
       " DecisionTreeRegressor(random_state=1391412095),\n",
       " DecisionTreeRegressor(random_state=657601986)]"
      ]
     },
     "execution_count": 118,
     "metadata": {},
     "output_type": "execute_result"
    }
   ],
   "source": [
    "bag_model.estimators_ # birbirinden farklı ağaçlar"
   ]
  },
  {
   "cell_type": "code",
   "execution_count": 119,
   "metadata": {
    "collapsed": true,
    "jupyter": {
     "outputs_hidden": true
    }
   },
   "outputs": [
    {
     "data": {
      "text/plain": [
       "[array([114,  83, 154,  30,  19, 164,  24, 186, 109, 174, 165,  87,   3,\n",
       "        170, 196, 116,  43, 171,  46, 142,   9, 116, 184,  90, 191,  26,\n",
       "        168, 153,  98,  20,  94, 119,  11, 138,  70, 135, 193,  54, 103,\n",
       "        150, 104, 183, 169,   7, 153,  52, 131, 127, 193, 167,  99,  90,\n",
       "        141, 172, 102, 158,  54, 146,  36,  16,  24,   4, 113,  22,  82,\n",
       "          0, 168,  54,  51, 120,  95,  63, 111, 182,  47,  41,  69,  57,\n",
       "        183, 167,  74,  44,  48, 168, 101, 111,  43, 182,  47,  96, 196,\n",
       "         65, 106, 158, 131, 113, 118,  55,  99,  15, 139, 105,  81, 114,\n",
       "         80,  30,  21, 162, 118,  50, 109,  92,  84,  74,  35,  46, 117,\n",
       "         61,   9,  23, 120, 127, 119, 190,  36, 175, 121, 161,  22,   9,\n",
       "         29, 109, 104, 123, 132,  40, 175, 106,  13, 111, 119, 151, 124,\n",
       "         98,   1, 136, 172,  51, 139,  73,  39, 194,  45, 106, 163, 192,\n",
       "        135, 171,  48,  70,  40, 175, 186, 190, 141, 166, 147,  56,   2,\n",
       "        188,  93, 128,  79, 120,  80,  27, 123,  73,  19,  44, 130,   0,\n",
       "         58,  28,  54,  26, 157,  23,  26, 147,  87,  20, 172, 139, 158,\n",
       "         60,  51]),\n",
       " array([107, 168, 125,  58, 151, 107, 130,  24,  84,  52, 100, 149,  87,\n",
       "        113,  85,  44, 142, 157,  78,  31,  34, 145,  89, 132,  19, 187,\n",
       "         87,  58,   5, 155, 125,   0,  34,  90, 191, 121, 130,  94,  63,\n",
       "         21,  88, 132,  76, 176, 104,   5, 126,  49,  89, 138,  60,  84,\n",
       "        157,   7,  21,   0,  35, 130,  40, 125, 131, 139,  23, 155, 129,\n",
       "         26,  17,  16, 147, 161, 193, 141, 125, 165, 118, 158,  90,  62,\n",
       "         13,  11, 193,  70,  14, 123, 159, 133,  50, 160, 109, 127,  67,\n",
       "        196,  96, 140, 145, 119, 131,  48, 164,  20,  80, 181,  74,  39,\n",
       "         52,   7, 186,  14,  96,   2, 142,  92, 173,  70, 152, 175,  37,\n",
       "          1,  77, 166,  62,  29, 120, 116, 152,  30,  45,  27, 139,   1,\n",
       "         81, 196, 194,  76, 138, 118,  10,  85,  50, 145, 156,  35, 122,\n",
       "          4, 127,  21, 130,  74, 135, 144, 150, 160, 142, 144, 136,  22,\n",
       "        147,  12, 164,  60,  85, 165,  16, 193, 180,  92, 132, 112, 158,\n",
       "        129, 173, 100, 117,  94, 180, 194, 116, 160, 196, 140, 107, 162,\n",
       "        134,  77, 142, 169,  48,   6, 112,  40, 146,  18,  71, 195,  95,\n",
       "         44,  98]),\n",
       " array([110,  43, 149,   0,  99,  43, 193, 105, 124, 122, 144,  88, 180,\n",
       "        170, 125, 104,  91,  62,  27,  84,  15, 186,   4, 179,  12, 190,\n",
       "        105, 172,  72,  56, 170, 124,  45,  92, 139,  12,  73, 160, 127,\n",
       "         42, 103, 131, 166,  51,  71, 143, 154, 134, 143,  55,   8,  85,\n",
       "         87,  29,  97,   4,  65, 149,  31,  16, 125,  61,  83,  66,  31,\n",
       "         15, 131,  23, 190, 171, 161, 145,  43,  21,   7, 172, 151,  15,\n",
       "        133, 145,  26, 138, 158,  90,  77, 184,  21, 122,  35, 122,  93,\n",
       "         21, 125,  63,  19, 100,   6, 183, 142, 167,  44,  84,  15,  69,\n",
       "          7,  70,  62, 163, 169,  19,  67,  91,   3,  16, 164, 107,  31,\n",
       "        103, 165,  22,   9, 108,   7, 136,  97,  48, 120, 126, 111, 117,\n",
       "        145, 187, 180,  84,  86, 111, 167, 192, 134,  48, 125, 116,  71,\n",
       "         89, 174, 185,  93, 173,  95, 159,  11, 182, 157,  59,  14,  27,\n",
       "         92,  82,  96,  32, 131, 191,  44, 132, 120,  42, 134, 115, 165,\n",
       "         96,  48,  54, 121,  77,   8,  49, 146, 133, 186, 102, 183,  57,\n",
       "        125, 143,  65, 109, 101, 158, 115,  26, 180,  92,  19,  26, 122,\n",
       "        168, 176]),\n",
       " array([161,  71,  54,  24, 127, 177,  73, 123,   6,  86,  22,  73,  17,\n",
       "         42, 121,  89, 178,   7,  64, 190,  89,  93,  51,   6, 190, 120,\n",
       "        162, 120, 108, 121,  65, 154,  32,  37,  48,  96,  64, 148,  73,\n",
       "        152, 186,  51,  15, 190,  79, 120,  28,  96,  36, 163,  96,  17,\n",
       "        104,  25, 196,  49,  74,  51,  62, 107, 103, 108, 143,  57, 188,\n",
       "        101, 158, 195,  33, 122,  23,  64,  97, 146,  24, 160,  27, 172,\n",
       "         27,  95,  22, 110,  52, 154,  22, 145,  66,   6, 196, 114,  28,\n",
       "        158, 115,  26,  25,  97,  49,  56,  52, 117, 155,  82, 154, 184,\n",
       "        137, 183, 147, 156,  58,  47,  27,  47, 176,  47, 180, 102, 119,\n",
       "        191,  66,  52, 160, 154,  35, 165, 191, 121,  12, 155,   4,  25,\n",
       "         40,  62,   0,  22,  72, 106,  39,  32, 110,  71,  14,  77, 159,\n",
       "        184, 158,  37, 118,  21, 109, 129, 105, 101, 147,  48,  73, 140,\n",
       "         86, 185,  76, 187,  71, 175, 189, 143,  51, 143, 115, 195,  81,\n",
       "         18,  24,  16, 184,  46, 149, 156,  31,  67,  36,  57, 104, 167,\n",
       "          9,  17,  94,  75,  39,  82, 186,  64,  28,   9, 153, 129,  20,\n",
       "        130,  55]),\n",
       " array([ 54, 115,  38,  30,  72, 144, 178, 176, 102,  51, 154, 129, 181,\n",
       "         77,  75, 180, 110,  75, 144, 196,  52, 196, 179, 174,  61, 115,\n",
       "         75, 157, 196, 193, 101, 127, 162,  51,  18, 132, 168,  79, 155,\n",
       "        114,  14, 138,  16, 158,  84, 135, 122,  74,  79,  45, 110, 114,\n",
       "        181, 106,  64,   2, 121, 155, 114,  72,  79, 131,  74, 162,   2,\n",
       "        174, 144, 183,  16,  93, 138, 182, 130,  94,  29,   8,   4, 118,\n",
       "        179, 131, 137, 152, 153, 145, 159,  85, 101, 194, 105,  90,  54,\n",
       "         51, 164, 111,  97, 189, 110,  62,  99, 165, 164, 172,   5, 194,\n",
       "        133, 130,  74,  42, 101,  22,  84, 126, 116,  94,  36,  66, 167,\n",
       "        100, 175,  26, 115,   1, 143, 181, 143, 126,  60, 149, 132,  96,\n",
       "         28, 169,  77, 188,  53,  66, 113, 129, 158,  80, 138, 128,  94,\n",
       "        105, 142, 116,  67,  59, 177, 183, 128, 175, 162,  72, 152,  40,\n",
       "         87, 161,  93, 105, 142, 184, 116, 104,  67,  31, 118,  58,  86,\n",
       "        104,  15,  22,  13, 175, 134, 116, 189,   7,  75,  27,  10, 145,\n",
       "         30, 127,  28,  31,  73,   3, 158,   2, 123, 144, 150, 157,  69,\n",
       "        138, 142]),\n",
       " array([139, 169, 105,  70,  46,  13, 171, 109,  43, 193,  50, 192, 167,\n",
       "          8, 189, 181,  63,   6,  24, 119, 143, 140,  79,  25, 192, 120,\n",
       "        145,   3,  99,  90, 139,  76,  73, 148, 169,  83, 137,  94, 136,\n",
       "        138,  18, 155, 175, 112,  31,  66,   8, 154, 118,  95, 172,  51,\n",
       "        158, 192,  11, 110,   2,  58,  75, 163, 121, 150,  77,  37, 146,\n",
       "         79,  87,  91, 137,  70, 135,  34, 140,  39,  65,  98,  71,  62,\n",
       "         52,   7,  26,  24,  90, 133,  93,  21, 112, 136, 160,  39,  43,\n",
       "         36,  57,  37,  25,  83,  75, 136, 170,  61,  27,  72,  75,  66,\n",
       "        105, 135,  13,  55,  79, 130, 110,  21,  53,   2, 141, 143, 122,\n",
       "        148, 146,  11,  36,  21,  66, 140, 159, 115,  80, 189,  42,  74,\n",
       "        153, 141, 158, 132,  51,  31,   7, 120, 167, 127, 103,  43, 169,\n",
       "          5,  74,  75, 167, 146, 141,  42, 119,  26,  25,  46,  31, 187,\n",
       "        168, 171,  80, 160, 135,  66,   3,  98, 120, 123,  42,  89, 151,\n",
       "         13,  55, 140, 127, 193, 158, 114, 143, 105,  47,  89, 146,  72,\n",
       "         11, 113,   4,  25, 143, 188,  81, 129,  36, 111,  96,  28,   4,\n",
       "        196,  95]),\n",
       " array([ 18, 194,  10,   1, 147,  20,  10, 162,  40, 143,  30, 162,  19,\n",
       "         28, 195,  32,  56,  61, 125, 171, 119,  78, 187, 143,  28, 188,\n",
       "        105,  63, 108, 154, 173,  14,  61, 163, 183, 103,  49, 159, 167,\n",
       "         20,  73, 155, 178,  15,   7, 155, 107, 151, 173,  58,  17, 100,\n",
       "         39,  95, 170, 174, 109,   6,  50,  51,  49,   0,  31,  80,   2,\n",
       "        114, 134,  39, 156,  90,  27,  89,  78,  41,  53, 130, 185,  58,\n",
       "         64,  27, 119, 155,  50, 159, 133,  64, 184, 168,   4, 129,  63,\n",
       "        175,  95,  82,   5, 141, 111, 130,  44,  29, 195,  21, 154, 142,\n",
       "         18, 128,  52,  17,   4,   8,  79, 143, 129, 184, 123,  35,  85,\n",
       "        115,  66, 113, 165,  17, 136, 140, 176, 151, 155,  80, 121,   0,\n",
       "        134, 191,  80,  45, 137, 175,  23,  69, 192,  29,  33, 112,  45,\n",
       "        157,  98,  24,  50,  42, 154,  47, 142, 183, 185, 152,  82,  78,\n",
       "        119,   3,  28,  18, 120,  31,  92, 107, 182, 182, 160, 116,  60,\n",
       "         87, 104,  72, 131, 185,  37,  71,  90,   7, 121,  59,  72, 187,\n",
       "         60, 104,  14, 194,  74, 150, 176,  17, 137,   5, 111, 150,   0,\n",
       "         62,  62]),\n",
       " array([146, 149,  89,  22,  77,  91,  61, 169, 150,  38, 178,  97,  65,\n",
       "         47, 187, 162, 125,  54, 143,   1, 183, 126, 191,  46, 124,  22,\n",
       "         57, 185, 169, 125,  82, 135,  92,  52,  97,  86,  87,  35, 150,\n",
       "        185, 188,   5, 111,  26,  20, 151, 194,  11,  89, 168, 101, 138,\n",
       "        104,  36,  25,  19,  59, 107, 192,   4, 190,  35, 187, 172,  24,\n",
       "        185,  30,  85,   1,  55,  98,   9,  69, 163, 142,  66, 178,  61,\n",
       "         52, 102, 138, 166, 151, 140, 100, 178, 183, 142,  54, 130,  38,\n",
       "        143, 107, 106,  20,  94,  42,  83, 192, 160,  74,   8,   5,  43,\n",
       "         40, 196,  62,  30,   4, 172,  16, 185,  35, 104, 143,  24, 165,\n",
       "         56,  14, 111,  45, 177, 104, 139, 159,  27, 170,  35, 120,  57,\n",
       "         43,  87,  37,  96, 185,  34,   8, 177,  14, 169, 100, 189,  92,\n",
       "         41, 122,  42, 167, 132, 132, 175,  65, 171,  85,  19,  58, 164,\n",
       "         20, 177,  22, 162,  41,  18, 100,  97,  43, 124,  23, 153,  22,\n",
       "          3, 156,  64, 180, 121, 117,  51, 168, 170, 110,  10,  94,  83,\n",
       "         86, 167,  57, 130,  83, 134,  63, 154, 125,  86,  86,  58,   9,\n",
       "         96, 110]),\n",
       " array([ 93, 135,  81, 146,  96,  28,  65, 128,  22, 158, 141, 191,  96,\n",
       "         78,  66,  88, 133,  11, 141, 155,  61, 112,  34, 191, 138, 117,\n",
       "          1,   0,  31, 103,  14,  84,  83,  16, 148,  99,  81,  64,  94,\n",
       "         13,  45, 147, 138,  38, 135, 163,  65, 194, 159,  57, 185,  38,\n",
       "         25,  37,  37,  59,  93,  30, 160,  50, 185,  76,  91,   1,  28,\n",
       "         30, 120, 195,  22,   7, 125,  45,  96, 166, 193, 133,  59,  92,\n",
       "        146, 107,  26,  53,  38, 158, 174,  17,  30, 114,  69, 118,  83,\n",
       "        172,   5, 168,  98,  79, 102, 172,   9,  11, 143, 110,  50, 176,\n",
       "        127, 116, 118,  80, 127, 138,  48,  38,   8,  28, 164,  93,  45,\n",
       "        177, 177,  26,   8, 161, 122, 131,  22,  32, 172,   8,  53,  20,\n",
       "        118, 168,   2,  18, 178,   2,  27,  31, 184, 180,   9,  22,  18,\n",
       "         53, 103, 123,  87,  98, 180, 152,  52, 140,  61,   7, 105, 119,\n",
       "          5,  15,  66, 127,   6,  79,   4, 182,  64, 126,  19, 149,   2,\n",
       "          2, 182,  64,  48, 164, 142,  78, 130, 184, 194,  67,  77,  45,\n",
       "        147,   9, 116, 195,   9, 181,  40,  89,  72, 153, 157, 161, 108,\n",
       "         69,  47]),\n",
       " array([136,  94,  61,  14,  61,  80,  46,  31,  23,  70,  50,  73,  31,\n",
       "        192, 106,   9, 169, 117,  12,  64, 170, 176,  92, 162, 113,  26,\n",
       "         85, 144,  35,  28, 168, 153,  80, 110,  58, 176,  15, 133,  14,\n",
       "         46, 129, 133,  47, 126, 116,  33,  85,   5, 111, 192, 101,  36,\n",
       "        142, 111,  78,  46, 106, 153,  31, 111,  82, 106,  44,  46, 196,\n",
       "        105, 169,  47,  86,  64, 157,  88, 131, 128, 135, 105, 167,  33,\n",
       "         24,  84,  57,  37,  77, 153, 153,  76, 141, 186, 147, 131,  41,\n",
       "        188, 154,  89, 109, 175,  85, 134, 113,  80, 112,  18,  66, 173,\n",
       "         49, 165,  25,  78,  82,  62,  41, 102,  43,  62, 175, 188, 176,\n",
       "         15,   5, 186, 174,  50, 170,  85,  75, 148,  90,  18, 115, 150,\n",
       "         98, 134,  48,  73, 132,  71,  15, 183, 137,  86,  96, 172,   3,\n",
       "         95,  57,  68,  39,   2, 135,  33,  10,  83, 133, 181, 147, 120,\n",
       "         57,  54, 122, 165, 148,  59,  74,  10, 133,  78, 143, 179,  49,\n",
       "         57,  31, 163,  40,  48,  90,  49,  65, 183, 132,  25, 189,  48,\n",
       "        125, 181, 141, 172, 163,  54, 181, 141, 117, 145,  30,  93,  99,\n",
       "         20, 105])]"
      ]
     },
     "execution_count": 119,
     "metadata": {},
     "output_type": "execute_result"
    }
   ],
   "source": [
    "bag_model.estimators_samples_ #her bir ağaçtaki değerler"
   ]
  },
  {
   "cell_type": "code",
   "execution_count": 120,
   "metadata": {},
   "outputs": [
    {
     "data": {
      "text/plain": [
       "[array([ 3, 14,  7, 11,  0, 18,  4,  8, 12,  4, 14, 14,  4, 14, 13,  4,  4,\n",
       "         6, 15]),\n",
       " array([ 4, 15, 16,  9, 11, 18,  5, 14,  6, 17,  3, 12,  2,  5,  2,  4,  0,\n",
       "         9, 14]),\n",
       " array([12,  9,  7, 13, 18, 11, 13,  0,  4, 13, 10,  1,  8, 17, 14, 13, 13,\n",
       "        13, 11]),\n",
       " array([ 2, 15,  3, 14,  2,  5,  5, 12, 15, 18,  1,  1, 18,  8, 12,  7,  0,\n",
       "        18,  3]),\n",
       " array([10, 18,  2,  1,  8, 17,  1, 14, 15, 13, 13,  0, 15, 13, 13, 14, 15,\n",
       "        18,  1]),\n",
       " array([11, 16,  7,  6, 17,  9, 14,  4,  9,  9,  2,  5, 17,  3, 10, 11,  6,\n",
       "        11,  8]),\n",
       " array([ 7,  7, 17,  2,  7,  5, 10, 13,  9,  5, 16, 18, 17,  8, 13, 16, 12,\n",
       "         6, 12]),\n",
       " array([ 9,  0, 12,  8,  0, 16,  0,  3,  5, 15, 17, 10,  2,  9,  5,  0, 11,\n",
       "        14,  7]),\n",
       " array([17, 11, 17,  1, 13,  9, 15,  8, 15,  7,  4,  4,  2, 11, 17, 11, 15,\n",
       "        13, 10]),\n",
       " array([ 2, 13, 16,  3,  4,  1, 10,  5,  4, 14,  7,  5,  6,  8, 12,  5, 15,\n",
       "        11,  1])]"
      ]
     },
     "execution_count": 120,
     "metadata": {},
     "output_type": "execute_result"
    }
   ],
   "source": [
    "bag_model.estimators_features_ #bütün ağaçlardaki değerler ve indexleri"
   ]
  },
  {
   "cell_type": "code",
   "execution_count": 121,
   "metadata": {},
   "outputs": [
    {
     "data": {
      "text/plain": [
       "DecisionTreeRegressor(random_state=604160287)"
      ]
     },
     "execution_count": 121,
     "metadata": {},
     "output_type": "execute_result"
    }
   ],
   "source": [
    "bag_model.estimators_[1] #2. modelin özelliklerine ulaşıyoruz."
   ]
  },
  {
   "cell_type": "markdown",
   "metadata": {},
   "source": [
    "## Tahmin"
   ]
  },
  {
   "cell_type": "code",
   "execution_count": 122,
   "metadata": {},
   "outputs": [],
   "source": [
    "y_pred = bag_model.predict(X_test)"
   ]
  },
  {
   "cell_type": "code",
   "execution_count": 123,
   "metadata": {},
   "outputs": [
    {
     "data": {
      "text/plain": [
       "322.91754786507175"
      ]
     },
     "execution_count": 123,
     "metadata": {},
     "output_type": "execute_result"
    }
   ],
   "source": [
    "np.sqrt(mean_squared_error(y_test, y_pred)) \n",
    "#bu değer topluluktaki bütün ağaçların birleştirilmesiyle elde edilmiş değerler. Aşağıda ise istenilen ağaca gidip tek tek bakılmasını ifade ediyor"
   ]
  },
  {
   "cell_type": "code",
   "execution_count": 124,
   "metadata": {},
   "outputs": [],
   "source": [
    "iki_y_pred = bag_model.estimators_[1].fit(X_train, y_train).predict(X_test) #2 no'lu ağaca gidip değeri görmek. Esas amaç hatalı ağaç yapısını tespit etmek."
   ]
  },
  {
   "cell_type": "code",
   "execution_count": 125,
   "metadata": {},
   "outputs": [
    {
     "data": {
      "text/plain": [
       "528.5929495451423"
      ]
     },
     "execution_count": 125,
     "metadata": {},
     "output_type": "execute_result"
    }
   ],
   "source": [
    "np.sqrt(mean_squared_error(y_test, iki_y_pred)) #kötü karar vermiş beceriksiz bir ağaç. İlerleyen zamanlarda bu ağaçların hepsine ayrı ayrı ağırlıklar vereceğiz ki başarılı olan ağaçlar daha öne çıksın başarısızlar \n",
    "#geride kalsın sonucen daha doğru bir kanıya ulaşmak için"
   ]
  },
  {
   "cell_type": "code",
   "execution_count": 126,
   "metadata": {},
   "outputs": [],
   "source": [
    "yedi_y_pred = bag_model.estimators_[4].fit(X_train, y_train).predict(X_test) # 5no'lu ağacın incelenmesi"
   ]
  },
  {
   "cell_type": "code",
   "execution_count": 127,
   "metadata": {},
   "outputs": [
    {
     "data": {
      "text/plain": [
       "435.84714672365527"
      ]
     },
     "execution_count": 127,
     "metadata": {},
     "output_type": "execute_result"
    }
   ],
   "source": [
    "np.sqrt(mean_squared_error(y_test, yedi_y_pred))"
   ]
  },
  {
   "cell_type": "markdown",
   "metadata": {},
   "source": [
    "#### Burdaki metodolojiyi herhangi bir ağaca uyguladığımızda o ağacı bag etmiş oluyoruz bagging yapmış oluyoruz. Bu metodolojiyi CART'a uyguladığımızda bir de farklı olarak değişken seçimlerine de random subspace getirdiğimzide random forest oluşturmuş oluyoruz."
   ]
  },
  {
   "cell_type": "markdown",
   "metadata": {},
   "source": [
    "# Model Tuning"
   ]
  },
  {
   "cell_type": "code",
   "execution_count": 149,
   "metadata": {},
   "outputs": [
    {
     "data": {
      "text/plain": [
       "BaggingRegressor(bootstrap_features=True)"
      ]
     },
     "execution_count": 149,
     "metadata": {},
     "output_type": "execute_result"
    }
   ],
   "source": [
    "bag_model = BaggingRegressor(bootstrap_features = True)\n",
    "bag_model.fit(X_train, y_train)"
   ]
  },
  {
   "cell_type": "code",
   "execution_count": 150,
   "metadata": {},
   "outputs": [],
   "source": [
    "bag_params = {\"n_estimators\": range(2,20)}"
   ]
  },
  {
   "cell_type": "code",
   "execution_count": 151,
   "metadata": {},
   "outputs": [],
   "source": [
    "bag_cv_model = GridSearchCV(bag_model, bag_params, cv = 10) #cross validation yapıyoruz"
   ]
  },
  {
   "cell_type": "code",
   "execution_count": 152,
   "metadata": {},
   "outputs": [
    {
     "data": {
      "text/plain": [
       "GridSearchCV(cv=10, estimator=BaggingRegressor(bootstrap_features=True),\n",
       "             param_grid={'n_estimators': range(2, 20)})"
      ]
     },
     "execution_count": 152,
     "metadata": {},
     "output_type": "execute_result"
    }
   ],
   "source": [
    "bag_cv_model.fit(X_train, y_train)"
   ]
  },
  {
   "cell_type": "code",
   "execution_count": 153,
   "metadata": {},
   "outputs": [
    {
     "data": {
      "text/plain": [
       "{'n_estimators': 14}"
      ]
     },
     "execution_count": 153,
     "metadata": {},
     "output_type": "execute_result"
    }
   ],
   "source": [
    "bag_cv_model.best_params_"
   ]
  },
  {
   "cell_type": "code",
   "execution_count": 133,
   "metadata": {},
   "outputs": [],
   "source": [
    "bag_tuned = BaggingRegressor( n_estimators = 14, random_state = 45)"
   ]
  },
  {
   "cell_type": "code",
   "execution_count": 134,
   "metadata": {},
   "outputs": [
    {
     "data": {
      "text/plain": [
       "BaggingRegressor(n_estimators=14, random_state=45)"
      ]
     },
     "execution_count": 134,
     "metadata": {},
     "output_type": "execute_result"
    }
   ],
   "source": [
    "bag_tuned.fit(X_train, y_train)"
   ]
  },
  {
   "cell_type": "code",
   "execution_count": 135,
   "metadata": {},
   "outputs": [],
   "source": [
    "y_pred = bag_tuned.predict(X_test)"
   ]
  },
  {
   "cell_type": "code",
   "execution_count": 136,
   "metadata": {},
   "outputs": [
    {
     "data": {
      "text/plain": [
       "346.457987188104"
      ]
     },
     "execution_count": 136,
     "metadata": {},
     "output_type": "execute_result"
    }
   ],
   "source": [
    "np.sqrt(mean_squared_error(y_test, y_pred))"
   ]
  },
  {
   "cell_type": "markdown",
   "metadata": {},
   "source": [
    "# Random Forests"
   ]
  },
  {
   "cell_type": "code",
   "execution_count": 154,
   "metadata": {},
   "outputs": [],
   "source": [
    "hit = pd.read_csv(\"Hitters.csv\")\n",
    "df = hit.copy()\n",
    "df = df.dropna()\n",
    "dms = pd.get_dummies(df[['League', 'Division', 'NewLeague']])\n",
    "y = df[\"Salary\"]\n",
    "X_ = df.drop(['Salary', 'League', 'Division', 'NewLeague'], axis=1).astype('float64')\n",
    "X = pd.concat([X_, dms[['League_N', 'Division_W', 'NewLeague_N']]], axis=1)\n",
    "X_train, X_test, y_train, y_test = train_test_split(X, y, \n",
    "                                                    test_size=0.25, \n",
    "                                                    random_state=42)\n"
   ]
  },
  {
   "cell_type": "code",
   "execution_count": 155,
   "metadata": {},
   "outputs": [],
   "source": [
    "from sklearn.ensemble import RandomForestRegressor"
   ]
  },
  {
   "cell_type": "code",
   "execution_count": 156,
   "metadata": {},
   "outputs": [],
   "source": [
    "rf_model = RandomForestRegressor(random_state = 42)"
   ]
  },
  {
   "cell_type": "markdown",
   "metadata": {},
   "source": [
    "#### Random Forests'ta önemli olan 3 değişken var. \n",
    "#### 1.n_estimators ==> Fit edilecek ağaç sayısı,tahmin sayısı,iterasyon sayısı\n",
    "#### 2. max_features ==> her bölünmede göze alınacak olan değişken sayısı\n",
    "#### 3.max_depth ==>  dallanmayı en tepeden kontrol eden yapı"
   ]
  },
  {
   "cell_type": "code",
   "execution_count": 157,
   "metadata": {},
   "outputs": [
    {
     "data": {
      "text/plain": [
       "RandomForestRegressor(random_state=42)"
      ]
     },
     "execution_count": 157,
     "metadata": {},
     "output_type": "execute_result"
    }
   ],
   "source": [
    "rf_model.fit(X_train, y_train)"
   ]
  },
  {
   "cell_type": "markdown",
   "metadata": {},
   "source": [
    "## Tahmin"
   ]
  },
  {
   "cell_type": "code",
   "execution_count": 158,
   "metadata": {},
   "outputs": [
    {
     "data": {
      "text/plain": [
       "array([ 738.69167,  913.51164, 1181.145  ,  139.65167,  634.60833])"
      ]
     },
     "execution_count": 158,
     "metadata": {},
     "output_type": "execute_result"
    }
   ],
   "source": [
    "rf_model.predict(X_test)[0:5]"
   ]
  },
  {
   "cell_type": "code",
   "execution_count": 159,
   "metadata": {},
   "outputs": [],
   "source": [
    "y_pred = rf_model.predict(X_test)"
   ]
  },
  {
   "cell_type": "code",
   "execution_count": 160,
   "metadata": {},
   "outputs": [
    {
     "data": {
      "text/plain": [
       "344.8191624908484"
      ]
     },
     "execution_count": 160,
     "metadata": {},
     "output_type": "execute_result"
    }
   ],
   "source": [
    "np.sqrt(mean_squared_error(y_test, y_pred))"
   ]
  },
  {
   "cell_type": "markdown",
   "metadata": {},
   "source": [
    "## Model Tuning"
   ]
  },
  {
   "cell_type": "code",
   "execution_count": 161,
   "metadata": {},
   "outputs": [],
   "source": [
    "rf_params = {'max_depth': list(range(1,10)),\n",
    "            'max_features': [3,5,10,15],\n",
    "            'n_estimators' : [100, 200, 500, 1000, 2000]} #grid oluşturma işlemi"
   ]
  },
  {
   "cell_type": "code",
   "execution_count": 162,
   "metadata": {},
   "outputs": [],
   "source": [
    "rf_model = RandomForestRegressor(random_state = 42)"
   ]
  },
  {
   "cell_type": "code",
   "execution_count": 163,
   "metadata": {},
   "outputs": [],
   "source": [
    "rf_cv_model = GridSearchCV(rf_model, \n",
    "                           rf_params, \n",
    "                           cv = 10, \n",
    "                            n_jobs = -1)\n",
    "\n",
    "#n_jobs=-1 şu an yaptığımız uzun ve karmaşık işlemlerde paralel işlemleri de vdevreye sokarak işlemcinin tam kapasite çalışmasını sağlar."
   ]
  },
  {
   "cell_type": "code",
   "execution_count": 164,
   "metadata": {},
   "outputs": [
    {
     "data": {
      "text/plain": [
       "GridSearchCV(cv=10, estimator=RandomForestRegressor(random_state=42), n_jobs=-1,\n",
       "             param_grid={'max_depth': [1, 2, 3, 4, 5, 6, 7, 8, 9],\n",
       "                         'max_features': [3, 5, 10, 15],\n",
       "                         'n_estimators': [100, 200, 500, 1000, 2000]})"
      ]
     },
     "execution_count": 164,
     "metadata": {},
     "output_type": "execute_result"
    }
   ],
   "source": [
    "rf_cv_model.fit(X_train, y_train)"
   ]
  },
  {
   "cell_type": "code",
   "execution_count": 165,
   "metadata": {},
   "outputs": [
    {
     "data": {
      "text/plain": [
       "{'max_depth': 8, 'max_features': 3, 'n_estimators': 200}"
      ]
     },
     "execution_count": 165,
     "metadata": {},
     "output_type": "execute_result"
    }
   ],
   "source": [
    "rf_cv_model.best_params_"
   ]
  },
  {
   "cell_type": "code",
   "execution_count": 172,
   "metadata": {},
   "outputs": [],
   "source": [
    "rf_tuned = RandomForestRegressor(max_depth  = 8, \n",
    "                                 max_features = 3, \n",
    "                                 n_estimators =200)\n",
    "\n",
    "#final modeli oluşturuyoruz best_params'a göre"
   ]
  },
  {
   "cell_type": "code",
   "execution_count": 167,
   "metadata": {},
   "outputs": [
    {
     "data": {
      "text/plain": [
       "RandomForestRegressor(max_depth=8, max_features=3, n_estimators=200)"
      ]
     },
     "execution_count": 167,
     "metadata": {},
     "output_type": "execute_result"
    }
   ],
   "source": [
    "rf_tuned.fit(X_train, y_train)"
   ]
  },
  {
   "cell_type": "code",
   "execution_count": 168,
   "metadata": {},
   "outputs": [],
   "source": [
    "y_pred = rf_tuned.predict(X_test)"
   ]
  },
  {
   "cell_type": "code",
   "execution_count": 169,
   "metadata": {},
   "outputs": [
    {
     "data": {
      "text/plain": [
       "346.8977263358763"
      ]
     },
     "execution_count": 169,
     "metadata": {},
     "output_type": "execute_result"
    }
   ],
   "source": [
    "np.sqrt(mean_squared_error(y_test, y_pred))"
   ]
  },
  {
   "cell_type": "code",
   "execution_count": 170,
   "metadata": {},
   "outputs": [],
   "source": [
    "Importance = pd.DataFrame({\"Importance\": rf_tuned.feature_importances_*100},\n",
    "                         index = X_train.columns)"
   ]
  },
  {
   "cell_type": "code",
   "execution_count": 173,
   "metadata": {},
   "outputs": [
    {
     "data": {
      "image/png": "[encoded data removed]",
      "text/plain": [
       "<Figure size 432x288 with 1 Axes>"
      ]
     },
     "metadata": {
      "needs_background": "light"
     },
     "output_type": "display_data"
    }
   ],
   "source": [
    "Importance.sort_values(by = \"Importance\", \n",
    "                       axis = 0, \n",
    "                       ascending = True).plot(kind =\"barh\", color = \"r\")\n",
    "\n",
    "plt.xlabel(\"Değişken Önem Düzeyleri\");"
   ]
  },
  {
   "cell_type": "markdown",
   "metadata": {},
   "source": [
    "#### Yapısı bilinen bi veri setinde etkisi az olan değişkenler çıkartılabilir ya da çaprazlanabilir. Grafik incelenerek aksiyonlar alınabilir."
   ]
  },
  {
   "cell_type": "markdown",
   "metadata": {},
   "source": [
    "# Gradient Boosting Machines\n",
    "## AdaBoost'un sınıflandırma ve regresyon problemlerine kolayca uygulanabilen genelleştirilmiş versiyonudur."
   ]
  },
  {
   "cell_type": "markdown",
   "metadata": {},
   "source": [
    "#### Adaptive Boosting (AdaBoost) Zayıf öğrenicileri birlşetirip güçlü bir öğrenici oluşturulmasını bulan algotritma. Dez avantajı tek bir cost fonksiyonu olmasıdır. GBM ile uygun bir cost fonksiyonu üzerinde çalışan optimizasyon algoritmasına dönüşmüş oluyor ağaca dayalı bu yöntem GBM.\n",
    "# ---------------------------------------------------------------------------\n",
    "### Gradient boosting tek bir tahminsel model formunda olan modeller serisi oluşturur.\n",
    "### Seri içersiindeki bir model serideki bir önceki modelin tahmin artıklarının/hatalarının(residuals) üzerine kurularak (fit) oluşturulur.\n",
    "### GBM diferansiyellenebilen herhangi bir kayıp fonksiyonunu optimize edebilen Gradient descent algoritmasını kullanmakta.\n",
    "### GB bir çok temel öğrenici tipi(base learner type) kullanabilir.(Trees, linear terms, splines,..)\n",
    "### cost fonksiyonları ve link fonksiyonları modifiye edilebilirdir.\n",
    "### Boosting + Gradient Descent olarak da bilinir."
   ]
  },
  {
   "cell_type": "code",
   "execution_count": 174,
   "metadata": {},
   "outputs": [],
   "source": [
    "from sklearn.ensemble import GradientBoostingRegressor"
   ]
  },
  {
   "cell_type": "code",
   "execution_count": 175,
   "metadata": {},
   "outputs": [
    {
     "data": {
      "text/plain": [
       "GradientBoostingRegressor()"
      ]
     },
     "execution_count": 175,
     "metadata": {},
     "output_type": "execute_result"
    }
   ],
   "source": [
    "gbm_model = GradientBoostingRegressor()\n",
    "gbm_model.fit(X_train, y_train)"
   ]
  },
  {
   "cell_type": "markdown",
   "metadata": {},
   "source": [
    "## Tahmin"
   ]
  },
  {
   "cell_type": "code",
   "execution_count": 176,
   "metadata": {},
   "outputs": [
    {
     "data": {
      "text/plain": [
       "350.1430669536858"
      ]
     },
     "execution_count": 176,
     "metadata": {},
     "output_type": "execute_result"
    }
   ],
   "source": [
    "y_pred = gbm_model.predict(X_test)\n",
    "np.sqrt(mean_squared_error(y_test, y_pred))"
   ]
  },
  {
   "cell_type": "markdown",
   "metadata": {},
   "source": [
    "## Model Tuning"
   ]
  },
  {
   "cell_type": "code",
   "execution_count": 177,
   "metadata": {},
   "outputs": [],
   "source": [
    "gbm_params = {\n",
    "    'learning_rate': [0.001, 0.01, 0.1, 0.2],\n",
    "    'max_depth': [3, 5, 8,50,100],\n",
    "    'n_estimators': [200, 500, 1000, 2000],\n",
    "    'subsample': [1,0.5,0.75],\n",
    "}"
   ]
  },
  {
   "cell_type": "code",
   "execution_count": 178,
   "metadata": {},
   "outputs": [
    {
     "name": "stdout",
     "output_type": "stream",
     "text": [
      "Fitting 10 folds for each of 240 candidates, totalling 2400 fits\n"
     ]
    },
    {
     "name": "stderr",
     "output_type": "stream",
     "text": [
      "[Parallel(n_jobs=-1)]: Using backend LokyBackend with 4 concurrent workers.\n",
      "[Parallel(n_jobs=-1)]: Done  33 tasks      | elapsed:    7.9s\n",
      "[Parallel(n_jobs=-1)]: Done 154 tasks      | elapsed:   57.7s\n",
      "[Parallel(n_jobs=-1)]: Done 357 tasks      | elapsed:  3.6min\n",
      "[Parallel(n_jobs=-1)]: Done 640 tasks      | elapsed:  6.4min\n",
      "[Parallel(n_jobs=-1)]: Done 1005 tasks      | elapsed:  9.2min\n",
      "[Parallel(n_jobs=-1)]: Done 1450 tasks      | elapsed: 14.0min\n",
      "[Parallel(n_jobs=-1)]: Done 1977 tasks      | elapsed: 19.0min\n",
      "[Parallel(n_jobs=-1)]: Done 2400 out of 2400 | elapsed: 23.8min finished\n"
     ]
    },
    {
     "data": {
      "text/plain": [
       "GridSearchCV(cv=10, estimator=GradientBoostingRegressor(), n_jobs=-1,\n",
       "             param_grid={'learning_rate': [0.001, 0.01, 0.1, 0.2],\n",
       "                         'max_depth': [3, 5, 8, 50, 100],\n",
       "                         'n_estimators': [200, 500, 1000, 2000],\n",
       "                         'subsample': [1, 0.5, 0.75]},\n",
       "             verbose=2)"
      ]
     },
     "execution_count": 178,
     "metadata": {},
     "output_type": "execute_result"
    }
   ],
   "source": [
    "gbm = GradientBoostingRegressor()\n",
    "gbm_cv_model = GridSearchCV(gbm, gbm_params, cv = 10, n_jobs = -1, verbose = 2) # verbose=2 iterasyonları gözlemleme ilgili bir argüman \n",
    "gbm_cv_model.fit(X_train, y_train)"
   ]
  },
  {
   "cell_type": "code",
   "execution_count": 179,
   "metadata": {},
   "outputs": [
    {
     "data": {
      "text/plain": [
       "{'learning_rate': 0.1, 'max_depth': 5, 'n_estimators': 200, 'subsample': 0.5}"
      ]
     },
     "execution_count": 179,
     "metadata": {},
     "output_type": "execute_result"
    }
   ],
   "source": [
    "gbm_cv_model.best_params_"
   ]
  },
  {
   "cell_type": "code",
   "execution_count": 180,
   "metadata": {},
   "outputs": [],
   "source": [
    "gbm_tuned = GradientBoostingRegressor(learning_rate = 0.1,  \n",
    "                                      max_depth = 5, \n",
    "                                      n_estimators = 200, \n",
    "                                      subsample = 0.5)\n",
    "\n",
    "gbm_tuned = gbm_tuned.fit(X_train,y_train)"
   ]
  },
  {
   "cell_type": "code",
   "execution_count": 181,
   "metadata": {},
   "outputs": [
    {
     "data": {
      "text/plain": [
       "347.6303519000452"
      ]
     },
     "execution_count": 181,
     "metadata": {},
     "output_type": "execute_result"
    }
   ],
   "source": [
    "y_pred = gbm_tuned.predict(X_test)\n",
    "np.sqrt(mean_squared_error(y_test, y_pred))"
   ]
  },
  {
   "cell_type": "code",
   "execution_count": 182,
   "metadata": {},
   "outputs": [],
   "source": [
    "Importance = pd.DataFrame({\"Importance\": gbm_tuned.feature_importances_*100},\n",
    "                         index = X_train.columns)"
   ]
  },
  {
   "cell_type": "code",
   "execution_count": 183,
   "metadata": {},
   "outputs": [
    {
     "data": {
      "text/plain": [
       "Text(0.5, 0, 'Değişken Önem Düzeyleri')"
      ]
     },
     "execution_count": 183,
     "metadata": {},
     "output_type": "execute_result"
    },
    {
     "data": {
      "image/png": "[encoded data removed]",
      "text/plain": [
       "<Figure size 432x288 with 1 Axes>"
      ]
     },
     "metadata": {
      "needs_background": "light"
     },
     "output_type": "display_data"
    }
   ],
   "source": [
    "Importance.sort_values(by = \"Importance\", \n",
    "                       axis = 0, \n",
    "                       ascending = True).plot(kind =\"barh\", color = \"r\")\n",
    "\n",
    "plt.xlabel(\"Değişken Önem Düzeyleri\")"
   ]
  },
  {
   "cell_type": "markdown",
   "metadata": {},
   "source": [
    "# XGBoost"
   ]
  },
  {
   "cell_type": "markdown",
   "metadata": {},
   "source": [
    "### (eXtreme Gradient Boosting) XGBoost, GBM'in hız ve tahmin performansını arttırmak üzere optimize edilmiş, ölçeklenebilir ve farklı platformlara entegre edilebilir halidir.\n",
    "#### Son zamanlarda lightboost daha başarılı xgboost'un üzerine koyarak ilerlemiştir\n",
    "\n",
    "# ---------------------------------------------------------------------------------------------------\n",
    "\n",
    "### R,Python, Hadoop, Scala, Julia ile kullanılabilir\n",
    "### Ölçeklenebilirdir\n",
    "### Hızlıdır\n",
    "### Tahmin başarısı yüksektir.\n",
    "### Birçok kaggle yarışmasında başarısını kanıtlamıştır."
   ]
  },
  {
   "cell_type": "code",
   "execution_count": 185,
   "metadata": {},
   "outputs": [],
   "source": [
    "hit = pd.read_csv(\"Hitters.csv\")\n",
    "df = hit.copy()\n",
    "df = df.dropna()\n",
    "dms = pd.get_dummies(df[['League', 'Division', 'NewLeague']])\n",
    "y = df[\"Salary\"]\n",
    "X_ = df.drop(['Salary', 'League', 'Division', 'NewLeague'], axis=1).astype('float64')\n",
    "X = pd.concat([X_, dms[['League_N', 'Division_W', 'NewLeague_N']]], axis=1)\n",
    "X_train, X_test, y_train, y_test = train_test_split(X, y, \n",
    "                                                    test_size=0.25, \n",
    "                                                    random_state=42)\n"
   ]
  },
  {
   "cell_type": "code",
   "execution_count": 186,
   "metadata": {},
   "outputs": [],
   "source": [
    "#!pip install xgboost"
   ]
  },
  {
   "cell_type": "code",
   "execution_count": 187,
   "metadata": {},
   "outputs": [],
   "source": [
    "import xgboost as xgb\n",
    "# Pandas dataframe yerine xgboostun kendi yapılarını kullanırsak aşağıdaki gibi daha iyi ve hızlı sonuç elde edebiliriz."
   ]
  },
  {
   "cell_type": "code",
   "execution_count": 188,
   "metadata": {},
   "outputs": [],
   "source": [
    "DM_train = xgb.DMatrix(data = X_train, label = y_train)\n",
    "DM_test = xgb.DMatrix(data = X_test, label = y_test)\n",
    "#kendi fnksiyonlarını kullanarak tanımladık"
   ]
  },
  {
   "cell_type": "code",
   "execution_count": 189,
   "metadata": {},
   "outputs": [],
   "source": [
    "from xgboost import XGBRegressor\n",
    "#fonksiyonu çağırdık"
   ]
  },
  {
   "cell_type": "code",
   "execution_count": 190,
   "metadata": {},
   "outputs": [],
   "source": [
    "xgb_model = XGBRegressor().fit(X_train, y_train)\n",
    "#modeli oluşturduk. Ancak yukarda oluşturduğumuz yapıyı kullanmayıp eski yapıyı kullanmaya devam ettik model oluştururken."
   ]
  },
  {
   "cell_type": "markdown",
   "metadata": {},
   "source": [
    "## Tahmin"
   ]
  },
  {
   "cell_type": "code",
   "execution_count": 191,
   "metadata": {},
   "outputs": [
    {
     "data": {
      "text/plain": [
       "355.46515176059927"
      ]
     },
     "execution_count": 191,
     "metadata": {},
     "output_type": "execute_result"
    }
   ],
   "source": [
    "y_pred = xgb_model.predict(X_test)\n",
    "np.sqrt(mean_squared_error(y_test, y_pred))"
   ]
  },
  {
   "cell_type": "markdown",
   "metadata": {},
   "source": [
    "## Model Tuning"
   ]
  },
  {
   "cell_type": "code",
   "execution_count": 192,
   "metadata": {},
   "outputs": [
    {
     "data": {
      "text/plain": [
       "XGBRegressor(base_score=0.5, booster='gbtree', colsample_bylevel=1,\n",
       "             colsample_bynode=1, colsample_bytree=1, gamma=0, gpu_id=-1,\n",
       "             importance_type='gain', interaction_constraints='',\n",
       "             learning_rate=0.300000012, max_delta_step=0, max_depth=6,\n",
       "             min_child_weight=1, missing=nan, monotone_constraints='()',\n",
       "             n_estimators=100, n_jobs=4, num_parallel_tree=1, random_state=0,\n",
       "             reg_alpha=0, reg_lambda=1, scale_pos_weight=1, subsample=1,\n",
       "             tree_method='exact', validate_parameters=1, verbosity=None)"
      ]
     },
     "execution_count": 192,
     "metadata": {},
     "output_type": "execute_result"
    }
   ],
   "source": [
    "xgb_model\n",
    "# booster=\"gbtree\" yani ağaca dayalı bir model kullanıcaz\n",
    "# colsample_bynode=1 yani  ağaç başına değişkenlerden alınacak olan örnek\n",
    "# learning_rate yani öğrenme için daraltma adımı. Overfitting olayına karşın bunu dikkate alıyoruz. 0-1 aralığında değer alır. Çok küçük olması tahmin süresini uzatır ancak başarıyı uzatır. \n",
    "# max_depth=3 karmaşıklık parametresi oalrak adlandırılabilir öğrenme derinliği anlamına gelir.\n",
    "# n_estimators değerini de deneyeceğiz"
   ]
  },
  {
   "cell_type": "code",
   "execution_count": 193,
   "metadata": {},
   "outputs": [],
   "source": [
    "xgb_grid = {\n",
    "     'colsample_bytree': [0.4, 0.5,0.6,0.9,1], \n",
    "     'n_estimators':[100, 200, 500, 1000],\n",
    "     'max_depth': [2,3,4,5,6],\n",
    "     'learning_rate': [0.1, 0.01, 0.5]\n",
    "}\n"
   ]
  },
  {
   "cell_type": "code",
   "execution_count": 194,
   "metadata": {},
   "outputs": [
    {
     "name": "stdout",
     "output_type": "stream",
     "text": [
      "Fitting 10 folds for each of 300 candidates, totalling 3000 fits\n"
     ]
    },
    {
     "name": "stderr",
     "output_type": "stream",
     "text": [
      "[Parallel(n_jobs=-1)]: Using backend LokyBackend with 4 concurrent workers.\n",
      "[Parallel(n_jobs=-1)]: Done  33 tasks      | elapsed:   13.9s\n",
      "[Parallel(n_jobs=-1)]: Done 154 tasks      | elapsed:  1.9min\n",
      "[Parallel(n_jobs=-1)]: Done 357 tasks      | elapsed:  4.9min\n",
      "[Parallel(n_jobs=-1)]: Done 640 tasks      | elapsed:  8.6min\n",
      "[Parallel(n_jobs=-1)]: Done 1005 tasks      | elapsed: 15.4min\n",
      "[Parallel(n_jobs=-1)]: Done 1450 tasks      | elapsed: 20.7min\n",
      "[Parallel(n_jobs=-1)]: Done 1977 tasks      | elapsed: 28.1min\n",
      "[Parallel(n_jobs=-1)]: Done 2584 tasks      | elapsed: 33.1min\n",
      "[Parallel(n_jobs=-1)]: Done 3000 out of 3000 | elapsed: 36.6min finished\n"
     ]
    },
    {
     "data": {
      "text/plain": [
       "GridSearchCV(cv=10,\n",
       "             estimator=XGBRegressor(base_score=None, booster=None,\n",
       "                                    colsample_bylevel=None,\n",
       "                                    colsample_bynode=None,\n",
       "                                    colsample_bytree=None, gamma=None,\n",
       "                                    gpu_id=None, importance_type='gain',\n",
       "                                    interaction_constraints=None,\n",
       "                                    learning_rate=None, max_delta_step=None,\n",
       "                                    max_depth=None, min_child_weight=None,\n",
       "                                    missing=nan, monotone_constraints=None,\n",
       "                                    n_estimators=100, n_jobs=None,\n",
       "                                    num_parallel_tree=None, random_state=None,\n",
       "                                    reg_alpha=None, reg_lambda=None,\n",
       "                                    scale_pos_weight=None, subsample=None,\n",
       "                                    tree_method=None, validate_parameters=None,\n",
       "                                    verbosity=None),\n",
       "             n_jobs=-1,\n",
       "             param_grid={'colsample_bytree': [0.4, 0.5, 0.6, 0.9, 1],\n",
       "                         'learning_rate': [0.1, 0.01, 0.5],\n",
       "                         'max_depth': [2, 3, 4, 5, 6],\n",
       "                         'n_estimators': [100, 200, 500, 1000]},\n",
       "             verbose=2)"
      ]
     },
     "execution_count": 194,
     "metadata": {},
     "output_type": "execute_result"
    }
   ],
   "source": [
    "#metodumuzu çağırdık modelimizi oluşturduk ve fit ettik 3000 tane fit etme işlemi gerçekleştiricek. öncekinde 2400 parametre incelenmişti\n",
    "xgb = XGBRegressor()\n",
    "\n",
    "xgb_cv = GridSearchCV(xgb, \n",
    "                      param_grid = xgb_grid, \n",
    "                      cv = 10, \n",
    "                      n_jobs = -1,\n",
    "                      verbose = 2)\n",
    "\n",
    "\n",
    "xgb_cv.fit(X_train, y_train)"
   ]
  },
  {
   "cell_type": "code",
   "execution_count": 208,
   "metadata": {},
   "outputs": [
    {
     "data": {
      "text/plain": [
       "{'colsample_bytree': 0.6,\n",
       " 'learning_rate': 0.1,\n",
       " 'max_depth': 2,\n",
       " 'n_estimators': 1000}"
      ]
     },
     "execution_count": 208,
     "metadata": {},
     "output_type": "execute_result"
    }
   ],
   "source": [
    "xgb_cv.best_params_"
   ]
  },
  {
   "cell_type": "code",
   "execution_count": 209,
   "metadata": {},
   "outputs": [],
   "source": [
    "xgb_tuned = XGBRegressor(colsample_bytree = 0.9, \n",
    "                         learning_rate = 0.01, \n",
    "                         max_depth = 5, \n",
    "                         n_estimators = 1000) \n",
    "\n",
    "xgb_tuned = xgb_tuned.fit(X_train,y_train)\n",
    "#tune edilmiş final modelini best_params'a göre oluşturduk. İlerleyen zamanlarda daha detaylı incelememiz gerekn yerlerde paramatrelerin 3'ünü sabit tutup dışarda kalan 1 parametreyi inceleriz. Bunu her parametre için\n",
    "#sırayla yapmamız gerekir. Modelde kullandığımız parametreler aşağıdadır. Örneğin ilk üçü sabit tutup learning_rate için sırayla 3 değeri deneyip optimumu bulabiliriz. Sırayla diğer parametlere için de tekrarlarız.\n",
    "#     'colsample_bytree': [0.4, 0.5,0.6,0.9,1], \n",
    "#     'n_estimators':[100, 200, 500, 1000],\n",
    "#     'max_depth': [2,3,4,5,6],\n",
    "#     'learning_rate': [0.1, 0.01, 0.5]"
   ]
  },
  {
   "cell_type": "code",
   "execution_count": 210,
   "metadata": {},
   "outputs": [
    {
     "data": {
      "text/plain": [
       "366.8356053427891"
      ]
     },
     "execution_count": 210,
     "metadata": {},
     "output_type": "execute_result"
    }
   ],
   "source": [
    "y_pred = xgb_tuned.predict(X_test)\n",
    "np.sqrt(mean_squared_error(y_test, y_pred))"
   ]
  },
  {
   "cell_type": "markdown",
   "metadata": {},
   "source": [
    "# Light GBM\n",
    "\n",
    "### Light GBM,XGBoost'un eğitim süresi performansını arttırmaya yönelik geliştirilen bir diğer GBM türüdür.\n",
    "\n",
    "# -----------------------------------------------------------------------------------------------------\n",
    "\n",
    "### Daha performanslıdır \n",
    "### Level-wise büyüme stratejisi yerine Leaf-wise büyüme stratejisini kullanır\n",
    "### Breadth-first searh(BFS) yerine depth-first search(DFS) kullanılır\n",
    "\n",
    "\n",
    "#### split etme işlemleri:\n",
    "#### **Level-wise: XGboost değişkenleri ayırmak ve farklı bölüm noktalarını keşfetmek için karar ağaçlarını kullanıyor.**\n",
    "#### **Leaf-wise: LightGBM ise daha iyi fit edebilmek için splitlere odaklanır.**\n",
    "#### **XGBoost daha geniş kapsamlı bir ilk arama yapar Light GBM ise daha derinlemesine bir ilk arama yapar."
   ]
  },
  {
   "cell_type": "code",
   "execution_count": 10,
   "metadata": {},
   "outputs": [],
   "source": [
    "hit = pd.read_csv(\"Hitters.csv\")\n",
    "df = hit.copy()\n",
    "df = df.dropna()\n",
    "dms = pd.get_dummies(df[['League', 'Division', 'NewLeague']])\n",
    "y = df[\"Salary\"]\n",
    "X_ = df.drop(['Salary', 'League', 'Division', 'NewLeague'], axis=1).astype('float64')\n",
    "X = pd.concat([X_, dms[['League_N', 'Division_W', 'NewLeague_N']]], axis=1)\n",
    "X_train, X_test, y_train, y_test = train_test_split(X, y, \n",
    "                                                    test_size=0.25, \n",
    "                                                    random_state=42)\n"
   ]
  },
  {
   "cell_type": "code",
   "execution_count": 11,
   "metadata": {},
   "outputs": [],
   "source": [
    "#!pip install lightgbm"
   ]
  },
  {
   "cell_type": "code",
   "execution_count": 12,
   "metadata": {},
   "outputs": [],
   "source": [
    "from lightgbm import LGBMRegressor"
   ]
  },
  {
   "cell_type": "code",
   "execution_count": 13,
   "metadata": {},
   "outputs": [],
   "source": [
    "#conda install -c conda-forge lightgbm\n",
    "#pipisntall ile kurulum olmazsa conda ile yükleme yapabilirz. Bazen LGBMRegressor modülünü alırken image not found şeklinde hata verebiliyor."
   ]
  },
  {
   "cell_type": "code",
   "execution_count": 14,
   "metadata": {},
   "outputs": [],
   "source": [
    "from lightgbm import LGBMRegressor"
   ]
  },
  {
   "cell_type": "code",
   "execution_count": 15,
   "metadata": {},
   "outputs": [],
   "source": [
    "lgbm = LGBMRegressor()\n",
    "lgbm_model = lgbm.fit(X_train, y_train)\n",
    "#modelimizi kurduk"
   ]
  },
  {
   "cell_type": "markdown",
   "metadata": {},
   "source": [
    "## Tahmin"
   ]
  },
  {
   "cell_type": "code",
   "execution_count": 16,
   "metadata": {},
   "outputs": [],
   "source": [
    "y_pred = lgbm_model.predict(X_test, \n",
    "                            num_iteration = lgbm_model.best_iteration_)\n",
    "#num_iteration=lgbm_model.best_iteration_ kullanarak tahmin modelimizi oluşturduk"
   ]
  },
  {
   "cell_type": "code",
   "execution_count": 17,
   "metadata": {},
   "outputs": [
    {
     "data": {
      "text/plain": [
       "363.8712087611089"
      ]
     },
     "execution_count": 17,
     "metadata": {},
     "output_type": "execute_result"
    }
   ],
   "source": [
    "np.sqrt(mean_squared_error(y_test, y_pred))"
   ]
  },
  {
   "cell_type": "markdown",
   "metadata": {},
   "source": [
    "## Model Tuning"
   ]
  },
  {
   "cell_type": "code",
   "execution_count": 20,
   "metadata": {},
   "outputs": [
    {
     "name": "stdout",
     "output_type": "stream",
     "text": [
      "/bin/bash: lgbm_model: komut yok\n"
     ]
    }
   ],
   "source": [
    "!lgbm_model"
   ]
  },
  {
   "cell_type": "code",
   "execution_count": 202,
   "metadata": {},
   "outputs": [],
   "source": [
    "lgbm_grid = {\n",
    "    'colsample_bytree': [0.4, 0.5,0.6,0.9,1],\n",
    "    'learning_rate': [0.01, 0.1, 0.5,1],\n",
    "    'n_estimators': [20, 40, 100, 200, 500,1000],\n",
    "    'max_depth': [1,2,3,4,5,6,7,8] }\n",
    "\n",
    "lgbm = LGBMRegressor()\n",
    "lgbm_cv_model = GridSearchCV(lgbm, lgbm_grid, cv=10, n_jobs = -1, verbose = 2)"
   ]
  },
  {
   "cell_type": "code",
   "execution_count": 203,
   "metadata": {},
   "outputs": [
    {
     "name": "stdout",
     "output_type": "stream",
     "text": [
      "Fitting 10 folds for each of 960 candidates, totalling 9600 fits\n"
     ]
    },
    {
     "name": "stderr",
     "output_type": "stream",
     "text": [
      "[Parallel(n_jobs=-1)]: Using backend LokyBackend with 4 concurrent workers.\n",
      "[Parallel(n_jobs=-1)]: Done  34 tasks      | elapsed:    2.9s\n",
      "[Parallel(n_jobs=-1)]: Done 504 tasks      | elapsed:   15.4s\n",
      "[Parallel(n_jobs=-1)]: Done 1316 tasks      | elapsed:   39.5s\n",
      "[Parallel(n_jobs=-1)]: Done 2448 tasks      | elapsed:  1.2min\n",
      "[Parallel(n_jobs=-1)]: Done 3908 tasks      | elapsed:  1.9min\n",
      "[Parallel(n_jobs=-1)]: Done 5688 tasks      | elapsed:  2.8min\n",
      "[Parallel(n_jobs=-1)]: Done 7474 tasks      | elapsed:  3.9min\n",
      "[Parallel(n_jobs=-1)]: Done 8688 tasks      | elapsed:  4.6min\n"
     ]
    },
    {
     "name": "stdout",
     "output_type": "stream",
     "text": [
      "[LightGBM] [Warning] Accuracy may be bad since you didn't explicitly set num_leaves OR 2^max_depth > num_leaves. (num_leaves=31).\n"
     ]
    },
    {
     "name": "stderr",
     "output_type": "stream",
     "text": [
      "[Parallel(n_jobs=-1)]: Done 9600 out of 9600 | elapsed:  5.2min finished\n"
     ]
    },
    {
     "data": {
      "text/plain": [
       "GridSearchCV(cv=10, estimator=LGBMRegressor(), n_jobs=-1,\n",
       "             param_grid={'colsample_bytree': [0.4, 0.5, 0.6, 0.9, 1],\n",
       "                         'learning_rate': [0.01, 0.1, 0.5, 1],\n",
       "                         'max_depth': [1, 2, 3, 4, 5, 6, 7, 8],\n",
       "                         'n_estimators': [20, 40, 100, 200, 500, 1000]},\n",
       "             verbose=2)"
      ]
     },
     "execution_count": 203,
     "metadata": {},
     "output_type": "execute_result"
    }
   ],
   "source": [
    "lgbm_cv_model.fit(X_train, y_train)\n",
    "#XGBM ile önceki işlem 3000 fitte 36 dk sürdü. Light GBM ile 9000 fit etme 5 dk sürdü"
   ]
  },
  {
   "cell_type": "code",
   "execution_count": 204,
   "metadata": {},
   "outputs": [
    {
     "data": {
      "text/plain": [
       "{'colsample_bytree': 0.5,\n",
       " 'learning_rate': 0.1,\n",
       " 'max_depth': 6,\n",
       " 'n_estimators': 20}"
      ]
     },
     "execution_count": 204,
     "metadata": {},
     "output_type": "execute_result"
    }
   ],
   "source": [
    "lgbm_cv_model.best_params_"
   ]
  },
  {
   "cell_type": "code",
   "execution_count": 205,
   "metadata": {},
   "outputs": [],
   "source": [
    "lgbm_tuned = LGBMRegressor(learning_rate = 0.1, \n",
    "                           max_depth = 7, \n",
    "                           n_estimators = 40,\n",
    "                          colsample_bytree = 0.6)\n",
    "\n",
    "lgbm_tuned = lgbm_tuned.fit(X_train,y_train)\n",
    "#gelen best_params'a göre final modelini tune edilmiş modelimizi oluşturduk. Aşağıda a sonuçlarımızı elde ettik."
   ]
  },
  {
   "cell_type": "code",
   "execution_count": 206,
   "metadata": {},
   "outputs": [],
   "source": [
    "y_pred = lgbm_tuned.predict(X_test)"
   ]
  },
  {
   "cell_type": "code",
   "execution_count": 207,
   "metadata": {},
   "outputs": [
    {
     "data": {
      "text/plain": [
       "372.7342551250238"
      ]
     },
     "execution_count": 207,
     "metadata": {},
     "output_type": "execute_result"
    }
   ],
   "source": [
    "np.sqrt(mean_squared_error(y_test, y_pred))\n",
    "\n",
    "#XGBMde 366 çıktı LGBM'de 372 çıktı değer olarak daha iyi olmasa da zaman olarak 7de biri."
   ]
  },
  {
   "cell_type": "markdown",
   "metadata": {},
   "source": [
    "# CatBoost (Category Boosting)\n",
    "\n",
    "### Kategorik değişkenlerle otomatik olarak mücadele edebilen,hızlı,başarılı bir diğer GBM türevi.\n",
    "\n",
    "# --------------------------------------------------------------------------------------------\n",
    "\n",
    "### Kategorik değişken desteği\n",
    "### Hızlı ve ölçeklenebilir GPU desteği\n",
    "### Daha başarılı tahminler\n",
    "### Hızlı train ve hızlı tahmin\n",
    "### Rusyanın ilk açık kaynak kodlu, başarılı ML çalışmasıdır."
   ]
  },
  {
   "cell_type": "code",
   "execution_count": null,
   "metadata": {},
   "outputs": [],
   "source": [
    "hit = pd.read_csv(\"Hitters.csv\")\n",
    "df = hit.copy()\n",
    "df = df.dropna()\n",
    "dms = pd.get_dummies(df[['League', 'Division', 'NewLeague']])\n",
    "y = df[\"Salary\"]\n",
    "X_ = df.drop(['Salary', 'League', 'Division', 'NewLeague'], axis=1).astype('float64')\n",
    "X = pd.concat([X_, dms[['League_N', 'Division_W', 'NewLeague_N']]], axis=1)\n",
    "X_train, X_test, y_train, y_test = train_test_split(X, y, \n",
    "                                                    test_size=0.25, \n",
    "                                                    random_state=42)\n"
   ]
  },
  {
   "cell_type": "code",
   "execution_count": 211,
   "metadata": {
    "collapsed": true,
    "jupyter": {
     "outputs_hidden": true
    }
   },
   "outputs": [
    {
     "name": "stdout",
     "output_type": "stream",
     "text": [
      "Collecting catboost\n",
      "  Downloading catboost-0.24.4-cp37-none-manylinux1_x86_64.whl (65.7 MB)\n",
      "\u001b[K     |████████████████████████████████| 65.7 MB 44 kB/s  eta 0:00:01    |█                               | 2.0 MB 2.5 MB/s eta 0:00:26     |█████▌                          | 11.4 MB 2.8 MB/s eta 0:00:20     |████████████████▌               | 34.0 MB 2.2 MB/s eta 0:00:15     |█████████████████████▌          | 44.1 MB 3.8 MB/s eta 0:00:06     |████████████████████████▌       | 50.2 MB 2.8 MB/s eta 0:00:06\n",
      "\u001b[?25hRequirement already satisfied: pandas>=0.24.0 in /home/eren/anaconda3/lib/python3.7/site-packages (from catboost) (1.2.1)\n",
      "Requirement already satisfied: numpy>=1.16.0 in /home/eren/anaconda3/lib/python3.7/site-packages (from catboost) (1.19.2)\n",
      "Requirement already satisfied: scipy in /home/eren/anaconda3/lib/python3.7/site-packages (from catboost) (1.5.2)\n",
      "Requirement already satisfied: six in /home/eren/anaconda3/lib/python3.7/site-packages (from catboost) (1.15.0)\n",
      "Requirement already satisfied: matplotlib in /home/eren/anaconda3/lib/python3.7/site-packages (from catboost) (3.3.2)\n",
      "Requirement already satisfied: python-dateutil>=2.7.3 in /home/eren/anaconda3/lib/python3.7/site-packages (from pandas>=0.24.0->catboost) (2.8.1)\n",
      "Requirement already satisfied: pytz>=2017.3 in /home/eren/anaconda3/lib/python3.7/site-packages (from pandas>=0.24.0->catboost) (2021.1)\n",
      "Collecting graphviz\n",
      "  Downloading graphviz-0.16-py2.py3-none-any.whl (19 kB)\n",
      "Requirement already satisfied: cycler>=0.10 in /home/eren/anaconda3/lib/python3.7/site-packages (from matplotlib->catboost) (0.10.0)\n",
      "Requirement already satisfied: kiwisolver>=1.0.1 in /home/eren/anaconda3/lib/python3.7/site-packages (from matplotlib->catboost) (1.3.1)\n",
      "Requirement already satisfied: pillow>=6.2.0 in /home/eren/anaconda3/lib/python3.7/site-packages (from matplotlib->catboost) (8.1.0)\n",
      "Requirement already satisfied: pyparsing!=2.0.4,!=2.1.2,!=2.1.6,>=2.0.3 in /home/eren/anaconda3/lib/python3.7/site-packages (from matplotlib->catboost) (2.4.7)\n",
      "Requirement already satisfied: certifi>=2020.06.20 in /home/eren/anaconda3/lib/python3.7/site-packages (from matplotlib->catboost) (2020.12.5)\n",
      "Collecting plotly\n",
      "  Downloading plotly-4.14.3-py2.py3-none-any.whl (13.2 MB)\n",
      "\u001b[K     |████████████████████████████████| 13.2 MB 2.5 MB/s eta 0:00:01     |███████████████████████████▏    | 11.2 MB 2.6 MB/s eta 0:00:01\n",
      "\u001b[?25hCollecting retrying>=1.3.3\n",
      "  Downloading retrying-1.3.3.tar.gz (10 kB)\n",
      "Building wheels for collected packages: retrying\n",
      "  Building wheel for retrying (setup.py) ... \u001b[?25ldone\n",
      "\u001b[?25h  Created wheel for retrying: filename=retrying-1.3.3-py3-none-any.whl size=11429 sha256=f93eb5566cb3a74cd27a645448227348fda14f44f365ed6612d80419a306944c\n",
      "  Stored in directory: /home/eren/.cache/pip/wheels/f9/8d/8d/f6af3f7f9eea3553bc2fe6d53e4b287dad18b06a861ac56ddf\n",
      "Successfully built retrying\n",
      "Installing collected packages: retrying, plotly, graphviz, catboost\n",
      "Successfully installed catboost-0.24.4 graphviz-0.16 plotly-4.14.3 retrying-1.3.3\n"
     ]
    }
   ],
   "source": [
    "!pip install catboost"
   ]
  },
  {
   "cell_type": "code",
   "execution_count": 212,
   "metadata": {},
   "outputs": [],
   "source": [
    "from catboost import CatBoostRegressor"
   ]
  },
  {
   "cell_type": "code",
   "execution_count": 213,
   "metadata": {
    "collapsed": true,
    "jupyter": {
     "outputs_hidden": true
    }
   },
   "outputs": [
    {
     "name": "stdout",
     "output_type": "stream",
     "text": [
      "Learning rate set to 0.029229\n",
      "0:\tlearn: 438.1974206\ttotal: 51.9ms\tremaining: 51.9s\n",
      "1:\tlearn: 432.4168868\ttotal: 59.4ms\tremaining: 29.6s\n",
      "2:\tlearn: 426.3836690\ttotal: 61.4ms\tremaining: 20.4s\n",
      "3:\tlearn: 420.2261014\ttotal: 63.4ms\tremaining: 15.8s\n",
      "4:\tlearn: 414.9976675\ttotal: 65.5ms\tremaining: 13s\n",
      "5:\tlearn: 409.6125323\ttotal: 68.5ms\tremaining: 11.3s\n",
      "6:\tlearn: 403.9277911\ttotal: 73.5ms\tremaining: 10.4s\n",
      "7:\tlearn: 398.4395285\ttotal: 77.6ms\tremaining: 9.62s\n",
      "8:\tlearn: 392.4517081\ttotal: 82.1ms\tremaining: 9.04s\n",
      "9:\tlearn: 387.4871123\ttotal: 88.3ms\tremaining: 8.74s\n",
      "10:\tlearn: 382.6230510\ttotal: 93.6ms\tremaining: 8.41s\n",
      "11:\tlearn: 378.1012454\ttotal: 96.7ms\tremaining: 7.96s\n",
      "12:\tlearn: 372.6002306\ttotal: 102ms\tremaining: 7.74s\n",
      "13:\tlearn: 368.4682192\ttotal: 105ms\tremaining: 7.41s\n",
      "14:\tlearn: 364.0565766\ttotal: 109ms\tremaining: 7.13s\n",
      "15:\tlearn: 359.5683249\ttotal: 112ms\tremaining: 6.9s\n",
      "16:\tlearn: 355.1782794\ttotal: 115ms\tremaining: 6.66s\n",
      "17:\tlearn: 350.4689946\ttotal: 119ms\tremaining: 6.47s\n",
      "18:\tlearn: 346.2553348\ttotal: 122ms\tremaining: 6.3s\n",
      "19:\tlearn: 341.7051884\ttotal: 127ms\tremaining: 6.24s\n",
      "20:\tlearn: 337.8343606\ttotal: 136ms\tremaining: 6.34s\n",
      "21:\tlearn: 333.7956702\ttotal: 140ms\tremaining: 6.2s\n",
      "22:\tlearn: 329.8867930\ttotal: 144ms\tremaining: 6.1s\n",
      "23:\tlearn: 326.1844372\ttotal: 147ms\tremaining: 5.99s\n",
      "24:\tlearn: 323.1315580\ttotal: 151ms\tremaining: 5.89s\n",
      "25:\tlearn: 319.3322885\ttotal: 153ms\tremaining: 5.74s\n",
      "26:\tlearn: 316.2039164\ttotal: 157ms\tremaining: 5.66s\n",
      "27:\tlearn: 313.2598806\ttotal: 160ms\tremaining: 5.57s\n",
      "28:\tlearn: 310.1086898\ttotal: 162ms\tremaining: 5.43s\n",
      "29:\tlearn: 307.0508553\ttotal: 165ms\tremaining: 5.33s\n",
      "30:\tlearn: 304.5843401\ttotal: 169ms\tremaining: 5.28s\n",
      "31:\tlearn: 301.6708432\ttotal: 172ms\tremaining: 5.21s\n",
      "32:\tlearn: 298.9175443\ttotal: 175ms\tremaining: 5.14s\n",
      "33:\tlearn: 296.1231309\ttotal: 183ms\tremaining: 5.19s\n",
      "34:\tlearn: 293.2359275\ttotal: 186ms\tremaining: 5.12s\n",
      "35:\tlearn: 290.3999850\ttotal: 189ms\tremaining: 5.07s\n",
      "36:\tlearn: 287.8958674\ttotal: 195ms\tremaining: 5.07s\n",
      "37:\tlearn: 285.6692571\ttotal: 198ms\tremaining: 5.01s\n",
      "38:\tlearn: 282.9812904\ttotal: 201ms\tremaining: 4.95s\n",
      "39:\tlearn: 280.6302291\ttotal: 206ms\tremaining: 4.93s\n",
      "40:\tlearn: 278.2767119\ttotal: 209ms\tremaining: 4.9s\n",
      "41:\tlearn: 276.0589541\ttotal: 213ms\tremaining: 4.86s\n",
      "42:\tlearn: 273.6619286\ttotal: 217ms\tremaining: 4.82s\n",
      "43:\tlearn: 271.1128163\ttotal: 219ms\tremaining: 4.75s\n",
      "44:\tlearn: 268.9091716\ttotal: 221ms\tremaining: 4.68s\n",
      "45:\tlearn: 266.3675542\ttotal: 224ms\tremaining: 4.65s\n",
      "46:\tlearn: 263.7815611\ttotal: 229ms\tremaining: 4.63s\n",
      "47:\tlearn: 261.8160223\ttotal: 233ms\tremaining: 4.63s\n",
      "48:\tlearn: 259.7109561\ttotal: 236ms\tremaining: 4.59s\n",
      "49:\tlearn: 257.7200276\ttotal: 244ms\tremaining: 4.64s\n",
      "50:\tlearn: 255.7835524\ttotal: 249ms\tremaining: 4.64s\n",
      "51:\tlearn: 253.8406902\ttotal: 253ms\tremaining: 4.62s\n",
      "52:\tlearn: 251.6896611\ttotal: 257ms\tremaining: 4.59s\n",
      "53:\tlearn: 250.0830915\ttotal: 261ms\tremaining: 4.57s\n",
      "54:\tlearn: 248.3689069\ttotal: 265ms\tremaining: 4.55s\n",
      "55:\tlearn: 246.2718937\ttotal: 267ms\tremaining: 4.51s\n",
      "56:\tlearn: 244.3923224\ttotal: 271ms\tremaining: 4.48s\n",
      "57:\tlearn: 242.3040669\ttotal: 274ms\tremaining: 4.45s\n",
      "58:\tlearn: 240.5357981\ttotal: 276ms\tremaining: 4.4s\n",
      "59:\tlearn: 238.7009594\ttotal: 279ms\tremaining: 4.37s\n",
      "60:\tlearn: 237.2676945\ttotal: 281ms\tremaining: 4.33s\n",
      "61:\tlearn: 235.7252656\ttotal: 283ms\tremaining: 4.28s\n",
      "62:\tlearn: 234.1007596\ttotal: 287ms\tremaining: 4.28s\n",
      "63:\tlearn: 232.4179971\ttotal: 289ms\tremaining: 4.23s\n",
      "64:\tlearn: 231.1643497\ttotal: 291ms\tremaining: 4.19s\n",
      "65:\tlearn: 229.6810852\ttotal: 293ms\tremaining: 4.15s\n",
      "66:\tlearn: 228.1714231\ttotal: 295ms\tremaining: 4.11s\n",
      "67:\tlearn: 226.9338286\ttotal: 297ms\tremaining: 4.08s\n",
      "68:\tlearn: 226.0780127\ttotal: 300ms\tremaining: 4.05s\n",
      "69:\tlearn: 224.6598569\ttotal: 305ms\tremaining: 4.06s\n",
      "70:\tlearn: 223.1110463\ttotal: 308ms\tremaining: 4.03s\n",
      "71:\tlearn: 221.6545694\ttotal: 310ms\tremaining: 4s\n",
      "72:\tlearn: 220.2670639\ttotal: 312ms\tremaining: 3.96s\n",
      "73:\tlearn: 218.9738032\ttotal: 318ms\tremaining: 3.98s\n",
      "74:\tlearn: 217.9247112\ttotal: 321ms\tremaining: 3.96s\n",
      "75:\tlearn: 216.9202490\ttotal: 325ms\tremaining: 3.95s\n",
      "76:\tlearn: 215.5989131\ttotal: 328ms\tremaining: 3.93s\n",
      "77:\tlearn: 214.3540917\ttotal: 331ms\tremaining: 3.91s\n",
      "78:\tlearn: 213.4575339\ttotal: 333ms\tremaining: 3.89s\n",
      "79:\tlearn: 212.1036261\ttotal: 337ms\tremaining: 3.88s\n",
      "80:\tlearn: 210.8030392\ttotal: 340ms\tremaining: 3.86s\n",
      "81:\tlearn: 209.5290460\ttotal: 342ms\tremaining: 3.83s\n",
      "82:\tlearn: 208.0255508\ttotal: 344ms\tremaining: 3.8s\n",
      "83:\tlearn: 206.9124270\ttotal: 347ms\tremaining: 3.79s\n",
      "84:\tlearn: 205.5903017\ttotal: 359ms\tremaining: 3.86s\n",
      "85:\tlearn: 204.6057051\ttotal: 361ms\tremaining: 3.83s\n",
      "86:\tlearn: 203.7128429\ttotal: 363ms\tremaining: 3.81s\n",
      "87:\tlearn: 202.7663836\ttotal: 366ms\tremaining: 3.79s\n",
      "88:\tlearn: 201.9026542\ttotal: 368ms\tremaining: 3.77s\n",
      "89:\tlearn: 200.7729520\ttotal: 378ms\tremaining: 3.82s\n",
      "90:\tlearn: 199.6909954\ttotal: 387ms\tremaining: 3.87s\n",
      "91:\tlearn: 198.6341430\ttotal: 401ms\tremaining: 3.96s\n",
      "92:\tlearn: 197.6117675\ttotal: 404ms\tremaining: 3.94s\n",
      "93:\tlearn: 196.5198483\ttotal: 420ms\tremaining: 4.04s\n",
      "94:\tlearn: 195.5443940\ttotal: 426ms\tremaining: 4.05s\n",
      "95:\tlearn: 194.4203970\ttotal: 428ms\tremaining: 4.03s\n",
      "96:\tlearn: 193.2677508\ttotal: 433ms\tremaining: 4.03s\n",
      "97:\tlearn: 192.1768427\ttotal: 437ms\tremaining: 4.02s\n",
      "98:\tlearn: 191.2356955\ttotal: 440ms\tremaining: 4s\n",
      "99:\tlearn: 189.9934546\ttotal: 444ms\tremaining: 4s\n",
      "100:\tlearn: 189.2719006\ttotal: 447ms\tremaining: 3.97s\n",
      "101:\tlearn: 188.1079321\ttotal: 449ms\tremaining: 3.95s\n",
      "102:\tlearn: 187.1211517\ttotal: 450ms\tremaining: 3.92s\n",
      "103:\tlearn: 185.9059118\ttotal: 453ms\tremaining: 3.9s\n",
      "104:\tlearn: 185.2620919\ttotal: 454ms\tremaining: 3.87s\n",
      "105:\tlearn: 184.4349037\ttotal: 458ms\tremaining: 3.86s\n",
      "106:\tlearn: 183.1846237\ttotal: 461ms\tremaining: 3.84s\n",
      "107:\tlearn: 182.1448077\ttotal: 462ms\tremaining: 3.82s\n",
      "108:\tlearn: 181.4787170\ttotal: 466ms\tremaining: 3.81s\n",
      "109:\tlearn: 180.6789032\ttotal: 468ms\tremaining: 3.78s\n",
      "110:\tlearn: 179.9122461\ttotal: 469ms\tremaining: 3.76s\n",
      "111:\tlearn: 178.9952892\ttotal: 472ms\tremaining: 3.75s\n",
      "112:\tlearn: 178.6013107\ttotal: 476ms\tremaining: 3.73s\n",
      "113:\tlearn: 177.7090692\ttotal: 478ms\tremaining: 3.71s\n",
      "114:\tlearn: 176.7404828\ttotal: 480ms\tremaining: 3.69s\n",
      "115:\tlearn: 176.0415402\ttotal: 482ms\tremaining: 3.67s\n",
      "116:\tlearn: 175.5315148\ttotal: 484ms\tremaining: 3.65s\n",
      "117:\tlearn: 174.8976738\ttotal: 490ms\tremaining: 3.66s\n",
      "118:\tlearn: 174.0530870\ttotal: 492ms\tremaining: 3.65s\n",
      "119:\tlearn: 173.0700181\ttotal: 495ms\tremaining: 3.63s\n",
      "120:\tlearn: 172.2832739\ttotal: 497ms\tremaining: 3.61s\n",
      "121:\tlearn: 171.4960220\ttotal: 499ms\tremaining: 3.59s\n",
      "122:\tlearn: 171.0402978\ttotal: 506ms\tremaining: 3.6s\n",
      "123:\tlearn: 170.7119169\ttotal: 508ms\tremaining: 3.59s\n",
      "124:\tlearn: 169.6907823\ttotal: 511ms\tremaining: 3.58s\n",
      "125:\tlearn: 169.2063700\ttotal: 513ms\tremaining: 3.56s\n",
      "126:\tlearn: 168.1597529\ttotal: 515ms\tremaining: 3.54s\n",
      "127:\tlearn: 167.3156403\ttotal: 519ms\tremaining: 3.54s\n",
      "128:\tlearn: 166.3187281\ttotal: 523ms\tremaining: 3.53s\n",
      "129:\tlearn: 166.1101656\ttotal: 524ms\tremaining: 3.51s\n",
      "130:\tlearn: 165.5420012\ttotal: 527ms\tremaining: 3.5s\n",
      "131:\tlearn: 164.6237022\ttotal: 530ms\tremaining: 3.48s\n",
      "132:\tlearn: 163.7646814\ttotal: 532ms\tremaining: 3.47s\n",
      "133:\tlearn: 163.3971858\ttotal: 537ms\tremaining: 3.47s\n",
      "134:\tlearn: 162.8775666\ttotal: 540ms\tremaining: 3.46s\n",
      "135:\tlearn: 162.3591190\ttotal: 542ms\tremaining: 3.44s\n",
      "136:\tlearn: 161.8515150\ttotal: 544ms\tremaining: 3.43s\n",
      "137:\tlearn: 161.2542226\ttotal: 546ms\tremaining: 3.41s\n",
      "138:\tlearn: 160.5899334\ttotal: 548ms\tremaining: 3.4s\n",
      "139:\tlearn: 159.6307999\ttotal: 550ms\tremaining: 3.38s\n",
      "140:\tlearn: 159.0055431\ttotal: 552ms\tremaining: 3.37s\n",
      "141:\tlearn: 158.2566894\ttotal: 555ms\tremaining: 3.35s\n",
      "142:\tlearn: 157.6496356\ttotal: 562ms\tremaining: 3.37s\n",
      "143:\tlearn: 157.1590393\ttotal: 571ms\tremaining: 3.39s\n",
      "144:\tlearn: 156.5730455\ttotal: 574ms\tremaining: 3.39s\n",
      "145:\tlearn: 155.8450985\ttotal: 583ms\tremaining: 3.41s\n",
      "146:\tlearn: 155.2439210\ttotal: 598ms\tremaining: 3.47s\n",
      "147:\tlearn: 154.9417796\ttotal: 602ms\tremaining: 3.46s\n",
      "148:\tlearn: 154.3763613\ttotal: 604ms\tremaining: 3.45s\n",
      "149:\tlearn: 153.9438757\ttotal: 607ms\tremaining: 3.44s\n",
      "150:\tlearn: 153.1854046\ttotal: 610ms\tremaining: 3.43s\n",
      "151:\tlearn: 152.8631442\ttotal: 614ms\tremaining: 3.43s\n",
      "152:\tlearn: 152.3115428\ttotal: 618ms\tremaining: 3.42s\n",
      "153:\tlearn: 151.8957029\ttotal: 621ms\tremaining: 3.41s\n",
      "154:\tlearn: 151.1871329\ttotal: 624ms\tremaining: 3.4s\n",
      "155:\tlearn: 150.6828564\ttotal: 626ms\tremaining: 3.39s\n",
      "156:\tlearn: 150.2509622\ttotal: 629ms\tremaining: 3.38s\n",
      "157:\tlearn: 149.6497659\ttotal: 631ms\tremaining: 3.36s\n",
      "158:\tlearn: 148.9332067\ttotal: 633ms\tremaining: 3.35s\n",
      "159:\tlearn: 148.7156418\ttotal: 635ms\tremaining: 3.33s\n",
      "160:\tlearn: 148.2737189\ttotal: 637ms\tremaining: 3.32s\n",
      "161:\tlearn: 147.9625721\ttotal: 640ms\tremaining: 3.31s\n",
      "162:\tlearn: 147.4564915\ttotal: 642ms\tremaining: 3.3s\n",
      "163:\tlearn: 146.8606991\ttotal: 647ms\tremaining: 3.3s\n",
      "164:\tlearn: 146.2386459\ttotal: 649ms\tremaining: 3.29s\n",
      "165:\tlearn: 145.7642228\ttotal: 651ms\tremaining: 3.27s\n",
      "166:\tlearn: 145.3792204\ttotal: 653ms\tremaining: 3.26s\n",
      "167:\tlearn: 145.0935465\ttotal: 656ms\tremaining: 3.25s\n",
      "168:\tlearn: 144.6976165\ttotal: 659ms\tremaining: 3.24s\n",
      "169:\tlearn: 143.9724403\ttotal: 661ms\tremaining: 3.23s\n",
      "170:\tlearn: 143.6449839\ttotal: 664ms\tremaining: 3.22s\n",
      "171:\tlearn: 143.1999180\ttotal: 670ms\tremaining: 3.23s\n",
      "172:\tlearn: 142.9381183\ttotal: 672ms\tremaining: 3.21s\n",
      "173:\tlearn: 142.3304601\ttotal: 675ms\tremaining: 3.2s\n",
      "174:\tlearn: 141.9229624\ttotal: 678ms\tremaining: 3.19s\n",
      "175:\tlearn: 141.4043903\ttotal: 680ms\tremaining: 3.18s\n",
      "176:\tlearn: 141.0209642\ttotal: 682ms\tremaining: 3.17s\n",
      "177:\tlearn: 140.4510865\ttotal: 684ms\tremaining: 3.16s\n",
      "178:\tlearn: 140.3441522\ttotal: 691ms\tremaining: 3.17s\n",
      "179:\tlearn: 139.8478562\ttotal: 694ms\tremaining: 3.16s\n",
      "180:\tlearn: 139.7464932\ttotal: 695ms\tremaining: 3.15s\n",
      "181:\tlearn: 139.2514614\ttotal: 698ms\tremaining: 3.13s\n",
      "182:\tlearn: 139.0274540\ttotal: 700ms\tremaining: 3.13s\n",
      "183:\tlearn: 138.4584181\ttotal: 703ms\tremaining: 3.12s\n",
      "184:\tlearn: 138.2093063\ttotal: 707ms\tremaining: 3.11s\n",
      "185:\tlearn: 137.8406250\ttotal: 711ms\tremaining: 3.11s\n",
      "186:\tlearn: 137.7280816\ttotal: 713ms\tremaining: 3.1s\n",
      "187:\tlearn: 137.2465993\ttotal: 715ms\tremaining: 3.09s\n",
      "188:\tlearn: 136.7894765\ttotal: 717ms\tremaining: 3.08s\n",
      "189:\tlearn: 136.4857311\ttotal: 719ms\tremaining: 3.06s\n",
      "190:\tlearn: 136.0043713\ttotal: 721ms\tremaining: 3.06s\n",
      "191:\tlearn: 135.7523177\ttotal: 724ms\tremaining: 3.04s\n",
      "192:\tlearn: 135.3372675\ttotal: 725ms\tremaining: 3.03s\n",
      "193:\tlearn: 135.0202084\ttotal: 728ms\tremaining: 3.02s\n",
      "194:\tlearn: 134.7757422\ttotal: 729ms\tremaining: 3.01s\n",
      "195:\tlearn: 134.3546545\ttotal: 739ms\tremaining: 3.03s\n",
      "196:\tlearn: 133.9623627\ttotal: 748ms\tremaining: 3.05s\n",
      "197:\tlearn: 133.2648869\ttotal: 755ms\tremaining: 3.06s\n",
      "198:\tlearn: 132.9318972\ttotal: 758ms\tremaining: 3.05s\n",
      "199:\tlearn: 132.5119098\ttotal: 759ms\tremaining: 3.04s\n",
      "200:\tlearn: 131.8954412\ttotal: 771ms\tremaining: 3.06s\n",
      "201:\tlearn: 131.6115557\ttotal: 774ms\tremaining: 3.06s\n",
      "202:\tlearn: 131.2095441\ttotal: 777ms\tremaining: 3.05s\n",
      "203:\tlearn: 130.6658729\ttotal: 791ms\tremaining: 3.09s\n",
      "204:\tlearn: 130.3457517\ttotal: 795ms\tremaining: 3.08s\n",
      "205:\tlearn: 130.0833818\ttotal: 799ms\tremaining: 3.08s\n",
      "206:\tlearn: 129.7238048\ttotal: 803ms\tremaining: 3.07s\n",
      "207:\tlearn: 129.0671906\ttotal: 807ms\tremaining: 3.07s\n",
      "208:\tlearn: 128.7683402\ttotal: 809ms\tremaining: 3.06s\n",
      "209:\tlearn: 128.5832593\ttotal: 813ms\tremaining: 3.06s\n",
      "210:\tlearn: 128.3749444\ttotal: 816ms\tremaining: 3.05s\n",
      "211:\tlearn: 128.1143221\ttotal: 820ms\tremaining: 3.05s\n",
      "212:\tlearn: 127.9897497\ttotal: 825ms\tremaining: 3.05s\n",
      "213:\tlearn: 127.6815659\ttotal: 827ms\tremaining: 3.04s\n",
      "214:\tlearn: 127.2006697\ttotal: 830ms\tremaining: 3.03s\n",
      "215:\tlearn: 127.0352179\ttotal: 833ms\tremaining: 3.02s\n",
      "216:\tlearn: 126.9617234\ttotal: 835ms\tremaining: 3.01s\n",
      "217:\tlearn: 126.7776328\ttotal: 837ms\tremaining: 3s\n",
      "218:\tlearn: 126.3802524\ttotal: 840ms\tremaining: 2.99s\n",
      "219:\tlearn: 126.1995377\ttotal: 843ms\tremaining: 2.99s\n",
      "220:\tlearn: 126.1155383\ttotal: 846ms\tremaining: 2.98s\n",
      "221:\tlearn: 125.9832799\ttotal: 848ms\tremaining: 2.97s\n",
      "222:\tlearn: 125.7495770\ttotal: 850ms\tremaining: 2.96s\n",
      "223:\tlearn: 125.2409845\ttotal: 852ms\tremaining: 2.95s\n",
      "224:\tlearn: 124.9538099\ttotal: 854ms\tremaining: 2.94s\n",
      "225:\tlearn: 124.7089151\ttotal: 860ms\tremaining: 2.94s\n",
      "226:\tlearn: 124.3984858\ttotal: 863ms\tremaining: 2.94s\n",
      "227:\tlearn: 124.0014588\ttotal: 865ms\tremaining: 2.93s\n",
      "228:\tlearn: 123.7139174\ttotal: 868ms\tremaining: 2.92s\n",
      "229:\tlearn: 123.6555034\ttotal: 869ms\tremaining: 2.91s\n",
      "230:\tlearn: 123.3398368\ttotal: 874ms\tremaining: 2.91s\n",
      "231:\tlearn: 122.7561150\ttotal: 877ms\tremaining: 2.9s\n",
      "232:\tlearn: 122.5676806\ttotal: 880ms\tremaining: 2.9s\n",
      "233:\tlearn: 122.1759040\ttotal: 884ms\tremaining: 2.89s\n",
      "234:\tlearn: 121.5761316\ttotal: 888ms\tremaining: 2.89s\n",
      "235:\tlearn: 121.3308579\ttotal: 891ms\tremaining: 2.88s\n",
      "236:\tlearn: 120.6316918\ttotal: 894ms\tremaining: 2.88s\n",
      "237:\tlearn: 120.0241441\ttotal: 897ms\tremaining: 2.87s\n",
      "238:\tlearn: 119.6974692\ttotal: 902ms\tremaining: 2.87s\n",
      "239:\tlearn: 119.5295579\ttotal: 906ms\tremaining: 2.87s\n",
      "240:\tlearn: 118.8105516\ttotal: 908ms\tremaining: 2.86s\n",
      "241:\tlearn: 118.5001438\ttotal: 910ms\tremaining: 2.85s\n",
      "242:\tlearn: 118.1525333\ttotal: 911ms\tremaining: 2.84s\n",
      "243:\tlearn: 117.8294708\ttotal: 914ms\tremaining: 2.83s\n",
      "244:\tlearn: 117.4650856\ttotal: 917ms\tremaining: 2.83s\n",
      "245:\tlearn: 117.2329146\ttotal: 920ms\tremaining: 2.82s\n",
      "246:\tlearn: 116.6281150\ttotal: 924ms\tremaining: 2.82s\n",
      "247:\tlearn: 116.4382173\ttotal: 927ms\tremaining: 2.81s\n",
      "248:\tlearn: 115.7804838\ttotal: 929ms\tremaining: 2.8s\n",
      "249:\tlearn: 115.4468389\ttotal: 935ms\tremaining: 2.81s\n",
      "250:\tlearn: 115.2535858\ttotal: 937ms\tremaining: 2.8s\n",
      "251:\tlearn: 115.0959725\ttotal: 939ms\tremaining: 2.79s\n",
      "252:\tlearn: 114.5054098\ttotal: 943ms\tremaining: 2.78s\n",
      "253:\tlearn: 114.2196805\ttotal: 944ms\tremaining: 2.77s\n",
      "254:\tlearn: 113.9389493\ttotal: 950ms\tremaining: 2.77s\n",
      "255:\tlearn: 113.8318782\ttotal: 953ms\tremaining: 2.77s\n",
      "256:\tlearn: 113.7010766\ttotal: 956ms\tremaining: 2.76s\n",
      "257:\tlearn: 113.5349213\ttotal: 957ms\tremaining: 2.75s\n",
      "258:\tlearn: 113.2939692\ttotal: 967ms\tremaining: 2.77s\n",
      "259:\tlearn: 112.8734855\ttotal: 970ms\tremaining: 2.76s\n",
      "260:\tlearn: 112.2073904\ttotal: 972ms\tremaining: 2.75s\n",
      "261:\tlearn: 111.7098455\ttotal: 973ms\tremaining: 2.74s\n",
      "262:\tlearn: 111.4861643\ttotal: 976ms\tremaining: 2.73s\n",
      "263:\tlearn: 111.4065123\ttotal: 978ms\tremaining: 2.73s\n",
      "264:\tlearn: 110.9193214\ttotal: 981ms\tremaining: 2.72s\n",
      "265:\tlearn: 110.2486713\ttotal: 984ms\tremaining: 2.71s\n",
      "266:\tlearn: 110.1718829\ttotal: 987ms\tremaining: 2.71s\n",
      "267:\tlearn: 109.8233102\ttotal: 989ms\tremaining: 2.7s\n",
      "268:\tlearn: 109.2576068\ttotal: 991ms\tremaining: 2.69s\n",
      "269:\tlearn: 109.1038965\ttotal: 996ms\tremaining: 2.69s\n",
      "270:\tlearn: 108.5183523\ttotal: 999ms\tremaining: 2.69s\n",
      "271:\tlearn: 108.4470954\ttotal: 1s\tremaining: 2.68s\n",
      "272:\tlearn: 108.0259628\ttotal: 1s\tremaining: 2.67s\n",
      "273:\tlearn: 107.5793316\ttotal: 1.01s\tremaining: 2.67s\n",
      "274:\tlearn: 107.4747562\ttotal: 1.01s\tremaining: 2.66s\n",
      "275:\tlearn: 107.4015080\ttotal: 1.01s\tremaining: 2.66s\n",
      "276:\tlearn: 106.7954512\ttotal: 1.02s\tremaining: 2.65s\n",
      "277:\tlearn: 106.3607188\ttotal: 1.02s\tremaining: 2.64s\n",
      "278:\tlearn: 106.2892222\ttotal: 1.02s\tremaining: 2.64s\n",
      "279:\tlearn: 106.1701389\ttotal: 1.02s\tremaining: 2.63s\n",
      "280:\tlearn: 106.0889424\ttotal: 1.02s\tremaining: 2.62s\n",
      "281:\tlearn: 105.8903610\ttotal: 1.03s\tremaining: 2.61s\n",
      "282:\tlearn: 105.6531794\ttotal: 1.03s\tremaining: 2.61s\n",
      "283:\tlearn: 105.3489666\ttotal: 1.03s\tremaining: 2.6s\n",
      "284:\tlearn: 105.2156952\ttotal: 1.03s\tremaining: 2.59s\n",
      "285:\tlearn: 104.7489850\ttotal: 1.03s\tremaining: 2.58s\n",
      "286:\tlearn: 104.4701409\ttotal: 1.04s\tremaining: 2.58s\n",
      "287:\tlearn: 104.3778769\ttotal: 1.04s\tremaining: 2.57s\n",
      "288:\tlearn: 103.8224679\ttotal: 1.04s\tremaining: 2.57s\n",
      "289:\tlearn: 103.2728523\ttotal: 1.04s\tremaining: 2.56s\n",
      "290:\tlearn: 102.7341369\ttotal: 1.06s\tremaining: 2.57s\n",
      "291:\tlearn: 102.5732242\ttotal: 1.06s\tremaining: 2.57s\n",
      "292:\tlearn: 102.4869595\ttotal: 1.06s\tremaining: 2.56s\n",
      "293:\tlearn: 101.9743362\ttotal: 1.06s\tremaining: 2.55s\n",
      "294:\tlearn: 101.8782948\ttotal: 1.06s\tremaining: 2.54s\n",
      "295:\tlearn: 101.3571512\ttotal: 1.07s\tremaining: 2.54s\n",
      "296:\tlearn: 100.8372462\ttotal: 1.07s\tremaining: 2.53s\n",
      "297:\tlearn: 100.6707783\ttotal: 1.07s\tremaining: 2.53s\n",
      "298:\tlearn: 100.3215940\ttotal: 1.08s\tremaining: 2.52s\n",
      "299:\tlearn: 99.8162460\ttotal: 1.08s\tremaining: 2.52s\n",
      "300:\tlearn: 99.7024172\ttotal: 1.08s\tremaining: 2.51s\n",
      "301:\tlearn: 99.2308832\ttotal: 1.09s\tremaining: 2.51s\n",
      "302:\tlearn: 98.7981083\ttotal: 1.09s\tremaining: 2.51s\n",
      "303:\tlearn: 98.6418362\ttotal: 1.09s\tremaining: 2.5s\n",
      "304:\tlearn: 98.1248564\ttotal: 1.11s\tremaining: 2.52s\n",
      "305:\tlearn: 97.9442581\ttotal: 1.11s\tremaining: 2.53s\n",
      "306:\tlearn: 97.5091297\ttotal: 1.12s\tremaining: 2.52s\n",
      "307:\tlearn: 97.0381695\ttotal: 1.12s\tremaining: 2.52s\n",
      "308:\tlearn: 96.5858904\ttotal: 1.12s\tremaining: 2.51s\n",
      "309:\tlearn: 96.4466124\ttotal: 1.13s\tremaining: 2.51s\n",
      "310:\tlearn: 95.9786304\ttotal: 1.13s\tremaining: 2.5s\n",
      "311:\tlearn: 95.5390501\ttotal: 1.13s\tremaining: 2.5s\n",
      "312:\tlearn: 95.3241323\ttotal: 1.13s\tremaining: 2.49s\n",
      "313:\tlearn: 95.1166839\ttotal: 1.14s\tremaining: 2.49s\n",
      "314:\tlearn: 94.6729021\ttotal: 1.15s\tremaining: 2.5s\n",
      "315:\tlearn: 94.2571678\ttotal: 1.15s\tremaining: 2.49s\n",
      "316:\tlearn: 93.9414786\ttotal: 1.15s\tremaining: 2.48s\n",
      "317:\tlearn: 93.7804159\ttotal: 1.16s\tremaining: 2.48s\n",
      "318:\tlearn: 93.5413306\ttotal: 1.16s\tremaining: 2.47s\n",
      "319:\tlearn: 93.4280107\ttotal: 1.16s\tremaining: 2.48s\n",
      "320:\tlearn: 92.9986302\ttotal: 1.17s\tremaining: 2.47s\n",
      "321:\tlearn: 92.9421610\ttotal: 1.17s\tremaining: 2.46s\n",
      "322:\tlearn: 92.4662692\ttotal: 1.18s\tremaining: 2.47s\n",
      "323:\tlearn: 92.0455485\ttotal: 1.18s\tremaining: 2.46s\n",
      "324:\tlearn: 91.6664667\ttotal: 1.18s\tremaining: 2.46s\n",
      "325:\tlearn: 91.5600717\ttotal: 1.19s\tremaining: 2.45s\n",
      "326:\tlearn: 91.5004974\ttotal: 1.19s\tremaining: 2.45s\n",
      "327:\tlearn: 91.0716355\ttotal: 1.19s\tremaining: 2.44s\n",
      "328:\tlearn: 90.6376777\ttotal: 1.19s\tremaining: 2.44s\n",
      "329:\tlearn: 90.2132341\ttotal: 1.2s\tremaining: 2.43s\n",
      "330:\tlearn: 90.1525801\ttotal: 1.2s\tremaining: 2.42s\n",
      "331:\tlearn: 89.7879501\ttotal: 1.2s\tremaining: 2.42s\n",
      "332:\tlearn: 89.3626218\ttotal: 1.21s\tremaining: 2.42s\n",
      "333:\tlearn: 89.1274526\ttotal: 1.21s\tremaining: 2.41s\n",
      "334:\tlearn: 88.7222011\ttotal: 1.21s\tremaining: 2.4s\n",
      "335:\tlearn: 88.5311901\ttotal: 1.21s\tremaining: 2.4s\n",
      "336:\tlearn: 88.0699983\ttotal: 1.21s\tremaining: 2.39s\n",
      "337:\tlearn: 87.6737037\ttotal: 1.22s\tremaining: 2.38s\n",
      "338:\tlearn: 87.3069085\ttotal: 1.22s\tremaining: 2.38s\n",
      "339:\tlearn: 86.8639700\ttotal: 1.23s\tremaining: 2.38s\n",
      "340:\tlearn: 86.7339532\ttotal: 1.23s\tremaining: 2.37s\n",
      "341:\tlearn: 86.5677333\ttotal: 1.24s\tremaining: 2.38s\n",
      "342:\tlearn: 86.4361752\ttotal: 1.24s\tremaining: 2.38s\n",
      "343:\tlearn: 86.2469458\ttotal: 1.24s\tremaining: 2.37s\n",
      "344:\tlearn: 86.1967306\ttotal: 1.25s\tremaining: 2.37s\n",
      "345:\tlearn: 86.0709863\ttotal: 1.25s\tremaining: 2.36s\n",
      "346:\tlearn: 85.6398833\ttotal: 1.25s\tremaining: 2.35s\n",
      "347:\tlearn: 85.5979263\ttotal: 1.26s\tremaining: 2.35s\n",
      "348:\tlearn: 85.4437261\ttotal: 1.26s\tremaining: 2.35s\n",
      "349:\tlearn: 85.0669752\ttotal: 1.26s\tremaining: 2.34s\n",
      "350:\tlearn: 85.0164116\ttotal: 1.26s\tremaining: 2.34s\n",
      "351:\tlearn: 84.6350071\ttotal: 1.27s\tremaining: 2.33s\n",
      "352:\tlearn: 84.1473245\ttotal: 1.27s\tremaining: 2.33s\n",
      "353:\tlearn: 83.8115391\ttotal: 1.27s\tremaining: 2.33s\n",
      "354:\tlearn: 83.4823620\ttotal: 1.29s\tremaining: 2.34s\n",
      "355:\tlearn: 83.1595406\ttotal: 1.29s\tremaining: 2.33s\n",
      "356:\tlearn: 82.7280745\ttotal: 1.29s\tremaining: 2.33s\n",
      "357:\tlearn: 82.6210086\ttotal: 1.29s\tremaining: 2.32s\n",
      "358:\tlearn: 82.3077194\ttotal: 1.3s\tremaining: 2.32s\n",
      "359:\tlearn: 81.9112073\ttotal: 1.31s\tremaining: 2.33s\n",
      "360:\tlearn: 81.5518193\ttotal: 1.31s\tremaining: 2.33s\n",
      "361:\tlearn: 81.4267033\ttotal: 1.32s\tremaining: 2.32s\n",
      "362:\tlearn: 81.0255982\ttotal: 1.32s\tremaining: 2.32s\n",
      "363:\tlearn: 80.6891175\ttotal: 1.32s\tremaining: 2.31s\n",
      "364:\tlearn: 80.4390711\ttotal: 1.32s\tremaining: 2.3s\n",
      "365:\tlearn: 80.1232319\ttotal: 1.33s\tremaining: 2.31s\n",
      "366:\tlearn: 80.0808756\ttotal: 1.34s\tremaining: 2.32s\n",
      "367:\tlearn: 79.7090424\ttotal: 1.35s\tremaining: 2.32s\n",
      "368:\tlearn: 79.3969152\ttotal: 1.35s\tremaining: 2.31s\n",
      "369:\tlearn: 79.0731259\ttotal: 1.35s\tremaining: 2.31s\n",
      "370:\tlearn: 78.9862934\ttotal: 1.36s\tremaining: 2.3s\n",
      "371:\tlearn: 78.7730476\ttotal: 1.36s\tremaining: 2.3s\n",
      "372:\tlearn: 78.6302158\ttotal: 1.37s\tremaining: 2.3s\n",
      "373:\tlearn: 78.5184111\ttotal: 1.37s\tremaining: 2.29s\n",
      "374:\tlearn: 78.3814955\ttotal: 1.37s\tremaining: 2.29s\n",
      "375:\tlearn: 77.9622261\ttotal: 1.38s\tremaining: 2.29s\n",
      "376:\tlearn: 77.8601787\ttotal: 1.38s\tremaining: 2.28s\n",
      "377:\tlearn: 77.7650898\ttotal: 1.38s\tremaining: 2.27s\n",
      "378:\tlearn: 77.3945927\ttotal: 1.39s\tremaining: 2.27s\n",
      "379:\tlearn: 77.3348237\ttotal: 1.39s\tremaining: 2.26s\n",
      "380:\tlearn: 77.2431856\ttotal: 1.39s\tremaining: 2.26s\n",
      "381:\tlearn: 76.9192891\ttotal: 1.4s\tremaining: 2.26s\n",
      "382:\tlearn: 76.7949544\ttotal: 1.4s\tremaining: 2.25s\n",
      "383:\tlearn: 76.5217530\ttotal: 1.4s\tremaining: 2.24s\n",
      "384:\tlearn: 76.1648512\ttotal: 1.4s\tremaining: 2.24s\n",
      "385:\tlearn: 75.9867656\ttotal: 1.4s\tremaining: 2.23s\n",
      "386:\tlearn: 75.7293435\ttotal: 1.41s\tremaining: 2.23s\n",
      "387:\tlearn: 75.6419805\ttotal: 1.41s\tremaining: 2.22s\n",
      "388:\tlearn: 75.3138222\ttotal: 1.41s\tremaining: 2.22s\n",
      "389:\tlearn: 75.0125736\ttotal: 1.42s\tremaining: 2.21s\n",
      "390:\tlearn: 74.9803725\ttotal: 1.42s\tremaining: 2.21s\n",
      "391:\tlearn: 74.6113970\ttotal: 1.42s\tremaining: 2.2s\n",
      "392:\tlearn: 74.3668766\ttotal: 1.42s\tremaining: 2.2s\n",
      "393:\tlearn: 74.2752147\ttotal: 1.43s\tremaining: 2.2s\n",
      "394:\tlearn: 74.2172412\ttotal: 1.43s\tremaining: 2.19s\n",
      "395:\tlearn: 73.8652110\ttotal: 1.43s\tremaining: 2.19s\n",
      "396:\tlearn: 73.6963645\ttotal: 1.43s\tremaining: 2.18s\n",
      "397:\tlearn: 73.4075086\ttotal: 1.44s\tremaining: 2.17s\n",
      "398:\tlearn: 73.0346771\ttotal: 1.44s\tremaining: 2.17s\n",
      "399:\tlearn: 72.9971586\ttotal: 1.44s\tremaining: 2.16s\n",
      "400:\tlearn: 72.6755493\ttotal: 1.44s\tremaining: 2.16s\n",
      "401:\tlearn: 72.5972282\ttotal: 1.45s\tremaining: 2.15s\n",
      "402:\tlearn: 72.4345974\ttotal: 1.45s\tremaining: 2.15s\n",
      "403:\tlearn: 72.2185716\ttotal: 1.45s\tremaining: 2.14s\n",
      "404:\tlearn: 71.9251032\ttotal: 1.46s\tremaining: 2.14s\n",
      "405:\tlearn: 71.8901544\ttotal: 1.46s\tremaining: 2.13s\n",
      "406:\tlearn: 71.5338422\ttotal: 1.47s\tremaining: 2.13s\n",
      "407:\tlearn: 71.4477827\ttotal: 1.47s\tremaining: 2.13s\n",
      "408:\tlearn: 71.4127550\ttotal: 1.47s\tremaining: 2.13s\n",
      "409:\tlearn: 71.3322454\ttotal: 1.48s\tremaining: 2.12s\n",
      "410:\tlearn: 71.2981804\ttotal: 1.48s\tremaining: 2.12s\n",
      "411:\tlearn: 71.0089173\ttotal: 1.48s\tremaining: 2.11s\n",
      "412:\tlearn: 70.7854493\ttotal: 1.48s\tremaining: 2.11s\n",
      "413:\tlearn: 70.4930103\ttotal: 1.49s\tremaining: 2.1s\n",
      "414:\tlearn: 70.1976578\ttotal: 1.49s\tremaining: 2.1s\n",
      "415:\tlearn: 69.9565552\ttotal: 1.5s\tremaining: 2.11s\n",
      "416:\tlearn: 69.8912103\ttotal: 1.5s\tremaining: 2.1s\n",
      "417:\tlearn: 69.7356706\ttotal: 1.51s\tremaining: 2.1s\n",
      "418:\tlearn: 69.6634412\ttotal: 1.52s\tremaining: 2.1s\n",
      "419:\tlearn: 69.2943609\ttotal: 1.52s\tremaining: 2.1s\n",
      "420:\tlearn: 69.0269983\ttotal: 1.52s\tremaining: 2.1s\n",
      "421:\tlearn: 68.8653561\ttotal: 1.53s\tremaining: 2.09s\n",
      "422:\tlearn: 68.6555281\ttotal: 1.54s\tremaining: 2.1s\n",
      "423:\tlearn: 68.2338294\ttotal: 1.54s\tremaining: 2.09s\n",
      "424:\tlearn: 68.0909898\ttotal: 1.54s\tremaining: 2.08s\n",
      "425:\tlearn: 67.7905722\ttotal: 1.54s\tremaining: 2.08s\n",
      "426:\tlearn: 67.5586853\ttotal: 1.55s\tremaining: 2.08s\n",
      "427:\tlearn: 67.3518839\ttotal: 1.55s\tremaining: 2.07s\n",
      "428:\tlearn: 67.2029794\ttotal: 1.55s\tremaining: 2.07s\n",
      "429:\tlearn: 66.9467892\ttotal: 1.56s\tremaining: 2.06s\n",
      "430:\tlearn: 66.7821891\ttotal: 1.56s\tremaining: 2.06s\n",
      "431:\tlearn: 66.4955741\ttotal: 1.56s\tremaining: 2.06s\n",
      "432:\tlearn: 66.2240359\ttotal: 1.57s\tremaining: 2.05s\n",
      "433:\tlearn: 65.9832136\ttotal: 1.57s\tremaining: 2.05s\n",
      "434:\tlearn: 65.7761577\ttotal: 1.57s\tremaining: 2.04s\n",
      "435:\tlearn: 65.4845025\ttotal: 1.57s\tremaining: 2.04s\n",
      "436:\tlearn: 65.4215937\ttotal: 1.58s\tremaining: 2.03s\n",
      "437:\tlearn: 65.1768197\ttotal: 1.58s\tremaining: 2.03s\n",
      "438:\tlearn: 65.1071642\ttotal: 1.58s\tremaining: 2.02s\n",
      "439:\tlearn: 65.0705857\ttotal: 1.58s\tremaining: 2.02s\n",
      "440:\tlearn: 64.7782864\ttotal: 1.59s\tremaining: 2.01s\n",
      "441:\tlearn: 64.5284944\ttotal: 1.59s\tremaining: 2s\n",
      "442:\tlearn: 64.3504433\ttotal: 1.59s\tremaining: 2s\n",
      "443:\tlearn: 64.3001112\ttotal: 1.6s\tremaining: 2s\n",
      "444:\tlearn: 63.9063758\ttotal: 1.6s\tremaining: 2s\n",
      "445:\tlearn: 63.8746707\ttotal: 1.6s\tremaining: 1.99s\n",
      "446:\tlearn: 63.5487944\ttotal: 1.6s\tremaining: 1.98s\n",
      "447:\tlearn: 63.3406893\ttotal: 1.61s\tremaining: 1.99s\n",
      "448:\tlearn: 63.0992921\ttotal: 1.62s\tremaining: 1.98s\n",
      "449:\tlearn: 62.8676535\ttotal: 1.62s\tremaining: 1.98s\n",
      "450:\tlearn: 62.6978975\ttotal: 1.62s\tremaining: 1.97s\n",
      "451:\tlearn: 62.4888356\ttotal: 1.62s\tremaining: 1.97s\n",
      "452:\tlearn: 62.4591033\ttotal: 1.63s\tremaining: 1.96s\n",
      "453:\tlearn: 62.3981355\ttotal: 1.63s\tremaining: 1.96s\n",
      "454:\tlearn: 62.2755114\ttotal: 1.63s\tremaining: 1.95s\n",
      "455:\tlearn: 62.0286915\ttotal: 1.63s\tremaining: 1.95s\n",
      "456:\tlearn: 61.8101493\ttotal: 1.64s\tremaining: 1.94s\n",
      "457:\tlearn: 61.7125436\ttotal: 1.64s\tremaining: 1.94s\n",
      "458:\tlearn: 61.3464743\ttotal: 1.64s\tremaining: 1.94s\n",
      "459:\tlearn: 61.0777407\ttotal: 1.64s\tremaining: 1.93s\n",
      "460:\tlearn: 60.7354015\ttotal: 1.65s\tremaining: 1.92s\n",
      "461:\tlearn: 60.7070785\ttotal: 1.65s\tremaining: 1.92s\n",
      "462:\tlearn: 60.4380726\ttotal: 1.65s\tremaining: 1.91s\n",
      "463:\tlearn: 60.3794644\ttotal: 1.66s\tremaining: 1.92s\n",
      "464:\tlearn: 60.3096146\ttotal: 1.66s\tremaining: 1.91s\n",
      "465:\tlearn: 60.2803998\ttotal: 1.67s\tremaining: 1.91s\n",
      "466:\tlearn: 60.2489158\ttotal: 1.67s\tremaining: 1.91s\n",
      "467:\tlearn: 60.2187601\ttotal: 1.68s\tremaining: 1.91s\n",
      "468:\tlearn: 59.9901529\ttotal: 1.68s\tremaining: 1.9s\n",
      "469:\tlearn: 59.7821357\ttotal: 1.69s\tremaining: 1.9s\n",
      "470:\tlearn: 59.7334527\ttotal: 1.69s\tremaining: 1.9s\n",
      "471:\tlearn: 59.4989600\ttotal: 1.7s\tremaining: 1.9s\n",
      "472:\tlearn: 59.1865219\ttotal: 1.7s\tremaining: 1.89s\n",
      "473:\tlearn: 58.9478658\ttotal: 1.7s\tremaining: 1.89s\n",
      "474:\tlearn: 58.6836425\ttotal: 1.71s\tremaining: 1.89s\n",
      "475:\tlearn: 58.6522637\ttotal: 1.71s\tremaining: 1.89s\n",
      "476:\tlearn: 58.5963542\ttotal: 1.72s\tremaining: 1.88s\n",
      "477:\tlearn: 58.3648296\ttotal: 1.72s\tremaining: 1.88s\n",
      "478:\tlearn: 58.3188915\ttotal: 1.72s\tremaining: 1.88s\n",
      "479:\tlearn: 58.1813689\ttotal: 1.73s\tremaining: 1.87s\n",
      "480:\tlearn: 57.9437076\ttotal: 1.73s\tremaining: 1.87s\n",
      "481:\tlearn: 57.7694232\ttotal: 1.74s\tremaining: 1.87s\n",
      "482:\tlearn: 57.7437082\ttotal: 1.74s\tremaining: 1.87s\n",
      "483:\tlearn: 57.5081532\ttotal: 1.75s\tremaining: 1.86s\n",
      "484:\tlearn: 57.2134650\ttotal: 1.76s\tremaining: 1.86s\n",
      "485:\tlearn: 56.9733344\ttotal: 1.76s\tremaining: 1.86s\n",
      "486:\tlearn: 56.9412760\ttotal: 1.77s\tremaining: 1.86s\n",
      "487:\tlearn: 56.8640335\ttotal: 1.77s\tremaining: 1.86s\n",
      "488:\tlearn: 56.5624625\ttotal: 1.78s\tremaining: 1.86s\n",
      "489:\tlearn: 56.4986179\ttotal: 1.78s\tremaining: 1.86s\n",
      "490:\tlearn: 56.3527490\ttotal: 1.79s\tremaining: 1.85s\n",
      "491:\tlearn: 56.0961642\ttotal: 1.79s\tremaining: 1.85s\n",
      "492:\tlearn: 55.8256120\ttotal: 1.79s\tremaining: 1.85s\n",
      "493:\tlearn: 55.6150160\ttotal: 1.8s\tremaining: 1.84s\n",
      "494:\tlearn: 55.5631279\ttotal: 1.8s\tremaining: 1.84s\n",
      "495:\tlearn: 55.3736400\ttotal: 1.81s\tremaining: 1.84s\n",
      "496:\tlearn: 55.3441677\ttotal: 1.81s\tremaining: 1.83s\n",
      "497:\tlearn: 55.1995384\ttotal: 1.81s\tremaining: 1.83s\n",
      "498:\tlearn: 54.8980322\ttotal: 1.82s\tremaining: 1.82s\n",
      "499:\tlearn: 54.7119603\ttotal: 1.82s\tremaining: 1.82s\n",
      "500:\tlearn: 54.6236591\ttotal: 1.82s\tremaining: 1.82s\n",
      "501:\tlearn: 54.4131558\ttotal: 1.83s\tremaining: 1.81s\n",
      "502:\tlearn: 54.3901230\ttotal: 1.83s\tremaining: 1.81s\n",
      "503:\tlearn: 54.3662021\ttotal: 1.84s\tremaining: 1.81s\n",
      "504:\tlearn: 54.2068745\ttotal: 1.84s\tremaining: 1.81s\n",
      "505:\tlearn: 54.1800600\ttotal: 1.85s\tremaining: 1.8s\n",
      "506:\tlearn: 54.1376632\ttotal: 1.85s\tremaining: 1.8s\n",
      "507:\tlearn: 53.9788342\ttotal: 1.85s\tremaining: 1.8s\n",
      "508:\tlearn: 53.9294324\ttotal: 1.86s\tremaining: 1.79s\n",
      "509:\tlearn: 53.6786369\ttotal: 1.86s\tremaining: 1.79s\n",
      "510:\tlearn: 53.4578789\ttotal: 1.86s\tremaining: 1.78s\n",
      "511:\tlearn: 53.3261204\ttotal: 1.87s\tremaining: 1.78s\n",
      "512:\tlearn: 53.1331329\ttotal: 1.87s\tremaining: 1.78s\n",
      "513:\tlearn: 52.9261288\ttotal: 1.88s\tremaining: 1.77s\n",
      "514:\tlearn: 52.7447311\ttotal: 1.88s\tremaining: 1.77s\n",
      "515:\tlearn: 52.5966869\ttotal: 1.89s\tremaining: 1.77s\n",
      "516:\tlearn: 52.4130565\ttotal: 1.89s\tremaining: 1.77s\n",
      "517:\tlearn: 52.1948654\ttotal: 1.9s\tremaining: 1.76s\n",
      "518:\tlearn: 51.9463802\ttotal: 1.9s\tremaining: 1.76s\n",
      "519:\tlearn: 51.9178306\ttotal: 1.9s\tremaining: 1.76s\n",
      "520:\tlearn: 51.7246141\ttotal: 1.91s\tremaining: 1.75s\n",
      "521:\tlearn: 51.5669648\ttotal: 1.91s\tremaining: 1.75s\n",
      "522:\tlearn: 51.5221972\ttotal: 1.91s\tremaining: 1.74s\n",
      "523:\tlearn: 51.3293697\ttotal: 1.91s\tremaining: 1.74s\n",
      "524:\tlearn: 51.1767477\ttotal: 1.92s\tremaining: 1.74s\n",
      "525:\tlearn: 51.0961343\ttotal: 1.93s\tremaining: 1.74s\n",
      "526:\tlearn: 50.9995340\ttotal: 1.93s\tremaining: 1.74s\n",
      "527:\tlearn: 50.8846082\ttotal: 1.94s\tremaining: 1.73s\n",
      "528:\tlearn: 50.7478794\ttotal: 1.94s\tremaining: 1.73s\n",
      "529:\tlearn: 50.5116322\ttotal: 1.95s\tremaining: 1.73s\n",
      "530:\tlearn: 50.2760468\ttotal: 1.95s\tremaining: 1.73s\n",
      "531:\tlearn: 50.1040144\ttotal: 1.96s\tremaining: 1.72s\n",
      "532:\tlearn: 49.8827812\ttotal: 1.96s\tremaining: 1.72s\n",
      "533:\tlearn: 49.8255711\ttotal: 1.97s\tremaining: 1.72s\n",
      "534:\tlearn: 49.7890438\ttotal: 1.98s\tremaining: 1.72s\n",
      "535:\tlearn: 49.6290340\ttotal: 1.98s\tremaining: 1.72s\n",
      "536:\tlearn: 49.3965889\ttotal: 1.99s\tremaining: 1.72s\n",
      "537:\tlearn: 49.1641285\ttotal: 1.99s\tremaining: 1.71s\n",
      "538:\tlearn: 48.9654180\ttotal: 2s\tremaining: 1.71s\n",
      "539:\tlearn: 48.9278341\ttotal: 2s\tremaining: 1.71s\n",
      "540:\tlearn: 48.8457405\ttotal: 2.01s\tremaining: 1.7s\n",
      "541:\tlearn: 48.8041804\ttotal: 2.01s\tremaining: 1.7s\n",
      "542:\tlearn: 48.7179291\ttotal: 2.02s\tremaining: 1.7s\n",
      "543:\tlearn: 48.6759771\ttotal: 2.02s\tremaining: 1.7s\n",
      "544:\tlearn: 48.4792967\ttotal: 2.03s\tremaining: 1.69s\n",
      "545:\tlearn: 48.3843114\ttotal: 2.03s\tremaining: 1.69s\n",
      "546:\tlearn: 48.2453957\ttotal: 2.04s\tremaining: 1.69s\n",
      "547:\tlearn: 48.0231685\ttotal: 2.04s\tremaining: 1.68s\n",
      "548:\tlearn: 47.8612203\ttotal: 2.05s\tremaining: 1.68s\n",
      "549:\tlearn: 47.7590091\ttotal: 2.06s\tremaining: 1.68s\n",
      "550:\tlearn: 47.6561968\ttotal: 2.06s\tremaining: 1.68s\n",
      "551:\tlearn: 47.4106594\ttotal: 2.06s\tremaining: 1.68s\n",
      "552:\tlearn: 47.2194456\ttotal: 2.07s\tremaining: 1.67s\n",
      "553:\tlearn: 47.0783850\ttotal: 2.07s\tremaining: 1.67s\n",
      "554:\tlearn: 46.8215038\ttotal: 2.08s\tremaining: 1.67s\n",
      "555:\tlearn: 46.6674572\ttotal: 2.09s\tremaining: 1.67s\n",
      "556:\tlearn: 46.6418726\ttotal: 2.1s\tremaining: 1.67s\n",
      "557:\tlearn: 46.5248666\ttotal: 2.1s\tremaining: 1.66s\n",
      "558:\tlearn: 46.5061320\ttotal: 2.11s\tremaining: 1.66s\n",
      "559:\tlearn: 46.4397708\ttotal: 2.11s\tremaining: 1.66s\n",
      "560:\tlearn: 46.3904442\ttotal: 2.12s\tremaining: 1.66s\n",
      "561:\tlearn: 46.2576989\ttotal: 2.13s\tremaining: 1.66s\n",
      "562:\tlearn: 45.9568721\ttotal: 2.13s\tremaining: 1.65s\n",
      "563:\tlearn: 45.8482033\ttotal: 2.14s\tremaining: 1.65s\n",
      "564:\tlearn: 45.6689466\ttotal: 2.14s\tremaining: 1.65s\n",
      "565:\tlearn: 45.4222796\ttotal: 2.15s\tremaining: 1.65s\n",
      "566:\tlearn: 45.2404146\ttotal: 2.15s\tremaining: 1.64s\n",
      "567:\tlearn: 45.0903054\ttotal: 2.15s\tremaining: 1.64s\n",
      "568:\tlearn: 44.7991969\ttotal: 2.16s\tremaining: 1.64s\n",
      "569:\tlearn: 44.6413756\ttotal: 2.16s\tremaining: 1.63s\n",
      "570:\tlearn: 44.5799550\ttotal: 2.17s\tremaining: 1.63s\n",
      "571:\tlearn: 44.5651506\ttotal: 2.17s\tremaining: 1.63s\n",
      "572:\tlearn: 44.4233165\ttotal: 2.18s\tremaining: 1.62s\n",
      "573:\tlearn: 44.2369747\ttotal: 2.18s\tremaining: 1.62s\n",
      "574:\tlearn: 44.0545664\ttotal: 2.19s\tremaining: 1.62s\n",
      "575:\tlearn: 43.9004385\ttotal: 2.19s\tremaining: 1.61s\n",
      "576:\tlearn: 43.7138119\ttotal: 2.2s\tremaining: 1.61s\n",
      "577:\tlearn: 43.5755556\ttotal: 2.2s\tremaining: 1.61s\n",
      "578:\tlearn: 43.4934072\ttotal: 2.21s\tremaining: 1.61s\n",
      "579:\tlearn: 43.4629843\ttotal: 2.21s\tremaining: 1.6s\n",
      "580:\tlearn: 43.3825129\ttotal: 2.22s\tremaining: 1.6s\n",
      "581:\tlearn: 43.2549166\ttotal: 2.22s\tremaining: 1.59s\n",
      "582:\tlearn: 43.1514800\ttotal: 2.22s\tremaining: 1.59s\n",
      "583:\tlearn: 42.9846414\ttotal: 2.23s\tremaining: 1.59s\n",
      "584:\tlearn: 42.8538804\ttotal: 2.23s\tremaining: 1.58s\n",
      "585:\tlearn: 42.7710806\ttotal: 2.23s\tremaining: 1.58s\n",
      "586:\tlearn: 42.5351412\ttotal: 2.24s\tremaining: 1.57s\n",
      "587:\tlearn: 42.4784055\ttotal: 2.24s\tremaining: 1.57s\n",
      "588:\tlearn: 42.3174788\ttotal: 2.25s\tremaining: 1.57s\n",
      "589:\tlearn: 42.1761529\ttotal: 2.25s\tremaining: 1.57s\n",
      "590:\tlearn: 42.0486059\ttotal: 2.26s\tremaining: 1.56s\n",
      "591:\tlearn: 41.8689529\ttotal: 2.26s\tremaining: 1.56s\n",
      "592:\tlearn: 41.8306286\ttotal: 2.26s\tremaining: 1.55s\n",
      "593:\tlearn: 41.6966124\ttotal: 2.27s\tremaining: 1.55s\n",
      "594:\tlearn: 41.6647082\ttotal: 2.27s\tremaining: 1.54s\n",
      "595:\tlearn: 41.5609917\ttotal: 2.27s\tremaining: 1.54s\n",
      "596:\tlearn: 41.4632566\ttotal: 2.28s\tremaining: 1.54s\n",
      "597:\tlearn: 41.3899602\ttotal: 2.28s\tremaining: 1.53s\n",
      "598:\tlearn: 41.2152047\ttotal: 2.29s\tremaining: 1.53s\n",
      "599:\tlearn: 41.0959753\ttotal: 2.29s\tremaining: 1.52s\n",
      "600:\tlearn: 40.9815009\ttotal: 2.3s\tremaining: 1.52s\n",
      "601:\tlearn: 40.8912971\ttotal: 2.3s\tremaining: 1.52s\n",
      "602:\tlearn: 40.7881395\ttotal: 2.31s\tremaining: 1.52s\n",
      "603:\tlearn: 40.6325570\ttotal: 2.31s\tremaining: 1.51s\n",
      "604:\tlearn: 40.4083902\ttotal: 2.31s\tremaining: 1.51s\n",
      "605:\tlearn: 40.3292737\ttotal: 2.33s\tremaining: 1.51s\n",
      "606:\tlearn: 40.2629492\ttotal: 2.33s\tremaining: 1.51s\n",
      "607:\tlearn: 40.2448471\ttotal: 2.33s\tremaining: 1.5s\n",
      "608:\tlearn: 40.2293673\ttotal: 2.34s\tremaining: 1.5s\n",
      "609:\tlearn: 40.0978829\ttotal: 2.35s\tremaining: 1.5s\n",
      "610:\tlearn: 40.0512268\ttotal: 2.35s\tremaining: 1.5s\n",
      "611:\tlearn: 39.8920221\ttotal: 2.36s\tremaining: 1.49s\n",
      "612:\tlearn: 39.8591122\ttotal: 2.36s\tremaining: 1.49s\n",
      "613:\tlearn: 39.7261911\ttotal: 2.37s\tremaining: 1.49s\n",
      "614:\tlearn: 39.6986628\ttotal: 2.37s\tremaining: 1.48s\n",
      "615:\tlearn: 39.5659851\ttotal: 2.38s\tremaining: 1.48s\n",
      "616:\tlearn: 39.4815274\ttotal: 2.38s\tremaining: 1.48s\n",
      "617:\tlearn: 39.3682607\ttotal: 2.38s\tremaining: 1.47s\n",
      "618:\tlearn: 39.2643803\ttotal: 2.39s\tremaining: 1.47s\n",
      "619:\tlearn: 39.1307437\ttotal: 2.39s\tremaining: 1.47s\n",
      "620:\tlearn: 38.9596117\ttotal: 2.4s\tremaining: 1.46s\n",
      "621:\tlearn: 38.8456302\ttotal: 2.4s\tremaining: 1.46s\n",
      "622:\tlearn: 38.7810676\ttotal: 2.4s\tremaining: 1.46s\n",
      "623:\tlearn: 38.7450983\ttotal: 2.41s\tremaining: 1.45s\n",
      "624:\tlearn: 38.6788090\ttotal: 2.41s\tremaining: 1.45s\n",
      "625:\tlearn: 38.5788475\ttotal: 2.42s\tremaining: 1.45s\n",
      "626:\tlearn: 38.4675366\ttotal: 2.43s\tremaining: 1.44s\n",
      "627:\tlearn: 38.2350724\ttotal: 2.43s\tremaining: 1.44s\n",
      "628:\tlearn: 38.2074221\ttotal: 2.44s\tremaining: 1.44s\n",
      "629:\tlearn: 38.0622880\ttotal: 2.45s\tremaining: 1.44s\n",
      "630:\tlearn: 37.8520281\ttotal: 2.47s\tremaining: 1.44s\n",
      "631:\tlearn: 37.6631204\ttotal: 2.48s\tremaining: 1.44s\n",
      "632:\tlearn: 37.5153877\ttotal: 2.49s\tremaining: 1.44s\n",
      "633:\tlearn: 37.3834892\ttotal: 2.5s\tremaining: 1.44s\n",
      "634:\tlearn: 37.2552166\ttotal: 2.5s\tremaining: 1.44s\n",
      "635:\tlearn: 37.0779047\ttotal: 2.51s\tremaining: 1.44s\n",
      "636:\tlearn: 37.0329263\ttotal: 2.52s\tremaining: 1.43s\n",
      "637:\tlearn: 36.8927982\ttotal: 2.52s\tremaining: 1.43s\n",
      "638:\tlearn: 36.8105498\ttotal: 2.53s\tremaining: 1.43s\n",
      "639:\tlearn: 36.7512624\ttotal: 2.53s\tremaining: 1.42s\n",
      "640:\tlearn: 36.5891302\ttotal: 2.54s\tremaining: 1.42s\n",
      "641:\tlearn: 36.4551656\ttotal: 2.54s\tremaining: 1.42s\n",
      "642:\tlearn: 36.4318588\ttotal: 2.54s\tremaining: 1.41s\n",
      "643:\tlearn: 36.4074785\ttotal: 2.55s\tremaining: 1.41s\n",
      "644:\tlearn: 36.2579510\ttotal: 2.55s\tremaining: 1.41s\n",
      "645:\tlearn: 36.1413504\ttotal: 2.56s\tremaining: 1.4s\n",
      "646:\tlearn: 36.0078406\ttotal: 2.56s\tremaining: 1.4s\n",
      "647:\tlearn: 35.8909828\ttotal: 2.57s\tremaining: 1.4s\n",
      "648:\tlearn: 35.7426906\ttotal: 2.57s\tremaining: 1.39s\n",
      "649:\tlearn: 35.5963108\ttotal: 2.58s\tremaining: 1.39s\n",
      "650:\tlearn: 35.4623805\ttotal: 2.58s\tremaining: 1.38s\n",
      "651:\tlearn: 35.4428004\ttotal: 2.59s\tremaining: 1.38s\n",
      "652:\tlearn: 35.3007158\ttotal: 2.59s\tremaining: 1.38s\n",
      "653:\tlearn: 35.1510309\ttotal: 2.6s\tremaining: 1.37s\n",
      "654:\tlearn: 35.1258328\ttotal: 2.6s\tremaining: 1.37s\n",
      "655:\tlearn: 35.0183795\ttotal: 2.6s\tremaining: 1.36s\n",
      "656:\tlearn: 34.9003271\ttotal: 2.61s\tremaining: 1.36s\n",
      "657:\tlearn: 34.7887445\ttotal: 2.61s\tremaining: 1.36s\n",
      "658:\tlearn: 34.6253676\ttotal: 2.62s\tremaining: 1.35s\n",
      "659:\tlearn: 34.5506116\ttotal: 2.62s\tremaining: 1.35s\n",
      "660:\tlearn: 34.4197699\ttotal: 2.63s\tremaining: 1.35s\n",
      "661:\tlearn: 34.3097495\ttotal: 2.63s\tremaining: 1.34s\n",
      "662:\tlearn: 34.1572027\ttotal: 2.63s\tremaining: 1.34s\n",
      "663:\tlearn: 34.1441284\ttotal: 2.64s\tremaining: 1.34s\n",
      "664:\tlearn: 34.0600732\ttotal: 2.65s\tremaining: 1.33s\n",
      "665:\tlearn: 34.0500587\ttotal: 2.65s\tremaining: 1.33s\n",
      "666:\tlearn: 33.9193340\ttotal: 2.65s\tremaining: 1.32s\n",
      "667:\tlearn: 33.7564013\ttotal: 2.65s\tremaining: 1.32s\n",
      "668:\tlearn: 33.6528749\ttotal: 2.66s\tremaining: 1.32s\n",
      "669:\tlearn: 33.5681199\ttotal: 2.66s\tremaining: 1.31s\n",
      "670:\tlearn: 33.4451433\ttotal: 2.67s\tremaining: 1.31s\n",
      "671:\tlearn: 33.3468901\ttotal: 2.67s\tremaining: 1.3s\n",
      "672:\tlearn: 33.2486282\ttotal: 2.68s\tremaining: 1.3s\n",
      "673:\tlearn: 33.2302888\ttotal: 2.68s\tremaining: 1.3s\n",
      "674:\tlearn: 33.0558859\ttotal: 2.68s\tremaining: 1.29s\n",
      "675:\tlearn: 32.9700344\ttotal: 2.69s\tremaining: 1.29s\n",
      "676:\tlearn: 32.8501642\ttotal: 2.69s\tremaining: 1.28s\n",
      "677:\tlearn: 32.7340426\ttotal: 2.7s\tremaining: 1.28s\n",
      "678:\tlearn: 32.7121017\ttotal: 2.7s\tremaining: 1.28s\n",
      "679:\tlearn: 32.6200569\ttotal: 2.71s\tremaining: 1.27s\n",
      "680:\tlearn: 32.5052371\ttotal: 2.71s\tremaining: 1.27s\n",
      "681:\tlearn: 32.3916969\ttotal: 2.71s\tremaining: 1.26s\n",
      "682:\tlearn: 32.2925704\ttotal: 2.71s\tremaining: 1.26s\n",
      "683:\tlearn: 32.1901836\ttotal: 2.72s\tremaining: 1.26s\n",
      "684:\tlearn: 32.1810795\ttotal: 2.72s\tremaining: 1.25s\n",
      "685:\tlearn: 32.0538798\ttotal: 2.73s\tremaining: 1.25s\n",
      "686:\tlearn: 31.9695880\ttotal: 2.73s\tremaining: 1.24s\n",
      "687:\tlearn: 31.8186240\ttotal: 2.74s\tremaining: 1.24s\n",
      "688:\tlearn: 31.7717776\ttotal: 2.74s\tremaining: 1.24s\n",
      "689:\tlearn: 31.6271069\ttotal: 2.74s\tremaining: 1.23s\n",
      "690:\tlearn: 31.4257754\ttotal: 2.75s\tremaining: 1.23s\n",
      "691:\tlearn: 31.3158018\ttotal: 2.75s\tremaining: 1.22s\n",
      "692:\tlearn: 31.2062456\ttotal: 2.76s\tremaining: 1.22s\n",
      "693:\tlearn: 31.1002943\ttotal: 2.76s\tremaining: 1.22s\n",
      "694:\tlearn: 31.0204694\ttotal: 2.77s\tremaining: 1.21s\n",
      "695:\tlearn: 30.8638326\ttotal: 2.77s\tremaining: 1.21s\n",
      "696:\tlearn: 30.8558418\ttotal: 2.77s\tremaining: 1.21s\n",
      "697:\tlearn: 30.7168233\ttotal: 2.78s\tremaining: 1.2s\n",
      "698:\tlearn: 30.6741149\ttotal: 2.78s\tremaining: 1.2s\n",
      "699:\tlearn: 30.5633505\ttotal: 2.79s\tremaining: 1.19s\n",
      "700:\tlearn: 30.3980151\ttotal: 2.79s\tremaining: 1.19s\n",
      "701:\tlearn: 30.3868882\ttotal: 2.8s\tremaining: 1.19s\n",
      "702:\tlearn: 30.3095110\ttotal: 2.8s\tremaining: 1.18s\n",
      "703:\tlearn: 30.2001626\ttotal: 2.81s\tremaining: 1.18s\n",
      "704:\tlearn: 30.1086639\ttotal: 2.81s\tremaining: 1.18s\n",
      "705:\tlearn: 30.0062050\ttotal: 2.82s\tremaining: 1.17s\n",
      "706:\tlearn: 29.9366332\ttotal: 2.83s\tremaining: 1.17s\n",
      "707:\tlearn: 29.8514157\ttotal: 2.84s\tremaining: 1.17s\n",
      "708:\tlearn: 29.8410197\ttotal: 2.85s\tremaining: 1.17s\n",
      "709:\tlearn: 29.7691296\ttotal: 2.85s\tremaining: 1.17s\n",
      "710:\tlearn: 29.6347315\ttotal: 2.87s\tremaining: 1.17s\n",
      "711:\tlearn: 29.5690771\ttotal: 2.88s\tremaining: 1.17s\n",
      "712:\tlearn: 29.4717613\ttotal: 2.89s\tremaining: 1.16s\n",
      "713:\tlearn: 29.3453955\ttotal: 2.9s\tremaining: 1.16s\n",
      "714:\tlearn: 29.3183996\ttotal: 2.9s\tremaining: 1.16s\n",
      "715:\tlearn: 29.2357029\ttotal: 2.91s\tremaining: 1.15s\n",
      "716:\tlearn: 29.1493484\ttotal: 2.92s\tremaining: 1.15s\n",
      "717:\tlearn: 29.1412750\ttotal: 2.92s\tremaining: 1.15s\n",
      "718:\tlearn: 29.0633640\ttotal: 2.92s\tremaining: 1.14s\n",
      "719:\tlearn: 29.0063752\ttotal: 2.93s\tremaining: 1.14s\n",
      "720:\tlearn: 28.8895697\ttotal: 2.93s\tremaining: 1.13s\n",
      "721:\tlearn: 28.8127439\ttotal: 2.93s\tremaining: 1.13s\n",
      "722:\tlearn: 28.7979935\ttotal: 2.94s\tremaining: 1.13s\n",
      "723:\tlearn: 28.7730564\ttotal: 2.94s\tremaining: 1.12s\n",
      "724:\tlearn: 28.6841951\ttotal: 2.95s\tremaining: 1.12s\n",
      "725:\tlearn: 28.6192690\ttotal: 2.95s\tremaining: 1.11s\n",
      "726:\tlearn: 28.5382100\ttotal: 2.95s\tremaining: 1.11s\n",
      "727:\tlearn: 28.4124604\ttotal: 2.96s\tremaining: 1.1s\n",
      "728:\tlearn: 28.3992354\ttotal: 2.96s\tremaining: 1.1s\n",
      "729:\tlearn: 28.2458739\ttotal: 2.97s\tremaining: 1.1s\n",
      "730:\tlearn: 28.1698858\ttotal: 2.97s\tremaining: 1.09s\n",
      "731:\tlearn: 28.0857240\ttotal: 2.98s\tremaining: 1.09s\n",
      "732:\tlearn: 28.0631865\ttotal: 2.98s\tremaining: 1.08s\n",
      "733:\tlearn: 27.9617138\ttotal: 2.99s\tremaining: 1.08s\n",
      "734:\tlearn: 27.9296040\ttotal: 2.99s\tremaining: 1.08s\n",
      "735:\tlearn: 27.8714544\ttotal: 2.99s\tremaining: 1.07s\n",
      "736:\tlearn: 27.8468105\ttotal: 2.99s\tremaining: 1.07s\n",
      "737:\tlearn: 27.7605180\ttotal: 3s\tremaining: 1.06s\n",
      "738:\tlearn: 27.6731250\ttotal: 3s\tremaining: 1.06s\n",
      "739:\tlearn: 27.6662586\ttotal: 3s\tremaining: 1.05s\n",
      "740:\tlearn: 27.6319100\ttotal: 3.01s\tremaining: 1.05s\n",
      "741:\tlearn: 27.5465757\ttotal: 3.01s\tremaining: 1.05s\n",
      "742:\tlearn: 27.4710735\ttotal: 3.02s\tremaining: 1.04s\n",
      "743:\tlearn: 27.4510659\ttotal: 3.02s\tremaining: 1.04s\n",
      "744:\tlearn: 27.3748617\ttotal: 3.02s\tremaining: 1.03s\n",
      "745:\tlearn: 27.3633452\ttotal: 3.03s\tremaining: 1.03s\n",
      "746:\tlearn: 27.2959571\ttotal: 3.03s\tremaining: 1.03s\n",
      "747:\tlearn: 27.1315947\ttotal: 3.04s\tremaining: 1.02s\n",
      "748:\tlearn: 27.0550248\ttotal: 3.04s\tremaining: 1.02s\n",
      "749:\tlearn: 27.0373435\ttotal: 3.05s\tremaining: 1.02s\n",
      "750:\tlearn: 26.9726665\ttotal: 3.05s\tremaining: 1.01s\n",
      "751:\tlearn: 26.9145554\ttotal: 3.06s\tremaining: 1.01s\n",
      "752:\tlearn: 26.8976495\ttotal: 3.06s\tremaining: 1s\n",
      "753:\tlearn: 26.8013163\ttotal: 3.07s\tremaining: 1s\n",
      "754:\tlearn: 26.7203712\ttotal: 3.07s\tremaining: 996ms\n",
      "755:\tlearn: 26.5829005\ttotal: 3.07s\tremaining: 992ms\n",
      "756:\tlearn: 26.4324310\ttotal: 3.08s\tremaining: 988ms\n",
      "757:\tlearn: 26.2890218\ttotal: 3.08s\tremaining: 984ms\n",
      "758:\tlearn: 26.1965245\ttotal: 3.08s\tremaining: 979ms\n",
      "759:\tlearn: 26.1810870\ttotal: 3.08s\tremaining: 974ms\n",
      "760:\tlearn: 26.1187072\ttotal: 3.09s\tremaining: 972ms\n",
      "761:\tlearn: 26.0637705\ttotal: 3.1s\tremaining: 969ms\n",
      "762:\tlearn: 25.9562461\ttotal: 3.11s\tremaining: 966ms\n",
      "763:\tlearn: 25.8386943\ttotal: 3.12s\tremaining: 963ms\n",
      "764:\tlearn: 25.7790725\ttotal: 3.12s\tremaining: 959ms\n",
      "765:\tlearn: 25.6701106\ttotal: 3.12s\tremaining: 954ms\n",
      "766:\tlearn: 25.6362119\ttotal: 3.13s\tremaining: 950ms\n",
      "767:\tlearn: 25.6252040\ttotal: 3.13s\tremaining: 946ms\n",
      "768:\tlearn: 25.5249470\ttotal: 3.13s\tremaining: 941ms\n",
      "769:\tlearn: 25.4610308\ttotal: 3.14s\tremaining: 938ms\n",
      "770:\tlearn: 25.3338917\ttotal: 3.14s\tremaining: 933ms\n",
      "771:\tlearn: 25.2081591\ttotal: 3.14s\tremaining: 929ms\n",
      "772:\tlearn: 25.1976317\ttotal: 3.15s\tremaining: 925ms\n",
      "773:\tlearn: 25.1309682\ttotal: 3.16s\tremaining: 923ms\n",
      "774:\tlearn: 25.0198547\ttotal: 3.16s\tremaining: 918ms\n",
      "775:\tlearn: 24.9490229\ttotal: 3.16s\tremaining: 914ms\n",
      "776:\tlearn: 24.9028200\ttotal: 3.17s\tremaining: 910ms\n",
      "777:\tlearn: 24.8337886\ttotal: 3.18s\tremaining: 906ms\n",
      "778:\tlearn: 24.7433955\ttotal: 3.18s\tremaining: 902ms\n",
      "779:\tlearn: 24.6167855\ttotal: 3.18s\tremaining: 898ms\n",
      "780:\tlearn: 24.5516424\ttotal: 3.19s\tremaining: 894ms\n",
      "781:\tlearn: 24.3925316\ttotal: 3.19s\tremaining: 890ms\n",
      "782:\tlearn: 24.3473598\ttotal: 3.2s\tremaining: 887ms\n",
      "783:\tlearn: 24.2382596\ttotal: 3.21s\tremaining: 883ms\n",
      "784:\tlearn: 24.1741117\ttotal: 3.21s\tremaining: 879ms\n",
      "785:\tlearn: 24.1282632\ttotal: 3.21s\tremaining: 874ms\n",
      "786:\tlearn: 24.1150038\ttotal: 3.22s\tremaining: 871ms\n",
      "787:\tlearn: 24.0552315\ttotal: 3.22s\tremaining: 866ms\n",
      "788:\tlearn: 24.0020307\ttotal: 3.22s\tremaining: 862ms\n",
      "789:\tlearn: 23.9582172\ttotal: 3.23s\tremaining: 858ms\n",
      "790:\tlearn: 23.9466945\ttotal: 3.23s\tremaining: 854ms\n",
      "791:\tlearn: 23.9012494\ttotal: 3.24s\tremaining: 850ms\n",
      "792:\tlearn: 23.8902062\ttotal: 3.24s\tremaining: 846ms\n",
      "793:\tlearn: 23.8375677\ttotal: 3.25s\tremaining: 842ms\n",
      "794:\tlearn: 23.8275049\ttotal: 3.25s\tremaining: 838ms\n",
      "795:\tlearn: 23.7639978\ttotal: 3.25s\tremaining: 833ms\n",
      "796:\tlearn: 23.7210385\ttotal: 3.26s\tremaining: 830ms\n",
      "797:\tlearn: 23.7118867\ttotal: 3.26s\tremaining: 826ms\n",
      "798:\tlearn: 23.6210770\ttotal: 3.27s\tremaining: 823ms\n",
      "799:\tlearn: 23.5667973\ttotal: 3.27s\tremaining: 818ms\n",
      "800:\tlearn: 23.5093551\ttotal: 3.28s\tremaining: 814ms\n",
      "801:\tlearn: 23.4248240\ttotal: 3.28s\tremaining: 810ms\n",
      "802:\tlearn: 23.3851975\ttotal: 3.28s\tremaining: 806ms\n",
      "803:\tlearn: 23.2576151\ttotal: 3.29s\tremaining: 801ms\n",
      "804:\tlearn: 23.1403284\ttotal: 3.29s\tremaining: 798ms\n",
      "805:\tlearn: 23.0861220\ttotal: 3.3s\tremaining: 793ms\n",
      "806:\tlearn: 23.0179965\ttotal: 3.3s\tremaining: 789ms\n",
      "807:\tlearn: 22.9499510\ttotal: 3.3s\tremaining: 785ms\n",
      "808:\tlearn: 22.9093322\ttotal: 3.31s\tremaining: 780ms\n",
      "809:\tlearn: 22.8749288\ttotal: 3.31s\tremaining: 777ms\n",
      "810:\tlearn: 22.8082947\ttotal: 3.31s\tremaining: 772ms\n",
      "811:\tlearn: 22.7734708\ttotal: 3.31s\tremaining: 768ms\n",
      "812:\tlearn: 22.6526692\ttotal: 3.32s\tremaining: 763ms\n",
      "813:\tlearn: 22.5530242\ttotal: 3.32s\tremaining: 759ms\n",
      "814:\tlearn: 22.4717488\ttotal: 3.33s\tremaining: 756ms\n",
      "815:\tlearn: 22.4620780\ttotal: 3.33s\tremaining: 751ms\n",
      "816:\tlearn: 22.4023061\ttotal: 3.33s\tremaining: 747ms\n",
      "817:\tlearn: 22.3578971\ttotal: 3.33s\tremaining: 742ms\n",
      "818:\tlearn: 22.3087689\ttotal: 3.34s\tremaining: 738ms\n",
      "819:\tlearn: 22.3046658\ttotal: 3.35s\tremaining: 734ms\n",
      "820:\tlearn: 22.2330663\ttotal: 3.35s\tremaining: 730ms\n",
      "821:\tlearn: 22.1591095\ttotal: 3.35s\tremaining: 725ms\n",
      "822:\tlearn: 22.1550239\ttotal: 3.35s\tremaining: 721ms\n",
      "823:\tlearn: 22.1463899\ttotal: 3.35s\tremaining: 716ms\n",
      "824:\tlearn: 22.1315815\ttotal: 3.36s\tremaining: 714ms\n",
      "825:\tlearn: 22.0652590\ttotal: 3.37s\tremaining: 709ms\n",
      "826:\tlearn: 22.0221121\ttotal: 3.37s\tremaining: 705ms\n",
      "827:\tlearn: 21.9774501\ttotal: 3.38s\tremaining: 702ms\n",
      "828:\tlearn: 21.9395292\ttotal: 3.39s\tremaining: 699ms\n",
      "829:\tlearn: 21.8508549\ttotal: 3.39s\tremaining: 695ms\n",
      "830:\tlearn: 21.8190935\ttotal: 3.4s\tremaining: 691ms\n",
      "831:\tlearn: 21.8109670\ttotal: 3.4s\tremaining: 687ms\n",
      "832:\tlearn: 21.7578310\ttotal: 3.41s\tremaining: 684ms\n",
      "833:\tlearn: 21.6862934\ttotal: 3.42s\tremaining: 681ms\n",
      "834:\tlearn: 21.6036840\ttotal: 3.42s\tremaining: 677ms\n",
      "835:\tlearn: 21.5099448\ttotal: 3.43s\tremaining: 674ms\n",
      "836:\tlearn: 21.4677400\ttotal: 3.44s\tremaining: 670ms\n",
      "837:\tlearn: 21.4091690\ttotal: 3.45s\tremaining: 667ms\n",
      "838:\tlearn: 21.3466938\ttotal: 3.45s\tremaining: 662ms\n",
      "839:\tlearn: 21.2298144\ttotal: 3.46s\tremaining: 658ms\n",
      "840:\tlearn: 21.1270373\ttotal: 3.46s\tremaining: 654ms\n",
      "841:\tlearn: 21.0373314\ttotal: 3.46s\tremaining: 650ms\n",
      "842:\tlearn: 20.9835159\ttotal: 3.46s\tremaining: 645ms\n",
      "843:\tlearn: 20.8484600\ttotal: 3.47s\tremaining: 641ms\n",
      "844:\tlearn: 20.7891557\ttotal: 3.47s\tremaining: 637ms\n",
      "845:\tlearn: 20.7291399\ttotal: 3.48s\tremaining: 633ms\n",
      "846:\tlearn: 20.6849494\ttotal: 3.48s\tremaining: 628ms\n",
      "847:\tlearn: 20.6154963\ttotal: 3.49s\tremaining: 625ms\n",
      "848:\tlearn: 20.5405276\ttotal: 3.49s\tremaining: 621ms\n",
      "849:\tlearn: 20.5016669\ttotal: 3.49s\tremaining: 617ms\n",
      "850:\tlearn: 20.4700003\ttotal: 3.5s\tremaining: 612ms\n",
      "851:\tlearn: 20.4163286\ttotal: 3.5s\tremaining: 608ms\n",
      "852:\tlearn: 20.3832418\ttotal: 3.5s\tremaining: 604ms\n",
      "853:\tlearn: 20.3012184\ttotal: 3.51s\tremaining: 599ms\n",
      "854:\tlearn: 20.2920333\ttotal: 3.51s\tremaining: 595ms\n",
      "855:\tlearn: 20.2053869\ttotal: 3.51s\tremaining: 591ms\n",
      "856:\tlearn: 20.1658977\ttotal: 3.51s\tremaining: 586ms\n",
      "857:\tlearn: 20.1100216\ttotal: 3.52s\tremaining: 582ms\n",
      "858:\tlearn: 20.0083729\ttotal: 3.52s\tremaining: 578ms\n",
      "859:\tlearn: 19.9455311\ttotal: 3.52s\tremaining: 573ms\n",
      "860:\tlearn: 19.8796059\ttotal: 3.52s\tremaining: 569ms\n",
      "861:\tlearn: 19.8565398\ttotal: 3.53s\tremaining: 564ms\n",
      "862:\tlearn: 19.7320152\ttotal: 3.54s\tremaining: 562ms\n",
      "863:\tlearn: 19.6553629\ttotal: 3.54s\tremaining: 557ms\n",
      "864:\tlearn: 19.5653904\ttotal: 3.54s\tremaining: 553ms\n",
      "865:\tlearn: 19.5044019\ttotal: 3.55s\tremaining: 549ms\n",
      "866:\tlearn: 19.4952821\ttotal: 3.55s\tremaining: 545ms\n",
      "867:\tlearn: 19.4417196\ttotal: 3.56s\tremaining: 541ms\n",
      "868:\tlearn: 19.3928280\ttotal: 3.56s\tremaining: 537ms\n",
      "869:\tlearn: 19.3310543\ttotal: 3.56s\tremaining: 532ms\n",
      "870:\tlearn: 19.2860856\ttotal: 3.56s\tremaining: 528ms\n",
      "871:\tlearn: 19.1689820\ttotal: 3.57s\tremaining: 524ms\n",
      "872:\tlearn: 19.0656586\ttotal: 3.57s\tremaining: 519ms\n",
      "873:\tlearn: 19.0585347\ttotal: 3.57s\tremaining: 515ms\n",
      "874:\tlearn: 19.0124418\ttotal: 3.58s\tremaining: 511ms\n",
      "875:\tlearn: 18.9798186\ttotal: 3.58s\tremaining: 507ms\n",
      "876:\tlearn: 18.8896499\ttotal: 3.58s\tremaining: 502ms\n",
      "877:\tlearn: 18.8379639\ttotal: 3.58s\tremaining: 498ms\n",
      "878:\tlearn: 18.8312106\ttotal: 3.58s\tremaining: 494ms\n",
      "879:\tlearn: 18.7718969\ttotal: 3.59s\tremaining: 489ms\n",
      "880:\tlearn: 18.7453473\ttotal: 3.59s\tremaining: 485ms\n",
      "881:\tlearn: 18.6851317\ttotal: 3.6s\tremaining: 481ms\n",
      "882:\tlearn: 18.5988650\ttotal: 3.6s\tremaining: 477ms\n",
      "883:\tlearn: 18.5525116\ttotal: 3.6s\tremaining: 472ms\n",
      "884:\tlearn: 18.4964362\ttotal: 3.6s\tremaining: 468ms\n",
      "885:\tlearn: 18.4542378\ttotal: 3.61s\tremaining: 465ms\n",
      "886:\tlearn: 18.4053368\ttotal: 3.62s\tremaining: 461ms\n",
      "887:\tlearn: 18.3676513\ttotal: 3.62s\tremaining: 457ms\n",
      "888:\tlearn: 18.3048839\ttotal: 3.63s\tremaining: 453ms\n",
      "889:\tlearn: 18.2501678\ttotal: 3.63s\tremaining: 449ms\n",
      "890:\tlearn: 18.2421410\ttotal: 3.64s\tremaining: 445ms\n",
      "891:\tlearn: 18.1820355\ttotal: 3.64s\tremaining: 441ms\n",
      "892:\tlearn: 18.1045997\ttotal: 3.65s\tremaining: 437ms\n",
      "893:\tlearn: 18.0516539\ttotal: 3.65s\tremaining: 432ms\n",
      "894:\tlearn: 17.9507407\ttotal: 3.65s\tremaining: 428ms\n",
      "895:\tlearn: 17.8656394\ttotal: 3.66s\tremaining: 424ms\n",
      "896:\tlearn: 17.8130004\ttotal: 3.66s\tremaining: 420ms\n",
      "897:\tlearn: 17.8056685\ttotal: 3.66s\tremaining: 416ms\n",
      "898:\tlearn: 17.7479301\ttotal: 3.66s\tremaining: 412ms\n",
      "899:\tlearn: 17.6628775\ttotal: 3.67s\tremaining: 408ms\n",
      "900:\tlearn: 17.6036263\ttotal: 3.67s\tremaining: 404ms\n",
      "901:\tlearn: 17.5548725\ttotal: 3.68s\tremaining: 400ms\n",
      "902:\tlearn: 17.5112982\ttotal: 3.68s\tremaining: 395ms\n",
      "903:\tlearn: 17.4337097\ttotal: 3.68s\tremaining: 391ms\n",
      "904:\tlearn: 17.3438812\ttotal: 3.69s\tremaining: 387ms\n",
      "905:\tlearn: 17.2978952\ttotal: 3.69s\tremaining: 383ms\n",
      "906:\tlearn: 17.2705120\ttotal: 3.69s\tremaining: 379ms\n",
      "907:\tlearn: 17.2197843\ttotal: 3.69s\tremaining: 374ms\n",
      "908:\tlearn: 17.1672918\ttotal: 3.7s\tremaining: 371ms\n",
      "909:\tlearn: 17.0962813\ttotal: 3.71s\tremaining: 366ms\n",
      "910:\tlearn: 17.0367884\ttotal: 3.71s\tremaining: 362ms\n",
      "911:\tlearn: 16.9995434\ttotal: 3.71s\tremaining: 358ms\n",
      "912:\tlearn: 16.9503108\ttotal: 3.71s\tremaining: 354ms\n",
      "913:\tlearn: 16.8634821\ttotal: 3.72s\tremaining: 350ms\n",
      "914:\tlearn: 16.8562342\ttotal: 3.72s\tremaining: 346ms\n",
      "915:\tlearn: 16.8266675\ttotal: 3.72s\tremaining: 341ms\n",
      "916:\tlearn: 16.8202756\ttotal: 3.73s\tremaining: 337ms\n",
      "917:\tlearn: 16.8140117\ttotal: 3.73s\tremaining: 333ms\n",
      "918:\tlearn: 16.7657793\ttotal: 3.73s\tremaining: 329ms\n",
      "919:\tlearn: 16.7455489\ttotal: 3.74s\tremaining: 325ms\n",
      "920:\tlearn: 16.7350234\ttotal: 3.74s\tremaining: 321ms\n",
      "921:\tlearn: 16.6764784\ttotal: 3.75s\tremaining: 317ms\n",
      "922:\tlearn: 16.6413683\ttotal: 3.75s\tremaining: 313ms\n",
      "923:\tlearn: 16.6313216\ttotal: 3.75s\tremaining: 309ms\n",
      "924:\tlearn: 16.5737890\ttotal: 3.75s\tremaining: 304ms\n",
      "925:\tlearn: 16.5612564\ttotal: 3.76s\tremaining: 300ms\n",
      "926:\tlearn: 16.5194103\ttotal: 3.76s\tremaining: 296ms\n",
      "927:\tlearn: 16.4774875\ttotal: 3.76s\tremaining: 292ms\n",
      "928:\tlearn: 16.4716862\ttotal: 3.77s\tremaining: 288ms\n",
      "929:\tlearn: 16.4373752\ttotal: 3.77s\tremaining: 284ms\n",
      "930:\tlearn: 16.4285377\ttotal: 3.77s\tremaining: 279ms\n",
      "931:\tlearn: 16.3673869\ttotal: 3.77s\tremaining: 275ms\n",
      "932:\tlearn: 16.3185470\ttotal: 3.78s\tremaining: 271ms\n",
      "933:\tlearn: 16.2631467\ttotal: 3.78s\tremaining: 267ms\n",
      "934:\tlearn: 16.1934975\ttotal: 3.79s\tremaining: 263ms\n",
      "935:\tlearn: 16.1884481\ttotal: 3.79s\tremaining: 260ms\n",
      "936:\tlearn: 16.1500024\ttotal: 3.8s\tremaining: 255ms\n",
      "937:\tlearn: 16.1409804\ttotal: 3.8s\tremaining: 251ms\n",
      "938:\tlearn: 16.0683587\ttotal: 3.8s\tremaining: 247ms\n",
      "939:\tlearn: 15.9809030\ttotal: 3.81s\tremaining: 243ms\n",
      "940:\tlearn: 15.8978202\ttotal: 3.81s\tremaining: 239ms\n",
      "941:\tlearn: 15.8709900\ttotal: 3.81s\tremaining: 235ms\n",
      "942:\tlearn: 15.8344018\ttotal: 3.82s\tremaining: 231ms\n",
      "943:\tlearn: 15.8295482\ttotal: 3.82s\tremaining: 227ms\n",
      "944:\tlearn: 15.7744973\ttotal: 3.82s\tremaining: 222ms\n",
      "945:\tlearn: 15.7305450\ttotal: 3.83s\tremaining: 218ms\n",
      "946:\tlearn: 15.6857434\ttotal: 3.83s\tremaining: 214ms\n",
      "947:\tlearn: 15.6591016\ttotal: 3.83s\tremaining: 210ms\n",
      "948:\tlearn: 15.6314256\ttotal: 3.83s\tremaining: 206ms\n",
      "949:\tlearn: 15.5788777\ttotal: 3.84s\tremaining: 202ms\n",
      "950:\tlearn: 15.5325554\ttotal: 3.84s\tremaining: 198ms\n",
      "951:\tlearn: 15.4890930\ttotal: 3.84s\tremaining: 194ms\n",
      "952:\tlearn: 15.4263779\ttotal: 3.85s\tremaining: 190ms\n",
      "953:\tlearn: 15.3892307\ttotal: 3.86s\tremaining: 186ms\n",
      "954:\tlearn: 15.3531641\ttotal: 3.86s\tremaining: 182ms\n",
      "955:\tlearn: 15.3172544\ttotal: 3.87s\tremaining: 178ms\n",
      "956:\tlearn: 15.2722481\ttotal: 3.87s\tremaining: 174ms\n",
      "957:\tlearn: 15.2509946\ttotal: 3.87s\tremaining: 170ms\n",
      "958:\tlearn: 15.2106080\ttotal: 3.87s\tremaining: 166ms\n",
      "959:\tlearn: 15.1550705\ttotal: 3.88s\tremaining: 162ms\n",
      "960:\tlearn: 15.1198927\ttotal: 3.88s\tremaining: 157ms\n",
      "961:\tlearn: 15.0521121\ttotal: 3.88s\tremaining: 153ms\n",
      "962:\tlearn: 15.0138282\ttotal: 3.89s\tremaining: 149ms\n",
      "963:\tlearn: 14.9511473\ttotal: 3.89s\tremaining: 145ms\n",
      "964:\tlearn: 14.9013556\ttotal: 3.89s\tremaining: 141ms\n",
      "965:\tlearn: 14.8491591\ttotal: 3.9s\tremaining: 137ms\n",
      "966:\tlearn: 14.7846364\ttotal: 3.9s\tremaining: 133ms\n",
      "967:\tlearn: 14.7378076\ttotal: 3.9s\tremaining: 129ms\n",
      "968:\tlearn: 14.6963646\ttotal: 3.91s\tremaining: 125ms\n",
      "969:\tlearn: 14.6368320\ttotal: 3.91s\tremaining: 121ms\n",
      "970:\tlearn: 14.5641432\ttotal: 3.92s\tremaining: 117ms\n",
      "971:\tlearn: 14.5009366\ttotal: 3.92s\tremaining: 113ms\n",
      "972:\tlearn: 14.4934257\ttotal: 3.92s\tremaining: 109ms\n",
      "973:\tlearn: 14.4521224\ttotal: 3.92s\tremaining: 105ms\n",
      "974:\tlearn: 14.4111253\ttotal: 3.93s\tremaining: 101ms\n",
      "975:\tlearn: 14.3698632\ttotal: 3.93s\tremaining: 96.7ms\n",
      "976:\tlearn: 14.3591191\ttotal: 3.93s\tremaining: 92.6ms\n",
      "977:\tlearn: 14.3269189\ttotal: 3.94s\tremaining: 88.5ms\n",
      "978:\tlearn: 14.2789397\ttotal: 3.94s\tremaining: 84.5ms\n",
      "979:\tlearn: 14.2216384\ttotal: 3.94s\tremaining: 80.4ms\n",
      "980:\tlearn: 14.1751644\ttotal: 3.94s\tremaining: 76.4ms\n",
      "981:\tlearn: 14.1256092\ttotal: 3.95s\tremaining: 72.4ms\n",
      "982:\tlearn: 14.0731502\ttotal: 3.95s\tremaining: 68.4ms\n",
      "983:\tlearn: 14.0117995\ttotal: 3.95s\tremaining: 64.3ms\n",
      "984:\tlearn: 13.9841830\ttotal: 3.96s\tremaining: 60.3ms\n",
      "985:\tlearn: 13.9230955\ttotal: 3.96s\tremaining: 56.3ms\n",
      "986:\tlearn: 13.8746811\ttotal: 3.96s\tremaining: 52.2ms\n",
      "987:\tlearn: 13.8092980\ttotal: 3.97s\tremaining: 48.2ms\n",
      "988:\tlearn: 13.7921958\ttotal: 3.97s\tremaining: 44.2ms\n",
      "989:\tlearn: 13.7424480\ttotal: 3.97s\tremaining: 40.1ms\n",
      "990:\tlearn: 13.6967360\ttotal: 3.98s\tremaining: 36.2ms\n",
      "991:\tlearn: 13.6709582\ttotal: 3.99s\tremaining: 32.2ms\n",
      "992:\tlearn: 13.6094706\ttotal: 3.99s\tremaining: 28.1ms\n",
      "993:\tlearn: 13.5641205\ttotal: 4s\tremaining: 24.1ms\n",
      "994:\tlearn: 13.5192775\ttotal: 4s\tremaining: 20.1ms\n",
      "995:\tlearn: 13.4902451\ttotal: 4s\tremaining: 16.1ms\n",
      "996:\tlearn: 13.4806052\ttotal: 4s\tremaining: 12.1ms\n",
      "997:\tlearn: 13.4282445\ttotal: 4.01s\tremaining: 8.04ms\n",
      "998:\tlearn: 13.4020177\ttotal: 4.01s\tremaining: 4.01ms\n",
      "999:\tlearn: 13.3781902\ttotal: 4.01s\tremaining: 0us\n"
     ]
    }
   ],
   "source": [
    "catb = CatBoostRegressor()\n",
    "catb_model = catb.fit(X_train, y_train)\n",
    "#parametre girmeden model kurm aişlemi gerçekleştirildi. Çalışma dizinine catboost_info adlı klasör oluşturuldu"
   ]
  },
  {
   "cell_type": "markdown",
   "metadata": {},
   "source": [
    "## Tahmin"
   ]
  },
  {
   "cell_type": "code",
   "execution_count": 214,
   "metadata": {},
   "outputs": [
    {
     "data": {
      "text/plain": [
       "350.2683163098795"
      ]
     },
     "execution_count": 214,
     "metadata": {},
     "output_type": "execute_result"
    }
   ],
   "source": [
    "y_pred = catb_model.predict(X_test)\n",
    "np.sqrt(mean_squared_error(y_test, y_pred))\n",
    "#ilkel test performansı"
   ]
  },
  {
   "cell_type": "markdown",
   "metadata": {},
   "source": [
    "## Model Tuning"
   ]
  },
  {
   "cell_type": "code",
   "execution_count": 216,
   "metadata": {},
   "outputs": [],
   "source": [
    "catb_grid = {\n",
    "    'iterations': [200,500,1000,2000],\n",
    "    'learning_rate': [0.01, 0.03, 0.05, 0.1],\n",
    "    'depth': [3,4,5,6,7,8] }\n",
    "\n",
    "#grid oluştururken parametreleri giriyoruz devamında en iyisini bulup final tune edilmiş modelimizi oluşturup değerleri inceleyeceğiz."
   ]
  },
  {
   "cell_type": "code",
   "execution_count": 217,
   "metadata": {},
   "outputs": [],
   "source": [
    "catb = CatBoostRegressor()\n",
    "catb_cv_model = GridSearchCV(catb, catb_grid, cv=5, n_jobs = -1, verbose = 2)"
   ]
  },
  {
   "cell_type": "code",
   "execution_count": 218,
   "metadata": {
    "collapsed": true,
    "jupyter": {
     "outputs_hidden": true
    }
   },
   "outputs": [
    {
     "name": "stdout",
     "output_type": "stream",
     "text": [
      "Fitting 5 folds for each of 96 candidates, totalling 480 fits\n"
     ]
    },
    {
     "name": "stderr",
     "output_type": "stream",
     "text": [
      "[Parallel(n_jobs=-1)]: Using backend LokyBackend with 4 concurrent workers.\n",
      "[Parallel(n_jobs=-1)]: Done  33 tasks      | elapsed:   13.0s\n"
     ]
    },
    {
     "ename": "KeyboardInterrupt",
     "evalue": "",
     "output_type": "error",
     "traceback": [
      "\u001b[0;31m---------------------------------------------------------------------------\u001b[0m",
      "\u001b[0;31mKeyboardInterrupt\u001b[0m                         Traceback (most recent call last)",
      "\u001b[0;32m<ipython-input-218-00822aa98d16>\u001b[0m in \u001b[0;36m<module>\u001b[0;34m\u001b[0m\n\u001b[0;32m----> 1\u001b[0;31m \u001b[0mcatb_cv_model\u001b[0m\u001b[0;34m.\u001b[0m\u001b[0mfit\u001b[0m\u001b[0;34m(\u001b[0m\u001b[0mX_train\u001b[0m\u001b[0;34m,\u001b[0m \u001b[0my_train\u001b[0m\u001b[0;34m)\u001b[0m\u001b[0;34m\u001b[0m\u001b[0;34m\u001b[0m\u001b[0m\n\u001b[0m",
      "\u001b[0;32m~/anaconda3/lib/python3.7/site-packages/sklearn/utils/validation.py\u001b[0m in \u001b[0;36minner_f\u001b[0;34m(*args, **kwargs)\u001b[0m\n\u001b[1;32m     70\u001b[0m                           FutureWarning)\n\u001b[1;32m     71\u001b[0m         \u001b[0mkwargs\u001b[0m\u001b[0;34m.\u001b[0m\u001b[0mupdate\u001b[0m\u001b[0;34m(\u001b[0m\u001b[0;34m{\u001b[0m\u001b[0mk\u001b[0m\u001b[0;34m:\u001b[0m \u001b[0marg\u001b[0m \u001b[0;32mfor\u001b[0m \u001b[0mk\u001b[0m\u001b[0;34m,\u001b[0m \u001b[0marg\u001b[0m \u001b[0;32min\u001b[0m \u001b[0mzip\u001b[0m\u001b[0;34m(\u001b[0m\u001b[0msig\u001b[0m\u001b[0;34m.\u001b[0m\u001b[0mparameters\u001b[0m\u001b[0;34m,\u001b[0m \u001b[0margs\u001b[0m\u001b[0;34m)\u001b[0m\u001b[0;34m}\u001b[0m\u001b[0;34m)\u001b[0m\u001b[0;34m\u001b[0m\u001b[0;34m\u001b[0m\u001b[0m\n\u001b[0;32m---> 72\u001b[0;31m         \u001b[0;32mreturn\u001b[0m \u001b[0mf\u001b[0m\u001b[0;34m(\u001b[0m\u001b[0;34m**\u001b[0m\u001b[0mkwargs\u001b[0m\u001b[0;34m)\u001b[0m\u001b[0;34m\u001b[0m\u001b[0;34m\u001b[0m\u001b[0m\n\u001b[0m\u001b[1;32m     73\u001b[0m     \u001b[0;32mreturn\u001b[0m \u001b[0minner_f\u001b[0m\u001b[0;34m\u001b[0m\u001b[0;34m\u001b[0m\u001b[0m\n\u001b[1;32m     74\u001b[0m \u001b[0;34m\u001b[0m\u001b[0m\n",
      "\u001b[0;32m~/anaconda3/lib/python3.7/site-packages/sklearn/model_selection/_search.py\u001b[0m in \u001b[0;36mfit\u001b[0;34m(self, X, y, groups, **fit_params)\u001b[0m\n\u001b[1;32m    734\u001b[0m                 \u001b[0;32mreturn\u001b[0m \u001b[0mresults\u001b[0m\u001b[0;34m\u001b[0m\u001b[0;34m\u001b[0m\u001b[0m\n\u001b[1;32m    735\u001b[0m \u001b[0;34m\u001b[0m\u001b[0m\n\u001b[0;32m--> 736\u001b[0;31m             \u001b[0mself\u001b[0m\u001b[0;34m.\u001b[0m\u001b[0m_run_search\u001b[0m\u001b[0;34m(\u001b[0m\u001b[0mevaluate_candidates\u001b[0m\u001b[0;34m)\u001b[0m\u001b[0;34m\u001b[0m\u001b[0;34m\u001b[0m\u001b[0m\n\u001b[0m\u001b[1;32m    737\u001b[0m \u001b[0;34m\u001b[0m\u001b[0m\n\u001b[1;32m    738\u001b[0m         \u001b[0;31m# For multi-metric evaluation, store the best_index_, best_params_ and\u001b[0m\u001b[0;34m\u001b[0m\u001b[0;34m\u001b[0m\u001b[0;34m\u001b[0m\u001b[0m\n",
      "\u001b[0;32m~/anaconda3/lib/python3.7/site-packages/sklearn/model_selection/_search.py\u001b[0m in \u001b[0;36m_run_search\u001b[0;34m(self, evaluate_candidates)\u001b[0m\n\u001b[1;32m   1186\u001b[0m     \u001b[0;32mdef\u001b[0m \u001b[0m_run_search\u001b[0m\u001b[0;34m(\u001b[0m\u001b[0mself\u001b[0m\u001b[0;34m,\u001b[0m \u001b[0mevaluate_candidates\u001b[0m\u001b[0;34m)\u001b[0m\u001b[0;34m:\u001b[0m\u001b[0;34m\u001b[0m\u001b[0;34m\u001b[0m\u001b[0m\n\u001b[1;32m   1187\u001b[0m         \u001b[0;34m\"\"\"Search all candidates in param_grid\"\"\"\u001b[0m\u001b[0;34m\u001b[0m\u001b[0;34m\u001b[0m\u001b[0m\n\u001b[0;32m-> 1188\u001b[0;31m         \u001b[0mevaluate_candidates\u001b[0m\u001b[0;34m(\u001b[0m\u001b[0mParameterGrid\u001b[0m\u001b[0;34m(\u001b[0m\u001b[0mself\u001b[0m\u001b[0;34m.\u001b[0m\u001b[0mparam_grid\u001b[0m\u001b[0;34m)\u001b[0m\u001b[0;34m)\u001b[0m\u001b[0;34m\u001b[0m\u001b[0;34m\u001b[0m\u001b[0m\n\u001b[0m\u001b[1;32m   1189\u001b[0m \u001b[0;34m\u001b[0m\u001b[0m\n\u001b[1;32m   1190\u001b[0m \u001b[0;34m\u001b[0m\u001b[0m\n",
      "\u001b[0;32m~/anaconda3/lib/python3.7/site-packages/sklearn/model_selection/_search.py\u001b[0m in \u001b[0;36mevaluate_candidates\u001b[0;34m(candidate_params)\u001b[0m\n\u001b[1;32m    713\u001b[0m                                \u001b[0;32mfor\u001b[0m \u001b[0mparameters\u001b[0m\u001b[0;34m,\u001b[0m \u001b[0;34m(\u001b[0m\u001b[0mtrain\u001b[0m\u001b[0;34m,\u001b[0m \u001b[0mtest\u001b[0m\u001b[0;34m)\u001b[0m\u001b[0;34m\u001b[0m\u001b[0;34m\u001b[0m\u001b[0m\n\u001b[1;32m    714\u001b[0m                                in product(candidate_params,\n\u001b[0;32m--> 715\u001b[0;31m                                           cv.split(X, y, groups)))\n\u001b[0m\u001b[1;32m    716\u001b[0m \u001b[0;34m\u001b[0m\u001b[0m\n\u001b[1;32m    717\u001b[0m                 \u001b[0;32mif\u001b[0m \u001b[0mlen\u001b[0m\u001b[0;34m(\u001b[0m\u001b[0mout\u001b[0m\u001b[0;34m)\u001b[0m \u001b[0;34m<\u001b[0m \u001b[0;36m1\u001b[0m\u001b[0;34m:\u001b[0m\u001b[0;34m\u001b[0m\u001b[0;34m\u001b[0m\u001b[0m\n",
      "\u001b[0;32m~/anaconda3/lib/python3.7/site-packages/joblib/parallel.py\u001b[0m in \u001b[0;36m__call__\u001b[0;34m(self, iterable)\u001b[0m\n\u001b[1;32m   1052\u001b[0m \u001b[0;34m\u001b[0m\u001b[0m\n\u001b[1;32m   1053\u001b[0m             \u001b[0;32mwith\u001b[0m \u001b[0mself\u001b[0m\u001b[0;34m.\u001b[0m\u001b[0m_backend\u001b[0m\u001b[0;34m.\u001b[0m\u001b[0mretrieval_context\u001b[0m\u001b[0;34m(\u001b[0m\u001b[0;34m)\u001b[0m\u001b[0;34m:\u001b[0m\u001b[0;34m\u001b[0m\u001b[0;34m\u001b[0m\u001b[0m\n\u001b[0;32m-> 1054\u001b[0;31m                 \u001b[0mself\u001b[0m\u001b[0;34m.\u001b[0m\u001b[0mretrieve\u001b[0m\u001b[0;34m(\u001b[0m\u001b[0;34m)\u001b[0m\u001b[0;34m\u001b[0m\u001b[0;34m\u001b[0m\u001b[0m\n\u001b[0m\u001b[1;32m   1055\u001b[0m             \u001b[0;31m# Make sure that we get a last message telling us we are done\u001b[0m\u001b[0;34m\u001b[0m\u001b[0;34m\u001b[0m\u001b[0;34m\u001b[0m\u001b[0m\n\u001b[1;32m   1056\u001b[0m             \u001b[0melapsed_time\u001b[0m \u001b[0;34m=\u001b[0m \u001b[0mtime\u001b[0m\u001b[0;34m.\u001b[0m\u001b[0mtime\u001b[0m\u001b[0;34m(\u001b[0m\u001b[0;34m)\u001b[0m \u001b[0;34m-\u001b[0m \u001b[0mself\u001b[0m\u001b[0;34m.\u001b[0m\u001b[0m_start_time\u001b[0m\u001b[0;34m\u001b[0m\u001b[0;34m\u001b[0m\u001b[0m\n",
      "\u001b[0;32m~/anaconda3/lib/python3.7/site-packages/joblib/parallel.py\u001b[0m in \u001b[0;36mretrieve\u001b[0;34m(self)\u001b[0m\n\u001b[1;32m    931\u001b[0m             \u001b[0;32mtry\u001b[0m\u001b[0;34m:\u001b[0m\u001b[0;34m\u001b[0m\u001b[0;34m\u001b[0m\u001b[0m\n\u001b[1;32m    932\u001b[0m                 \u001b[0;32mif\u001b[0m \u001b[0mgetattr\u001b[0m\u001b[0;34m(\u001b[0m\u001b[0mself\u001b[0m\u001b[0;34m.\u001b[0m\u001b[0m_backend\u001b[0m\u001b[0;34m,\u001b[0m \u001b[0;34m'supports_timeout'\u001b[0m\u001b[0;34m,\u001b[0m \u001b[0;32mFalse\u001b[0m\u001b[0;34m)\u001b[0m\u001b[0;34m:\u001b[0m\u001b[0;34m\u001b[0m\u001b[0;34m\u001b[0m\u001b[0m\n\u001b[0;32m--> 933\u001b[0;31m                     \u001b[0mself\u001b[0m\u001b[0;34m.\u001b[0m\u001b[0m_output\u001b[0m\u001b[0;34m.\u001b[0m\u001b[0mextend\u001b[0m\u001b[0;34m(\u001b[0m\u001b[0mjob\u001b[0m\u001b[0;34m.\u001b[0m\u001b[0mget\u001b[0m\u001b[0;34m(\u001b[0m\u001b[0mtimeout\u001b[0m\u001b[0;34m=\u001b[0m\u001b[0mself\u001b[0m\u001b[0;34m.\u001b[0m\u001b[0mtimeout\u001b[0m\u001b[0;34m)\u001b[0m\u001b[0;34m)\u001b[0m\u001b[0;34m\u001b[0m\u001b[0;34m\u001b[0m\u001b[0m\n\u001b[0m\u001b[1;32m    934\u001b[0m                 \u001b[0;32melse\u001b[0m\u001b[0;34m:\u001b[0m\u001b[0;34m\u001b[0m\u001b[0;34m\u001b[0m\u001b[0m\n\u001b[1;32m    935\u001b[0m                     \u001b[0mself\u001b[0m\u001b[0;34m.\u001b[0m\u001b[0m_output\u001b[0m\u001b[0;34m.\u001b[0m\u001b[0mextend\u001b[0m\u001b[0;34m(\u001b[0m\u001b[0mjob\u001b[0m\u001b[0;34m.\u001b[0m\u001b[0mget\u001b[0m\u001b[0;34m(\u001b[0m\u001b[0;34m)\u001b[0m\u001b[0;34m)\u001b[0m\u001b[0;34m\u001b[0m\u001b[0;34m\u001b[0m\u001b[0m\n",
      "\u001b[0;32m~/anaconda3/lib/python3.7/site-packages/joblib/_parallel_backends.py\u001b[0m in \u001b[0;36mwrap_future_result\u001b[0;34m(future, timeout)\u001b[0m\n\u001b[1;32m    540\u001b[0m         AsyncResults.get from multiprocessing.\"\"\"\n\u001b[1;32m    541\u001b[0m         \u001b[0;32mtry\u001b[0m\u001b[0;34m:\u001b[0m\u001b[0;34m\u001b[0m\u001b[0;34m\u001b[0m\u001b[0m\n\u001b[0;32m--> 542\u001b[0;31m             \u001b[0;32mreturn\u001b[0m \u001b[0mfuture\u001b[0m\u001b[0;34m.\u001b[0m\u001b[0mresult\u001b[0m\u001b[0;34m(\u001b[0m\u001b[0mtimeout\u001b[0m\u001b[0;34m=\u001b[0m\u001b[0mtimeout\u001b[0m\u001b[0;34m)\u001b[0m\u001b[0;34m\u001b[0m\u001b[0;34m\u001b[0m\u001b[0m\n\u001b[0m\u001b[1;32m    543\u001b[0m         \u001b[0;32mexcept\u001b[0m \u001b[0mCfTimeoutError\u001b[0m \u001b[0;32mas\u001b[0m \u001b[0me\u001b[0m\u001b[0;34m:\u001b[0m\u001b[0;34m\u001b[0m\u001b[0;34m\u001b[0m\u001b[0m\n\u001b[1;32m    544\u001b[0m             \u001b[0;32mraise\u001b[0m \u001b[0mTimeoutError\u001b[0m \u001b[0;32mfrom\u001b[0m \u001b[0me\u001b[0m\u001b[0;34m\u001b[0m\u001b[0;34m\u001b[0m\u001b[0m\n",
      "\u001b[0;32m~/anaconda3/lib/python3.7/concurrent/futures/_base.py\u001b[0m in \u001b[0;36mresult\u001b[0;34m(self, timeout)\u001b[0m\n\u001b[1;32m    428\u001b[0m                 \u001b[0;32mreturn\u001b[0m \u001b[0mself\u001b[0m\u001b[0;34m.\u001b[0m\u001b[0m__get_result\u001b[0m\u001b[0;34m(\u001b[0m\u001b[0;34m)\u001b[0m\u001b[0;34m\u001b[0m\u001b[0;34m\u001b[0m\u001b[0m\n\u001b[1;32m    429\u001b[0m \u001b[0;34m\u001b[0m\u001b[0m\n\u001b[0;32m--> 430\u001b[0;31m             \u001b[0mself\u001b[0m\u001b[0;34m.\u001b[0m\u001b[0m_condition\u001b[0m\u001b[0;34m.\u001b[0m\u001b[0mwait\u001b[0m\u001b[0;34m(\u001b[0m\u001b[0mtimeout\u001b[0m\u001b[0;34m)\u001b[0m\u001b[0;34m\u001b[0m\u001b[0;34m\u001b[0m\u001b[0m\n\u001b[0m\u001b[1;32m    431\u001b[0m \u001b[0;34m\u001b[0m\u001b[0m\n\u001b[1;32m    432\u001b[0m             \u001b[0;32mif\u001b[0m \u001b[0mself\u001b[0m\u001b[0;34m.\u001b[0m\u001b[0m_state\u001b[0m \u001b[0;32min\u001b[0m \u001b[0;34m[\u001b[0m\u001b[0mCANCELLED\u001b[0m\u001b[0;34m,\u001b[0m \u001b[0mCANCELLED_AND_NOTIFIED\u001b[0m\u001b[0;34m]\u001b[0m\u001b[0;34m:\u001b[0m\u001b[0;34m\u001b[0m\u001b[0;34m\u001b[0m\u001b[0m\n",
      "\u001b[0;32m~/anaconda3/lib/python3.7/threading.py\u001b[0m in \u001b[0;36mwait\u001b[0;34m(self, timeout)\u001b[0m\n\u001b[1;32m    294\u001b[0m         \u001b[0;32mtry\u001b[0m\u001b[0;34m:\u001b[0m    \u001b[0;31m# restore state no matter what (e.g., KeyboardInterrupt)\u001b[0m\u001b[0;34m\u001b[0m\u001b[0;34m\u001b[0m\u001b[0m\n\u001b[1;32m    295\u001b[0m             \u001b[0;32mif\u001b[0m \u001b[0mtimeout\u001b[0m \u001b[0;32mis\u001b[0m \u001b[0;32mNone\u001b[0m\u001b[0;34m:\u001b[0m\u001b[0;34m\u001b[0m\u001b[0;34m\u001b[0m\u001b[0m\n\u001b[0;32m--> 296\u001b[0;31m                 \u001b[0mwaiter\u001b[0m\u001b[0;34m.\u001b[0m\u001b[0macquire\u001b[0m\u001b[0;34m(\u001b[0m\u001b[0;34m)\u001b[0m\u001b[0;34m\u001b[0m\u001b[0;34m\u001b[0m\u001b[0m\n\u001b[0m\u001b[1;32m    297\u001b[0m                 \u001b[0mgotit\u001b[0m \u001b[0;34m=\u001b[0m \u001b[0;32mTrue\u001b[0m\u001b[0;34m\u001b[0m\u001b[0;34m\u001b[0m\u001b[0m\n\u001b[1;32m    298\u001b[0m             \u001b[0;32melse\u001b[0m\u001b[0;34m:\u001b[0m\u001b[0;34m\u001b[0m\u001b[0;34m\u001b[0m\u001b[0m\n",
      "\u001b[0;31mKeyboardInterrupt\u001b[0m: "
     ]
    }
   ],
   "source": [
    "catb_cv_model.fit(X_train, y_train)\n",
    "#zamanı normal bilgisayarda 45 dk sürdü burda çalıştırmadım. Performans olarak kötü bir yöntem. Ruslar veYandex sağolsun......"
   ]
  },
  {
   "cell_type": "code",
   "execution_count": null,
   "metadata": {},
   "outputs": [],
   "source": [
    "catb_cv_model.best_params_"
   ]
  },
  {
   "cell_type": "code",
   "execution_count": null,
   "metadata": {},
   "outputs": [],
   "source": [
    "catb_tuned = CatBoostRegressor(iterations = 200, \n",
    "                               learning_rate = 0.01, \n",
    "                               depth = 8)\n",
    "\n",
    "catb_tuned = catb_tuned.fit(X_train,y_train)"
   ]
  },
  {
   "cell_type": "code",
   "execution_count": null,
   "metadata": {},
   "outputs": [],
   "source": [
    "y_pred = catb_tuned.predict(X_test)\n",
    "np.sqrt(mean_squared_error(y_test, y_pred))"
   ]
  },
  {
   "cell_type": "code",
   "execution_count": null,
   "metadata": {},
   "outputs": [],
   "source": []
  },
  {
   "cell_type": "code",
   "execution_count": null,
   "metadata": {},
   "outputs": [],
   "source": []
  }
 ],
 "metadata": {
  "kernelspec": {
   "display_name": "Python 3",
   "language": "python",
   "name": "python3"
  },
  "language_info": {
   "codemirror_mode": {
    "name": "ipython",
    "version": 3
   },
   "file_extension": ".py",
   "mimetype": "text/x-python",
   "name": "python",
   "nbconvert_exporter": "python",
   "pygments_lexer": "ipython3",
   "version": "3.7.9"
  }
 },
 "nbformat": 4,
 "nbformat_minor": 4
}
